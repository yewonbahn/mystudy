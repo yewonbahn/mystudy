{
  "nbformat": 4,
  "nbformat_minor": 0,
  "metadata": {
    "colab": {
      "name": "0128_3_Pandas공부",
      "provenance": [],
      "collapsed_sections": [],
      "include_colab_link": true
    },
    "kernelspec": {
      "name": "python3",
      "display_name": "Python 3"
    }
  },
  "cells": [
    {
      "cell_type": "markdown",
      "metadata": {
        "id": "view-in-github",
        "colab_type": "text"
      },
      "source": [
        "<a href=\"https://colab.research.google.com/github/yewonbahn/mystudy/blob/master/0128_3_Pandas%EA%B3%B5%EB%B6%80.ipynb\" target=\"_parent\"><img src=\"https://colab.research.google.com/assets/colab-badge.svg\" alt=\"Open In Colab\"/></a>"
      ]
    },
    {
      "cell_type": "markdown",
      "metadata": {
        "id": "FWgwoCCLCFbe"
      },
      "source": [
        "# Pandas\n",
        "\n",
        "Pandas는 파이썬에서 사용하는 데이터분석 라이브러리로, 행과 열로 이루어진 데이터 객체를 만들어 다룰 수 있게 되며 보다 안정적으로 대용량의 데이터들을 처리하는데 매우 편리한 도구 입니다.\n",
        "\n",
        "\n",
        "\n",
        "먼저 pandas를 사용하기 위해서는 (pandas를 설치한 이후) 아래와 같이 import를 해야 합니다.\n",
        "\n",
        "\n",
        "```python\n",
        "import pandas as pd\n",
        "```"
      ]
    },
    {
      "cell_type": "markdown",
      "metadata": {
        "id": "hi30JJGFDW5F"
      },
      "source": [
        "## Pandas 기초\n",
        "\n",
        "## 1. Pandas 란?"
      ]
    },
    {
      "cell_type": "code",
      "metadata": {
        "id": "rFTWfgrjB_Fo"
      },
      "source": [
        "# pandas 사용하기\n",
        "import numpy as np # numpy 도 함께 import\n",
        "import pandas as pd"
      ],
      "execution_count": null,
      "outputs": []
    },
    {
      "cell_type": "markdown",
      "metadata": {
        "id": "SO2zZ1IODesU"
      },
      "source": [
        "## 2. Pandas 자료구조\n",
        "Pandas에서는 기본적으로 정의되는 자료구조인 Series와 Data Frame을 사용합니다.\n",
        "\n",
        "이 자료구조들은 빅 데이터 분석에 있어서 높은 수준의 성능을 보여줍니다.\n",
        "\n",
        "#### 2-1. Series\n",
        "먼저 Series에 대해서 알아보도록 하겠습니다."
      ]
    },
    {
      "cell_type": "code",
      "metadata": {
        "id": "X579knakDbQP",
        "colab": {
          "base_uri": "https://localhost:8080/",
          "height": 105
        },
        "outputId": "6b5686d7-c409-4eda-a698-5e91e42832b7"
      },
      "source": [
        "# Series 정의하기\n",
        "obj = pd.Series([4, 7, -5, 3])\n",
        "obj"
      ],
      "execution_count": null,
      "outputs": [
        {
          "output_type": "execute_result",
          "data": {
            "text/plain": [
              "0    4\n",
              "1    7\n",
              "2   -5\n",
              "3    3\n",
              "dtype: int64"
            ]
          },
          "metadata": {
            "tags": []
          },
          "execution_count": 208
        }
      ]
    },
    {
      "cell_type": "code",
      "metadata": {
        "id": "GK3ePsFMDmKh",
        "colab": {
          "base_uri": "https://localhost:8080/",
          "height": 35
        },
        "outputId": "ef6a1fab-a754-4ad2-d541-c4a1f726fcf9"
      },
      "source": [
        "# Series의 값만 확인하기\n",
        "obj.values"
      ],
      "execution_count": null,
      "outputs": [
        {
          "output_type": "execute_result",
          "data": {
            "text/plain": [
              "array([ 4,  7, -5,  3])"
            ]
          },
          "metadata": {
            "tags": []
          },
          "execution_count": 209
        }
      ]
    },
    {
      "cell_type": "code",
      "metadata": {
        "id": "9PYZMOlyDqeh",
        "colab": {
          "base_uri": "https://localhost:8080/",
          "height": 35
        },
        "outputId": "7bb0fcce-0b52-4ba0-e011-e0f54f550997"
      },
      "source": [
        "# Series의 인덱스만 확인하기\n",
        "obj.index"
      ],
      "execution_count": null,
      "outputs": [
        {
          "output_type": "execute_result",
          "data": {
            "text/plain": [
              "RangeIndex(start=0, stop=4, step=1)"
            ]
          },
          "metadata": {
            "tags": []
          },
          "execution_count": 210
        }
      ]
    },
    {
      "cell_type": "code",
      "metadata": {
        "id": "xQdPD4g0Emim",
        "colab": {
          "base_uri": "https://localhost:8080/",
          "height": 35
        },
        "outputId": "40aacf6a-d2bc-431e-c709-7f28ac3cd608"
      },
      "source": [
        "# Series의 자료형 확인하기\n",
        "obj.dtypes"
      ],
      "execution_count": null,
      "outputs": [
        {
          "output_type": "execute_result",
          "data": {
            "text/plain": [
              "dtype('int64')"
            ]
          },
          "metadata": {
            "tags": []
          },
          "execution_count": 211
        }
      ]
    },
    {
      "cell_type": "code",
      "metadata": {
        "id": "fq2gi5WMEoDz",
        "colab": {
          "base_uri": "https://localhost:8080/",
          "height": 105
        },
        "outputId": "2ff990be-7d73-45bc-8b00-f817d77dba81"
      },
      "source": [
        "# 인덱스를 바꿀 수 있다.\n",
        "obj2 = pd.Series([4, 7, -5, 3], index=['d', 'b', 'a', 'c'])\n",
        "obj2"
      ],
      "execution_count": null,
      "outputs": [
        {
          "output_type": "execute_result",
          "data": {
            "text/plain": [
              "d    4\n",
              "b    7\n",
              "a   -5\n",
              "c    3\n",
              "dtype: int64"
            ]
          },
          "metadata": {
            "tags": []
          },
          "execution_count": 212
        }
      ]
    },
    {
      "cell_type": "code",
      "metadata": {
        "id": "RDgsqUjGEppD",
        "colab": {
          "base_uri": "https://localhost:8080/",
          "height": 105
        },
        "outputId": "6eb1afe3-4042-4d5c-cbc8-c8534a387d60"
      },
      "source": [
        "# python의 dictionary 자료형을 Series data로 만들 수 있다.\n",
        "# dictionary의 key가 Series의 index가 된다\n",
        "sdata = {'Kim': 35000, 'Beomwoo': 67000, 'Joan': 12000, 'Choi': 4000}\n",
        "obj3 = pd.Series(sdata)\n",
        "obj3"
      ],
      "execution_count": null,
      "outputs": [
        {
          "output_type": "execute_result",
          "data": {
            "text/plain": [
              "Kim        35000\n",
              "Beomwoo    67000\n",
              "Joan       12000\n",
              "Choi        4000\n",
              "dtype: int64"
            ]
          },
          "metadata": {
            "tags": []
          },
          "execution_count": 213
        }
      ]
    },
    {
      "cell_type": "code",
      "metadata": {
        "id": "IWkh3Dn6EtKl",
        "colab": {
          "base_uri": "https://localhost:8080/",
          "height": 122
        },
        "outputId": "2cfde0b1-0078-4d4a-991a-c29dff17177d"
      },
      "source": [
        "# Pandas Series 객체 자체의 이름\n",
        "# Pandas index에 이름\n",
        "# 을 붙일 수 있다\n",
        "obj3.name = 'Salary'\n",
        "obj3.index.name = \"Names\"\n",
        "obj3"
      ],
      "execution_count": null,
      "outputs": [
        {
          "output_type": "execute_result",
          "data": {
            "text/plain": [
              "Names\n",
              "Kim        35000\n",
              "Beomwoo    67000\n",
              "Joan       12000\n",
              "Choi        4000\n",
              "Name: Salary, dtype: int64"
            ]
          },
          "metadata": {
            "tags": []
          },
          "execution_count": 214
        }
      ]
    },
    {
      "cell_type": "code",
      "metadata": {
        "id": "iV4gNnsiEwfD",
        "colab": {
          "base_uri": "https://localhost:8080/",
          "height": 105
        },
        "outputId": "c9b6e838-efff-47bd-c605-4016740f767c"
      },
      "source": [
        "# index 변경. 이렇게 메서드로 바로 변경할 수 있다.\n",
        "obj3.index = ['A', 'B', 'C', 'D']\n",
        "obj3"
      ],
      "execution_count": null,
      "outputs": [
        {
          "output_type": "execute_result",
          "data": {
            "text/plain": [
              "A    35000\n",
              "B    67000\n",
              "C    12000\n",
              "D     4000\n",
              "Name: Salary, dtype: int64"
            ]
          },
          "metadata": {
            "tags": []
          },
          "execution_count": 215
        }
      ]
    },
    {
      "cell_type": "markdown",
      "metadata": {
        "id": "Xbrcn2xgE0M2"
      },
      "source": [
        "#### 2-2. Data Frame\n",
        "이번에는 Data Frame에 대해서 알아보도록 하겠습니다."
      ]
    },
    {
      "cell_type": "code",
      "metadata": {
        "id": "aJquinawEx6_",
        "colab": {
          "base_uri": "https://localhost:8080/",
          "height": 191
        },
        "outputId": "08170cab-2e9b-483c-84ba-650baf9c3fc1"
      },
      "source": [
        "# Data Frame 정의하기\n",
        "# 이전에 DataFrame에 들어갈 데이터를 정의해주어야 하는데,\n",
        "# 이는 python의 dictionary 또는 numpy의 array로 정의할 수 있다.\n",
        "data = {'name': ['Beomwoo', 'Beomwoo', 'Beomwoo', 'Kim', 'Park'],\n",
        "        'year': [2013, 2014, 2015, 2016, 2015],\n",
        "        'points': [1.5, 1.7, 3.6, 2.4, 2.9]}\n",
        "df = pd.DataFrame(data)\n",
        "df"
      ],
      "execution_count": null,
      "outputs": [
        {
          "output_type": "execute_result",
          "data": {
            "text/html": [
              "<div>\n",
              "<style scoped>\n",
              "    .dataframe tbody tr th:only-of-type {\n",
              "        vertical-align: middle;\n",
              "    }\n",
              "\n",
              "    .dataframe tbody tr th {\n",
              "        vertical-align: top;\n",
              "    }\n",
              "\n",
              "    .dataframe thead th {\n",
              "        text-align: right;\n",
              "    }\n",
              "</style>\n",
              "<table border=\"1\" class=\"dataframe\">\n",
              "  <thead>\n",
              "    <tr style=\"text-align: right;\">\n",
              "      <th></th>\n",
              "      <th>name</th>\n",
              "      <th>year</th>\n",
              "      <th>points</th>\n",
              "    </tr>\n",
              "  </thead>\n",
              "  <tbody>\n",
              "    <tr>\n",
              "      <th>0</th>\n",
              "      <td>Beomwoo</td>\n",
              "      <td>2013</td>\n",
              "      <td>1.5</td>\n",
              "    </tr>\n",
              "    <tr>\n",
              "      <th>1</th>\n",
              "      <td>Beomwoo</td>\n",
              "      <td>2014</td>\n",
              "      <td>1.7</td>\n",
              "    </tr>\n",
              "    <tr>\n",
              "      <th>2</th>\n",
              "      <td>Beomwoo</td>\n",
              "      <td>2015</td>\n",
              "      <td>3.6</td>\n",
              "    </tr>\n",
              "    <tr>\n",
              "      <th>3</th>\n",
              "      <td>Kim</td>\n",
              "      <td>2016</td>\n",
              "      <td>2.4</td>\n",
              "    </tr>\n",
              "    <tr>\n",
              "      <th>4</th>\n",
              "      <td>Park</td>\n",
              "      <td>2015</td>\n",
              "      <td>2.9</td>\n",
              "    </tr>\n",
              "  </tbody>\n",
              "</table>\n",
              "</div>"
            ],
            "text/plain": [
              "      name  year  points\n",
              "0  Beomwoo  2013     1.5\n",
              "1  Beomwoo  2014     1.7\n",
              "2  Beomwoo  2015     3.6\n",
              "3      Kim  2016     2.4\n",
              "4     Park  2015     2.9"
            ]
          },
          "metadata": {
            "tags": []
          },
          "execution_count": 216
        }
      ]
    },
    {
      "cell_type": "code",
      "metadata": {
        "id": "fVmZFjHCE5m4"
      },
      "source": [
        "# 행과 열의 구조를 가진 데이터가 생긴다."
      ],
      "execution_count": null,
      "outputs": []
    },
    {
      "cell_type": "code",
      "metadata": {
        "id": "emNqZLi_E8EN",
        "colab": {
          "base_uri": "https://localhost:8080/",
          "height": 35
        },
        "outputId": "697f2805-ce29-41dc-89c4-7d934abe67ec"
      },
      "source": [
        "# 행 방향의 index\n",
        "df.index"
      ],
      "execution_count": null,
      "outputs": [
        {
          "output_type": "execute_result",
          "data": {
            "text/plain": [
              "RangeIndex(start=0, stop=5, step=1)"
            ]
          },
          "metadata": {
            "tags": []
          },
          "execution_count": 218
        }
      ]
    },
    {
      "cell_type": "code",
      "metadata": {
        "id": "aXCn2wsDE9-t",
        "colab": {
          "base_uri": "https://localhost:8080/",
          "height": 35
        },
        "outputId": "d9cb8290-0419-434e-b0c5-6906093b24b7"
      },
      "source": [
        "# 열 방향의 index\n",
        "df.columns"
      ],
      "execution_count": null,
      "outputs": [
        {
          "output_type": "execute_result",
          "data": {
            "text/plain": [
              "Index(['name', 'year', 'points'], dtype='object')"
            ]
          },
          "metadata": {
            "tags": []
          },
          "execution_count": 219
        }
      ]
    },
    {
      "cell_type": "code",
      "metadata": {
        "id": "Gjta21ewE_x8",
        "colab": {
          "base_uri": "https://localhost:8080/",
          "height": 105
        },
        "outputId": "582ceffe-ee41-4fb2-b58b-1e0872b35f01"
      },
      "source": [
        "# 값 얻기\n",
        "df.values"
      ],
      "execution_count": null,
      "outputs": [
        {
          "output_type": "execute_result",
          "data": {
            "text/plain": [
              "array([['Beomwoo', 2013, 1.5],\n",
              "       ['Beomwoo', 2014, 1.7],\n",
              "       ['Beomwoo', 2015, 3.6],\n",
              "       ['Kim', 2016, 2.4],\n",
              "       ['Park', 2015, 2.9]], dtype=object)"
            ]
          },
          "metadata": {
            "tags": []
          },
          "execution_count": 220
        }
      ]
    },
    {
      "cell_type": "code",
      "metadata": {
        "id": "qPuuUmGlFDCC",
        "colab": {
          "base_uri": "https://localhost:8080/",
          "height": 220
        },
        "outputId": "00d5423a-7069-415e-f41b-22ae204673e1"
      },
      "source": [
        "# 각 인덱스에 대한 이름 설정하기\n",
        "df.index.name = 'Num'\n",
        "df.columns.name = 'Info'\n",
        "df"
      ],
      "execution_count": null,
      "outputs": [
        {
          "output_type": "execute_result",
          "data": {
            "text/html": [
              "<div>\n",
              "<style scoped>\n",
              "    .dataframe tbody tr th:only-of-type {\n",
              "        vertical-align: middle;\n",
              "    }\n",
              "\n",
              "    .dataframe tbody tr th {\n",
              "        vertical-align: top;\n",
              "    }\n",
              "\n",
              "    .dataframe thead th {\n",
              "        text-align: right;\n",
              "    }\n",
              "</style>\n",
              "<table border=\"1\" class=\"dataframe\">\n",
              "  <thead>\n",
              "    <tr style=\"text-align: right;\">\n",
              "      <th>Info</th>\n",
              "      <th>name</th>\n",
              "      <th>year</th>\n",
              "      <th>points</th>\n",
              "    </tr>\n",
              "    <tr>\n",
              "      <th>Num</th>\n",
              "      <th></th>\n",
              "      <th></th>\n",
              "      <th></th>\n",
              "    </tr>\n",
              "  </thead>\n",
              "  <tbody>\n",
              "    <tr>\n",
              "      <th>0</th>\n",
              "      <td>Beomwoo</td>\n",
              "      <td>2013</td>\n",
              "      <td>1.5</td>\n",
              "    </tr>\n",
              "    <tr>\n",
              "      <th>1</th>\n",
              "      <td>Beomwoo</td>\n",
              "      <td>2014</td>\n",
              "      <td>1.7</td>\n",
              "    </tr>\n",
              "    <tr>\n",
              "      <th>2</th>\n",
              "      <td>Beomwoo</td>\n",
              "      <td>2015</td>\n",
              "      <td>3.6</td>\n",
              "    </tr>\n",
              "    <tr>\n",
              "      <th>3</th>\n",
              "      <td>Kim</td>\n",
              "      <td>2016</td>\n",
              "      <td>2.4</td>\n",
              "    </tr>\n",
              "    <tr>\n",
              "      <th>4</th>\n",
              "      <td>Park</td>\n",
              "      <td>2015</td>\n",
              "      <td>2.9</td>\n",
              "    </tr>\n",
              "  </tbody>\n",
              "</table>\n",
              "</div>"
            ],
            "text/plain": [
              "Info     name  year  points\n",
              "Num                        \n",
              "0     Beomwoo  2013     1.5\n",
              "1     Beomwoo  2014     1.7\n",
              "2     Beomwoo  2015     3.6\n",
              "3         Kim  2016     2.4\n",
              "4        Park  2015     2.9"
            ]
          },
          "metadata": {
            "tags": []
          },
          "execution_count": 221
        }
      ]
    },
    {
      "cell_type": "code",
      "metadata": {
        "id": "u80HzBC6FEQA",
        "colab": {
          "base_uri": "https://localhost:8080/",
          "height": 191
        },
        "outputId": "bc9e5101-741f-4a03-8457-aae8a4501c7f"
      },
      "source": [
        "# DataFrame을 만들면서 동시에 columns와 index를 설정할 수 있다.\n",
        "df2 = pd.DataFrame(data, columns=['year', 'name', 'points', 'penalty'],\n",
        "                  index=['one', 'two', 'three', 'four', 'five'])\n",
        "df2"
      ],
      "execution_count": null,
      "outputs": [
        {
          "output_type": "execute_result",
          "data": {
            "text/html": [
              "<div>\n",
              "<style scoped>\n",
              "    .dataframe tbody tr th:only-of-type {\n",
              "        vertical-align: middle;\n",
              "    }\n",
              "\n",
              "    .dataframe tbody tr th {\n",
              "        vertical-align: top;\n",
              "    }\n",
              "\n",
              "    .dataframe thead th {\n",
              "        text-align: right;\n",
              "    }\n",
              "</style>\n",
              "<table border=\"1\" class=\"dataframe\">\n",
              "  <thead>\n",
              "    <tr style=\"text-align: right;\">\n",
              "      <th></th>\n",
              "      <th>year</th>\n",
              "      <th>name</th>\n",
              "      <th>points</th>\n",
              "      <th>penalty</th>\n",
              "    </tr>\n",
              "  </thead>\n",
              "  <tbody>\n",
              "    <tr>\n",
              "      <th>one</th>\n",
              "      <td>2013</td>\n",
              "      <td>Beomwoo</td>\n",
              "      <td>1.5</td>\n",
              "      <td>NaN</td>\n",
              "    </tr>\n",
              "    <tr>\n",
              "      <th>two</th>\n",
              "      <td>2014</td>\n",
              "      <td>Beomwoo</td>\n",
              "      <td>1.7</td>\n",
              "      <td>NaN</td>\n",
              "    </tr>\n",
              "    <tr>\n",
              "      <th>three</th>\n",
              "      <td>2015</td>\n",
              "      <td>Beomwoo</td>\n",
              "      <td>3.6</td>\n",
              "      <td>NaN</td>\n",
              "    </tr>\n",
              "    <tr>\n",
              "      <th>four</th>\n",
              "      <td>2016</td>\n",
              "      <td>Kim</td>\n",
              "      <td>2.4</td>\n",
              "      <td>NaN</td>\n",
              "    </tr>\n",
              "    <tr>\n",
              "      <th>five</th>\n",
              "      <td>2015</td>\n",
              "      <td>Park</td>\n",
              "      <td>2.9</td>\n",
              "      <td>NaN</td>\n",
              "    </tr>\n",
              "  </tbody>\n",
              "</table>\n",
              "</div>"
            ],
            "text/plain": [
              "       year     name  points penalty\n",
              "one    2013  Beomwoo     1.5     NaN\n",
              "two    2014  Beomwoo     1.7     NaN\n",
              "three  2015  Beomwoo     3.6     NaN\n",
              "four   2016      Kim     2.4     NaN\n",
              "five   2015     Park     2.9     NaN"
            ]
          },
          "metadata": {
            "tags": []
          },
          "execution_count": 222
        }
      ]
    },
    {
      "cell_type": "markdown",
      "metadata": {
        "id": "RssdCeSTFQfi"
      },
      "source": [
        "### NaN??\n",
        "\n",
        "DataFrame을 정의하면서, data로 들어가는 값은 python dictionary와 columns의 순서가 달라도 알아서 맞춰서 정의된다.\n",
        "\n",
        "하지만 data에 포함되어 있지 않은 값은 NaN(Not a Number)으로 나타나게 되는데,\n",
        "\n",
        "이는 null과 같은 개념이다.\n",
        "\n",
        "NaN값은 추후에 어떠한 방법으로도 처리가 되지 않는 데이터이다.\n",
        "\n",
        "따라서 올바른 데이터 처리를 위해 추가적으로 값을 넣어줘야 한다."
      ]
    },
    {
      "cell_type": "code",
      "metadata": {
        "id": "nLjhlnccFInd",
        "colab": {
          "base_uri": "https://localhost:8080/",
          "height": 277
        },
        "outputId": "1481a420-cd38-4809-f265-09ca95d34fe5"
      },
      "source": [
        "# describe() 함수는 DataFrame의 계산 가능한 값들에 대한 다양한 계산 값을 보여준다.\n",
        "df2.describe()"
      ],
      "execution_count": null,
      "outputs": [
        {
          "output_type": "execute_result",
          "data": {
            "text/html": [
              "<div>\n",
              "<style scoped>\n",
              "    .dataframe tbody tr th:only-of-type {\n",
              "        vertical-align: middle;\n",
              "    }\n",
              "\n",
              "    .dataframe tbody tr th {\n",
              "        vertical-align: top;\n",
              "    }\n",
              "\n",
              "    .dataframe thead th {\n",
              "        text-align: right;\n",
              "    }\n",
              "</style>\n",
              "<table border=\"1\" class=\"dataframe\">\n",
              "  <thead>\n",
              "    <tr style=\"text-align: right;\">\n",
              "      <th></th>\n",
              "      <th>year</th>\n",
              "      <th>points</th>\n",
              "    </tr>\n",
              "  </thead>\n",
              "  <tbody>\n",
              "    <tr>\n",
              "      <th>count</th>\n",
              "      <td>5.000000</td>\n",
              "      <td>5.000000</td>\n",
              "    </tr>\n",
              "    <tr>\n",
              "      <th>mean</th>\n",
              "      <td>2014.600000</td>\n",
              "      <td>2.420000</td>\n",
              "    </tr>\n",
              "    <tr>\n",
              "      <th>std</th>\n",
              "      <td>1.140175</td>\n",
              "      <td>0.864292</td>\n",
              "    </tr>\n",
              "    <tr>\n",
              "      <th>min</th>\n",
              "      <td>2013.000000</td>\n",
              "      <td>1.500000</td>\n",
              "    </tr>\n",
              "    <tr>\n",
              "      <th>25%</th>\n",
              "      <td>2014.000000</td>\n",
              "      <td>1.700000</td>\n",
              "    </tr>\n",
              "    <tr>\n",
              "      <th>50%</th>\n",
              "      <td>2015.000000</td>\n",
              "      <td>2.400000</td>\n",
              "    </tr>\n",
              "    <tr>\n",
              "      <th>75%</th>\n",
              "      <td>2015.000000</td>\n",
              "      <td>2.900000</td>\n",
              "    </tr>\n",
              "    <tr>\n",
              "      <th>max</th>\n",
              "      <td>2016.000000</td>\n",
              "      <td>3.600000</td>\n",
              "    </tr>\n",
              "  </tbody>\n",
              "</table>\n",
              "</div>"
            ],
            "text/plain": [
              "              year    points\n",
              "count     5.000000  5.000000\n",
              "mean   2014.600000  2.420000\n",
              "std       1.140175  0.864292\n",
              "min    2013.000000  1.500000\n",
              "25%    2014.000000  1.700000\n",
              "50%    2015.000000  2.400000\n",
              "75%    2015.000000  2.900000\n",
              "max    2016.000000  3.600000"
            ]
          },
          "metadata": {
            "tags": []
          },
          "execution_count": 223
        }
      ]
    },
    {
      "cell_type": "markdown",
      "metadata": {
        "id": "M7L9WeARFVJw"
      },
      "source": [
        "### 3. DataFrame Indexing"
      ]
    },
    {
      "cell_type": "code",
      "metadata": {
        "id": "-7rKZt4DFTqL",
        "colab": {
          "base_uri": "https://localhost:8080/",
          "height": 191
        },
        "outputId": "c7a4ad61-3321-43cf-8bca-a49f62788e00"
      },
      "source": [
        "data = {\"names\": [\"Kilho\", \"Kilho\", \"Kilho\", \"Charles\", \"Charles\"],\n",
        "           \"year\": [2014, 2015, 2016, 2015, 2016],\n",
        "           \"points\": [1.5, 1.7, 3.6, 2.4, 2.9]}\n",
        "df = pd.DataFrame(data, columns=[\"year\", \"names\", \"points\", \"penalty\"],\n",
        "                          index=[\"one\", \"two\", \"three\", \"four\", \"five\"])\n",
        "df"
      ],
      "execution_count": null,
      "outputs": [
        {
          "output_type": "execute_result",
          "data": {
            "text/html": [
              "<div>\n",
              "<style scoped>\n",
              "    .dataframe tbody tr th:only-of-type {\n",
              "        vertical-align: middle;\n",
              "    }\n",
              "\n",
              "    .dataframe tbody tr th {\n",
              "        vertical-align: top;\n",
              "    }\n",
              "\n",
              "    .dataframe thead th {\n",
              "        text-align: right;\n",
              "    }\n",
              "</style>\n",
              "<table border=\"1\" class=\"dataframe\">\n",
              "  <thead>\n",
              "    <tr style=\"text-align: right;\">\n",
              "      <th></th>\n",
              "      <th>year</th>\n",
              "      <th>names</th>\n",
              "      <th>points</th>\n",
              "      <th>penalty</th>\n",
              "    </tr>\n",
              "  </thead>\n",
              "  <tbody>\n",
              "    <tr>\n",
              "      <th>one</th>\n",
              "      <td>2014</td>\n",
              "      <td>Kilho</td>\n",
              "      <td>1.5</td>\n",
              "      <td>NaN</td>\n",
              "    </tr>\n",
              "    <tr>\n",
              "      <th>two</th>\n",
              "      <td>2015</td>\n",
              "      <td>Kilho</td>\n",
              "      <td>1.7</td>\n",
              "      <td>NaN</td>\n",
              "    </tr>\n",
              "    <tr>\n",
              "      <th>three</th>\n",
              "      <td>2016</td>\n",
              "      <td>Kilho</td>\n",
              "      <td>3.6</td>\n",
              "      <td>NaN</td>\n",
              "    </tr>\n",
              "    <tr>\n",
              "      <th>four</th>\n",
              "      <td>2015</td>\n",
              "      <td>Charles</td>\n",
              "      <td>2.4</td>\n",
              "      <td>NaN</td>\n",
              "    </tr>\n",
              "    <tr>\n",
              "      <th>five</th>\n",
              "      <td>2016</td>\n",
              "      <td>Charles</td>\n",
              "      <td>2.9</td>\n",
              "      <td>NaN</td>\n",
              "    </tr>\n",
              "  </tbody>\n",
              "</table>\n",
              "</div>"
            ],
            "text/plain": [
              "       year    names  points penalty\n",
              "one    2014    Kilho     1.5     NaN\n",
              "two    2015    Kilho     1.7     NaN\n",
              "three  2016    Kilho     3.6     NaN\n",
              "four   2015  Charles     2.4     NaN\n",
              "five   2016  Charles     2.9     NaN"
            ]
          },
          "metadata": {
            "tags": []
          },
          "execution_count": 224
        }
      ]
    },
    {
      "cell_type": "markdown",
      "metadata": {
        "id": "TabyKa5-FaYY"
      },
      "source": [
        "#### 3-1. DataFrame에서 열을 선택하고 조작하기"
      ]
    },
    {
      "cell_type": "code",
      "metadata": {
        "id": "ASc1TIbgFYe8",
        "colab": {
          "base_uri": "https://localhost:8080/",
          "height": 122
        },
        "outputId": "33457921-2b6d-4414-d059-a8f8557ed8b4"
      },
      "source": [
        "df['year']"
      ],
      "execution_count": null,
      "outputs": [
        {
          "output_type": "execute_result",
          "data": {
            "text/plain": [
              "one      2014\n",
              "two      2015\n",
              "three    2016\n",
              "four     2015\n",
              "five     2016\n",
              "Name: year, dtype: int64"
            ]
          },
          "metadata": {
            "tags": []
          },
          "execution_count": 225
        }
      ]
    },
    {
      "cell_type": "code",
      "metadata": {
        "id": "NLbS2CUtFeCx",
        "colab": {
          "base_uri": "https://localhost:8080/",
          "height": 191
        },
        "outputId": "a0deb362-46b6-4aeb-b504-eae5c80278cf"
      },
      "source": [
        "df[['year','points']]"
      ],
      "execution_count": null,
      "outputs": [
        {
          "output_type": "execute_result",
          "data": {
            "text/html": [
              "<div>\n",
              "<style scoped>\n",
              "    .dataframe tbody tr th:only-of-type {\n",
              "        vertical-align: middle;\n",
              "    }\n",
              "\n",
              "    .dataframe tbody tr th {\n",
              "        vertical-align: top;\n",
              "    }\n",
              "\n",
              "    .dataframe thead th {\n",
              "        text-align: right;\n",
              "    }\n",
              "</style>\n",
              "<table border=\"1\" class=\"dataframe\">\n",
              "  <thead>\n",
              "    <tr style=\"text-align: right;\">\n",
              "      <th></th>\n",
              "      <th>year</th>\n",
              "      <th>points</th>\n",
              "    </tr>\n",
              "  </thead>\n",
              "  <tbody>\n",
              "    <tr>\n",
              "      <th>one</th>\n",
              "      <td>2014</td>\n",
              "      <td>1.5</td>\n",
              "    </tr>\n",
              "    <tr>\n",
              "      <th>two</th>\n",
              "      <td>2015</td>\n",
              "      <td>1.7</td>\n",
              "    </tr>\n",
              "    <tr>\n",
              "      <th>three</th>\n",
              "      <td>2016</td>\n",
              "      <td>3.6</td>\n",
              "    </tr>\n",
              "    <tr>\n",
              "      <th>four</th>\n",
              "      <td>2015</td>\n",
              "      <td>2.4</td>\n",
              "    </tr>\n",
              "    <tr>\n",
              "      <th>five</th>\n",
              "      <td>2016</td>\n",
              "      <td>2.9</td>\n",
              "    </tr>\n",
              "  </tbody>\n",
              "</table>\n",
              "</div>"
            ],
            "text/plain": [
              "       year  points\n",
              "one    2014     1.5\n",
              "two    2015     1.7\n",
              "three  2016     3.6\n",
              "four   2015     2.4\n",
              "five   2016     2.9"
            ]
          },
          "metadata": {
            "tags": []
          },
          "execution_count": 226
        }
      ]
    },
    {
      "cell_type": "code",
      "metadata": {
        "id": "T4uxKBqcFfCD"
      },
      "source": [
        "# 특정 열에 대해 위와 같이 선택하고, 우리가 원하는 값을 대입할 수 있다.\n",
        "df['penalty'] = 0.5"
      ],
      "execution_count": null,
      "outputs": []
    },
    {
      "cell_type": "code",
      "metadata": {
        "id": "AVOTiT0hFgVb",
        "colab": {
          "base_uri": "https://localhost:8080/",
          "height": 191
        },
        "outputId": "8ebca3dd-828b-4695-8fa8-27bb74160b02"
      },
      "source": [
        "df"
      ],
      "execution_count": null,
      "outputs": [
        {
          "output_type": "execute_result",
          "data": {
            "text/html": [
              "<div>\n",
              "<style scoped>\n",
              "    .dataframe tbody tr th:only-of-type {\n",
              "        vertical-align: middle;\n",
              "    }\n",
              "\n",
              "    .dataframe tbody tr th {\n",
              "        vertical-align: top;\n",
              "    }\n",
              "\n",
              "    .dataframe thead th {\n",
              "        text-align: right;\n",
              "    }\n",
              "</style>\n",
              "<table border=\"1\" class=\"dataframe\">\n",
              "  <thead>\n",
              "    <tr style=\"text-align: right;\">\n",
              "      <th></th>\n",
              "      <th>year</th>\n",
              "      <th>names</th>\n",
              "      <th>points</th>\n",
              "      <th>penalty</th>\n",
              "    </tr>\n",
              "  </thead>\n",
              "  <tbody>\n",
              "    <tr>\n",
              "      <th>one</th>\n",
              "      <td>2014</td>\n",
              "      <td>Kilho</td>\n",
              "      <td>1.5</td>\n",
              "      <td>0.5</td>\n",
              "    </tr>\n",
              "    <tr>\n",
              "      <th>two</th>\n",
              "      <td>2015</td>\n",
              "      <td>Kilho</td>\n",
              "      <td>1.7</td>\n",
              "      <td>0.5</td>\n",
              "    </tr>\n",
              "    <tr>\n",
              "      <th>three</th>\n",
              "      <td>2016</td>\n",
              "      <td>Kilho</td>\n",
              "      <td>3.6</td>\n",
              "      <td>0.5</td>\n",
              "    </tr>\n",
              "    <tr>\n",
              "      <th>four</th>\n",
              "      <td>2015</td>\n",
              "      <td>Charles</td>\n",
              "      <td>2.4</td>\n",
              "      <td>0.5</td>\n",
              "    </tr>\n",
              "    <tr>\n",
              "      <th>five</th>\n",
              "      <td>2016</td>\n",
              "      <td>Charles</td>\n",
              "      <td>2.9</td>\n",
              "      <td>0.5</td>\n",
              "    </tr>\n",
              "  </tbody>\n",
              "</table>\n",
              "</div>"
            ],
            "text/plain": [
              "       year    names  points  penalty\n",
              "one    2014    Kilho     1.5      0.5\n",
              "two    2015    Kilho     1.7      0.5\n",
              "three  2016    Kilho     3.6      0.5\n",
              "four   2015  Charles     2.4      0.5\n",
              "five   2016  Charles     2.9      0.5"
            ]
          },
          "metadata": {
            "tags": []
          },
          "execution_count": 228
        }
      ]
    },
    {
      "cell_type": "code",
      "metadata": {
        "id": "gY2LN9LwFhX6"
      },
      "source": [
        "# 또는\n",
        "df['penalty'] = [0.1, 0.2, 0.3, 0.4, 0.5] # python의 List나 numpy의 array"
      ],
      "execution_count": null,
      "outputs": []
    },
    {
      "cell_type": "code",
      "metadata": {
        "id": "8oHgd2N3FjGV",
        "colab": {
          "base_uri": "https://localhost:8080/",
          "height": 191
        },
        "outputId": "2cae7221-fa0b-44ea-d4d3-1b68738ebe21"
      },
      "source": [
        "df"
      ],
      "execution_count": null,
      "outputs": [
        {
          "output_type": "execute_result",
          "data": {
            "text/html": [
              "<div>\n",
              "<style scoped>\n",
              "    .dataframe tbody tr th:only-of-type {\n",
              "        vertical-align: middle;\n",
              "    }\n",
              "\n",
              "    .dataframe tbody tr th {\n",
              "        vertical-align: top;\n",
              "    }\n",
              "\n",
              "    .dataframe thead th {\n",
              "        text-align: right;\n",
              "    }\n",
              "</style>\n",
              "<table border=\"1\" class=\"dataframe\">\n",
              "  <thead>\n",
              "    <tr style=\"text-align: right;\">\n",
              "      <th></th>\n",
              "      <th>year</th>\n",
              "      <th>names</th>\n",
              "      <th>points</th>\n",
              "      <th>penalty</th>\n",
              "    </tr>\n",
              "  </thead>\n",
              "  <tbody>\n",
              "    <tr>\n",
              "      <th>one</th>\n",
              "      <td>2014</td>\n",
              "      <td>Kilho</td>\n",
              "      <td>1.5</td>\n",
              "      <td>0.1</td>\n",
              "    </tr>\n",
              "    <tr>\n",
              "      <th>two</th>\n",
              "      <td>2015</td>\n",
              "      <td>Kilho</td>\n",
              "      <td>1.7</td>\n",
              "      <td>0.2</td>\n",
              "    </tr>\n",
              "    <tr>\n",
              "      <th>three</th>\n",
              "      <td>2016</td>\n",
              "      <td>Kilho</td>\n",
              "      <td>3.6</td>\n",
              "      <td>0.3</td>\n",
              "    </tr>\n",
              "    <tr>\n",
              "      <th>four</th>\n",
              "      <td>2015</td>\n",
              "      <td>Charles</td>\n",
              "      <td>2.4</td>\n",
              "      <td>0.4</td>\n",
              "    </tr>\n",
              "    <tr>\n",
              "      <th>five</th>\n",
              "      <td>2016</td>\n",
              "      <td>Charles</td>\n",
              "      <td>2.9</td>\n",
              "      <td>0.5</td>\n",
              "    </tr>\n",
              "  </tbody>\n",
              "</table>\n",
              "</div>"
            ],
            "text/plain": [
              "       year    names  points  penalty\n",
              "one    2014    Kilho     1.5      0.1\n",
              "two    2015    Kilho     1.7      0.2\n",
              "three  2016    Kilho     3.6      0.3\n",
              "four   2015  Charles     2.4      0.4\n",
              "five   2016  Charles     2.9      0.5"
            ]
          },
          "metadata": {
            "tags": []
          },
          "execution_count": 230
        }
      ]
    },
    {
      "cell_type": "code",
      "metadata": {
        "id": "PhpbjWNHFkCE"
      },
      "source": [
        "# 새로운 열을 추가하기\n",
        "df['zeros'] = np.arange(5)"
      ],
      "execution_count": null,
      "outputs": []
    },
    {
      "cell_type": "code",
      "metadata": {
        "id": "kP1pQpN4FlhI",
        "colab": {
          "base_uri": "https://localhost:8080/",
          "height": 191
        },
        "outputId": "2a1cd08f-f9d2-45d5-cc1f-6ac8f1006aa9"
      },
      "source": [
        "df"
      ],
      "execution_count": null,
      "outputs": [
        {
          "output_type": "execute_result",
          "data": {
            "text/html": [
              "<div>\n",
              "<style scoped>\n",
              "    .dataframe tbody tr th:only-of-type {\n",
              "        vertical-align: middle;\n",
              "    }\n",
              "\n",
              "    .dataframe tbody tr th {\n",
              "        vertical-align: top;\n",
              "    }\n",
              "\n",
              "    .dataframe thead th {\n",
              "        text-align: right;\n",
              "    }\n",
              "</style>\n",
              "<table border=\"1\" class=\"dataframe\">\n",
              "  <thead>\n",
              "    <tr style=\"text-align: right;\">\n",
              "      <th></th>\n",
              "      <th>year</th>\n",
              "      <th>names</th>\n",
              "      <th>points</th>\n",
              "      <th>penalty</th>\n",
              "      <th>zeros</th>\n",
              "    </tr>\n",
              "  </thead>\n",
              "  <tbody>\n",
              "    <tr>\n",
              "      <th>one</th>\n",
              "      <td>2014</td>\n",
              "      <td>Kilho</td>\n",
              "      <td>1.5</td>\n",
              "      <td>0.1</td>\n",
              "      <td>0</td>\n",
              "    </tr>\n",
              "    <tr>\n",
              "      <th>two</th>\n",
              "      <td>2015</td>\n",
              "      <td>Kilho</td>\n",
              "      <td>1.7</td>\n",
              "      <td>0.2</td>\n",
              "      <td>1</td>\n",
              "    </tr>\n",
              "    <tr>\n",
              "      <th>three</th>\n",
              "      <td>2016</td>\n",
              "      <td>Kilho</td>\n",
              "      <td>3.6</td>\n",
              "      <td>0.3</td>\n",
              "      <td>2</td>\n",
              "    </tr>\n",
              "    <tr>\n",
              "      <th>four</th>\n",
              "      <td>2015</td>\n",
              "      <td>Charles</td>\n",
              "      <td>2.4</td>\n",
              "      <td>0.4</td>\n",
              "      <td>3</td>\n",
              "    </tr>\n",
              "    <tr>\n",
              "      <th>five</th>\n",
              "      <td>2016</td>\n",
              "      <td>Charles</td>\n",
              "      <td>2.9</td>\n",
              "      <td>0.5</td>\n",
              "      <td>4</td>\n",
              "    </tr>\n",
              "  </tbody>\n",
              "</table>\n",
              "</div>"
            ],
            "text/plain": [
              "       year    names  points  penalty  zeros\n",
              "one    2014    Kilho     1.5      0.1      0\n",
              "two    2015    Kilho     1.7      0.2      1\n",
              "three  2016    Kilho     3.6      0.3      2\n",
              "four   2015  Charles     2.4      0.4      3\n",
              "five   2016  Charles     2.9      0.5      4"
            ]
          },
          "metadata": {
            "tags": []
          },
          "execution_count": 232
        }
      ]
    },
    {
      "cell_type": "code",
      "metadata": {
        "id": "QpqaciIyFmZq"
      },
      "source": [
        "# Series를 추가할 수도 있다.\n",
        "val = pd.Series([-1.2, -1.5, -1.7], index=['two','four','five'])"
      ],
      "execution_count": null,
      "outputs": []
    },
    {
      "cell_type": "code",
      "metadata": {
        "id": "xG9PJrblFn1k"
      },
      "source": [
        "df['debt'] = val    # 'debt' 라는 새로운 인덱스 만들기"
      ],
      "execution_count": null,
      "outputs": []
    },
    {
      "cell_type": "code",
      "metadata": {
        "id": "YevG-QytFpN0",
        "colab": {
          "base_uri": "https://localhost:8080/",
          "height": 191
        },
        "outputId": "b32163a5-5c6c-4108-b534-4e6cfe01b563"
      },
      "source": [
        "df"
      ],
      "execution_count": null,
      "outputs": [
        {
          "output_type": "execute_result",
          "data": {
            "text/html": [
              "<div>\n",
              "<style scoped>\n",
              "    .dataframe tbody tr th:only-of-type {\n",
              "        vertical-align: middle;\n",
              "    }\n",
              "\n",
              "    .dataframe tbody tr th {\n",
              "        vertical-align: top;\n",
              "    }\n",
              "\n",
              "    .dataframe thead th {\n",
              "        text-align: right;\n",
              "    }\n",
              "</style>\n",
              "<table border=\"1\" class=\"dataframe\">\n",
              "  <thead>\n",
              "    <tr style=\"text-align: right;\">\n",
              "      <th></th>\n",
              "      <th>year</th>\n",
              "      <th>names</th>\n",
              "      <th>points</th>\n",
              "      <th>penalty</th>\n",
              "      <th>zeros</th>\n",
              "      <th>debt</th>\n",
              "    </tr>\n",
              "  </thead>\n",
              "  <tbody>\n",
              "    <tr>\n",
              "      <th>one</th>\n",
              "      <td>2014</td>\n",
              "      <td>Kilho</td>\n",
              "      <td>1.5</td>\n",
              "      <td>0.1</td>\n",
              "      <td>0</td>\n",
              "      <td>NaN</td>\n",
              "    </tr>\n",
              "    <tr>\n",
              "      <th>two</th>\n",
              "      <td>2015</td>\n",
              "      <td>Kilho</td>\n",
              "      <td>1.7</td>\n",
              "      <td>0.2</td>\n",
              "      <td>1</td>\n",
              "      <td>-1.2</td>\n",
              "    </tr>\n",
              "    <tr>\n",
              "      <th>three</th>\n",
              "      <td>2016</td>\n",
              "      <td>Kilho</td>\n",
              "      <td>3.6</td>\n",
              "      <td>0.3</td>\n",
              "      <td>2</td>\n",
              "      <td>NaN</td>\n",
              "    </tr>\n",
              "    <tr>\n",
              "      <th>four</th>\n",
              "      <td>2015</td>\n",
              "      <td>Charles</td>\n",
              "      <td>2.4</td>\n",
              "      <td>0.4</td>\n",
              "      <td>3</td>\n",
              "      <td>-1.5</td>\n",
              "    </tr>\n",
              "    <tr>\n",
              "      <th>five</th>\n",
              "      <td>2016</td>\n",
              "      <td>Charles</td>\n",
              "      <td>2.9</td>\n",
              "      <td>0.5</td>\n",
              "      <td>4</td>\n",
              "      <td>-1.7</td>\n",
              "    </tr>\n",
              "  </tbody>\n",
              "</table>\n",
              "</div>"
            ],
            "text/plain": [
              "       year    names  points  penalty  zeros  debt\n",
              "one    2014    Kilho     1.5      0.1      0   NaN\n",
              "two    2015    Kilho     1.7      0.2      1  -1.2\n",
              "three  2016    Kilho     3.6      0.3      2   NaN\n",
              "four   2015  Charles     2.4      0.4      3  -1.5\n",
              "five   2016  Charles     2.9      0.5      4  -1.7"
            ]
          },
          "metadata": {
            "tags": []
          },
          "execution_count": 235
        }
      ]
    },
    {
      "cell_type": "markdown",
      "metadata": {
        "id": "nttq4oVQFr5C"
      },
      "source": [
        "Series로 데이터를 DataFrame에 넣을 때는 위 val 예시와 같이 \"넣으려는 data의 index에 맞춰서\" 데이터가 들어간다.\n",
        "\n",
        "이점이 python list나 numpy array로 데이터를 넣을때와 가장 큰 차이점이다."
      ]
    },
    {
      "cell_type": "code",
      "metadata": {
        "id": "o4O8iX-BFqQH"
      },
      "source": [
        "df['net_points'] = df['points'] - df['penalty']"
      ],
      "execution_count": null,
      "outputs": []
    },
    {
      "cell_type": "code",
      "metadata": {
        "id": "uKJOZx64FuKp"
      },
      "source": [
        "df['high_points'] = df['net_points'] > 2.0"
      ],
      "execution_count": null,
      "outputs": []
    },
    {
      "cell_type": "code",
      "metadata": {
        "id": "4aCA33LPFvRA",
        "colab": {
          "base_uri": "https://localhost:8080/",
          "height": 191
        },
        "outputId": "bc3e07d9-1d3e-4699-8537-834057bd7479"
      },
      "source": [
        "df"
      ],
      "execution_count": null,
      "outputs": [
        {
          "output_type": "execute_result",
          "data": {
            "text/html": [
              "<div>\n",
              "<style scoped>\n",
              "    .dataframe tbody tr th:only-of-type {\n",
              "        vertical-align: middle;\n",
              "    }\n",
              "\n",
              "    .dataframe tbody tr th {\n",
              "        vertical-align: top;\n",
              "    }\n",
              "\n",
              "    .dataframe thead th {\n",
              "        text-align: right;\n",
              "    }\n",
              "</style>\n",
              "<table border=\"1\" class=\"dataframe\">\n",
              "  <thead>\n",
              "    <tr style=\"text-align: right;\">\n",
              "      <th></th>\n",
              "      <th>year</th>\n",
              "      <th>names</th>\n",
              "      <th>points</th>\n",
              "      <th>penalty</th>\n",
              "      <th>zeros</th>\n",
              "      <th>debt</th>\n",
              "      <th>net_points</th>\n",
              "      <th>high_points</th>\n",
              "    </tr>\n",
              "  </thead>\n",
              "  <tbody>\n",
              "    <tr>\n",
              "      <th>one</th>\n",
              "      <td>2014</td>\n",
              "      <td>Kilho</td>\n",
              "      <td>1.5</td>\n",
              "      <td>0.1</td>\n",
              "      <td>0</td>\n",
              "      <td>NaN</td>\n",
              "      <td>1.4</td>\n",
              "      <td>False</td>\n",
              "    </tr>\n",
              "    <tr>\n",
              "      <th>two</th>\n",
              "      <td>2015</td>\n",
              "      <td>Kilho</td>\n",
              "      <td>1.7</td>\n",
              "      <td>0.2</td>\n",
              "      <td>1</td>\n",
              "      <td>-1.2</td>\n",
              "      <td>1.5</td>\n",
              "      <td>False</td>\n",
              "    </tr>\n",
              "    <tr>\n",
              "      <th>three</th>\n",
              "      <td>2016</td>\n",
              "      <td>Kilho</td>\n",
              "      <td>3.6</td>\n",
              "      <td>0.3</td>\n",
              "      <td>2</td>\n",
              "      <td>NaN</td>\n",
              "      <td>3.3</td>\n",
              "      <td>True</td>\n",
              "    </tr>\n",
              "    <tr>\n",
              "      <th>four</th>\n",
              "      <td>2015</td>\n",
              "      <td>Charles</td>\n",
              "      <td>2.4</td>\n",
              "      <td>0.4</td>\n",
              "      <td>3</td>\n",
              "      <td>-1.5</td>\n",
              "      <td>2.0</td>\n",
              "      <td>False</td>\n",
              "    </tr>\n",
              "    <tr>\n",
              "      <th>five</th>\n",
              "      <td>2016</td>\n",
              "      <td>Charles</td>\n",
              "      <td>2.9</td>\n",
              "      <td>0.5</td>\n",
              "      <td>4</td>\n",
              "      <td>-1.7</td>\n",
              "      <td>2.4</td>\n",
              "      <td>True</td>\n",
              "    </tr>\n",
              "  </tbody>\n",
              "</table>\n",
              "</div>"
            ],
            "text/plain": [
              "       year    names  points  penalty  zeros  debt  net_points  high_points\n",
              "one    2014    Kilho     1.5      0.1      0   NaN         1.4        False\n",
              "two    2015    Kilho     1.7      0.2      1  -1.2         1.5        False\n",
              "three  2016    Kilho     3.6      0.3      2   NaN         3.3         True\n",
              "four   2015  Charles     2.4      0.4      3  -1.5         2.0        False\n",
              "five   2016  Charles     2.9      0.5      4  -1.7         2.4         True"
            ]
          },
          "metadata": {
            "tags": []
          },
          "execution_count": 238
        }
      ]
    },
    {
      "cell_type": "code",
      "metadata": {
        "id": "AJpbbs0EFzNP"
      },
      "source": [
        "# 열 삭제하기\n",
        "del df['high_points']"
      ],
      "execution_count": null,
      "outputs": []
    },
    {
      "cell_type": "code",
      "metadata": {
        "id": "8R5kasz3Fzps"
      },
      "source": [
        "del df['net_points']\n",
        "del df['zeros']"
      ],
      "execution_count": null,
      "outputs": []
    },
    {
      "cell_type": "code",
      "metadata": {
        "id": "GB9o-mejF1T9",
        "colab": {
          "base_uri": "https://localhost:8080/",
          "height": 191
        },
        "outputId": "49cb0d18-dcca-469a-d1fe-d98a5698d3d1"
      },
      "source": [
        "df"
      ],
      "execution_count": null,
      "outputs": [
        {
          "output_type": "execute_result",
          "data": {
            "text/html": [
              "<div>\n",
              "<style scoped>\n",
              "    .dataframe tbody tr th:only-of-type {\n",
              "        vertical-align: middle;\n",
              "    }\n",
              "\n",
              "    .dataframe tbody tr th {\n",
              "        vertical-align: top;\n",
              "    }\n",
              "\n",
              "    .dataframe thead th {\n",
              "        text-align: right;\n",
              "    }\n",
              "</style>\n",
              "<table border=\"1\" class=\"dataframe\">\n",
              "  <thead>\n",
              "    <tr style=\"text-align: right;\">\n",
              "      <th></th>\n",
              "      <th>year</th>\n",
              "      <th>names</th>\n",
              "      <th>points</th>\n",
              "      <th>penalty</th>\n",
              "      <th>debt</th>\n",
              "    </tr>\n",
              "  </thead>\n",
              "  <tbody>\n",
              "    <tr>\n",
              "      <th>one</th>\n",
              "      <td>2014</td>\n",
              "      <td>Kilho</td>\n",
              "      <td>1.5</td>\n",
              "      <td>0.1</td>\n",
              "      <td>NaN</td>\n",
              "    </tr>\n",
              "    <tr>\n",
              "      <th>two</th>\n",
              "      <td>2015</td>\n",
              "      <td>Kilho</td>\n",
              "      <td>1.7</td>\n",
              "      <td>0.2</td>\n",
              "      <td>-1.2</td>\n",
              "    </tr>\n",
              "    <tr>\n",
              "      <th>three</th>\n",
              "      <td>2016</td>\n",
              "      <td>Kilho</td>\n",
              "      <td>3.6</td>\n",
              "      <td>0.3</td>\n",
              "      <td>NaN</td>\n",
              "    </tr>\n",
              "    <tr>\n",
              "      <th>four</th>\n",
              "      <td>2015</td>\n",
              "      <td>Charles</td>\n",
              "      <td>2.4</td>\n",
              "      <td>0.4</td>\n",
              "      <td>-1.5</td>\n",
              "    </tr>\n",
              "    <tr>\n",
              "      <th>five</th>\n",
              "      <td>2016</td>\n",
              "      <td>Charles</td>\n",
              "      <td>2.9</td>\n",
              "      <td>0.5</td>\n",
              "      <td>-1.7</td>\n",
              "    </tr>\n",
              "  </tbody>\n",
              "</table>\n",
              "</div>"
            ],
            "text/plain": [
              "       year    names  points  penalty  debt\n",
              "one    2014    Kilho     1.5      0.1   NaN\n",
              "two    2015    Kilho     1.7      0.2  -1.2\n",
              "three  2016    Kilho     3.6      0.3   NaN\n",
              "four   2015  Charles     2.4      0.4  -1.5\n",
              "five   2016  Charles     2.9      0.5  -1.7"
            ]
          },
          "metadata": {
            "tags": []
          },
          "execution_count": 241
        }
      ]
    },
    {
      "cell_type": "code",
      "metadata": {
        "id": "fhsIFjDWF3g7",
        "colab": {
          "base_uri": "https://localhost:8080/",
          "height": 35
        },
        "outputId": "14fcd764-0bcd-4fed-9cca-07efdfdfc65d"
      },
      "source": [
        "df.columns"
      ],
      "execution_count": null,
      "outputs": [
        {
          "output_type": "execute_result",
          "data": {
            "text/plain": [
              "Index(['year', 'names', 'points', 'penalty', 'debt'], dtype='object')"
            ]
          },
          "metadata": {
            "tags": []
          },
          "execution_count": 242
        }
      ]
    },
    {
      "cell_type": "code",
      "metadata": {
        "id": "9aN7y_kWF4un"
      },
      "source": [
        "df.index.name = 'Order'\n",
        "df.columns.name = 'Info'"
      ],
      "execution_count": null,
      "outputs": []
    },
    {
      "cell_type": "code",
      "metadata": {
        "id": "N7yiQPWrF6Zx",
        "colab": {
          "base_uri": "https://localhost:8080/",
          "height": 220
        },
        "outputId": "23d907dd-4cda-4b25-8463-7d9c8b0595ab"
      },
      "source": [
        "df"
      ],
      "execution_count": null,
      "outputs": [
        {
          "output_type": "execute_result",
          "data": {
            "text/html": [
              "<div>\n",
              "<style scoped>\n",
              "    .dataframe tbody tr th:only-of-type {\n",
              "        vertical-align: middle;\n",
              "    }\n",
              "\n",
              "    .dataframe tbody tr th {\n",
              "        vertical-align: top;\n",
              "    }\n",
              "\n",
              "    .dataframe thead th {\n",
              "        text-align: right;\n",
              "    }\n",
              "</style>\n",
              "<table border=\"1\" class=\"dataframe\">\n",
              "  <thead>\n",
              "    <tr style=\"text-align: right;\">\n",
              "      <th>Info</th>\n",
              "      <th>year</th>\n",
              "      <th>names</th>\n",
              "      <th>points</th>\n",
              "      <th>penalty</th>\n",
              "      <th>debt</th>\n",
              "    </tr>\n",
              "    <tr>\n",
              "      <th>Order</th>\n",
              "      <th></th>\n",
              "      <th></th>\n",
              "      <th></th>\n",
              "      <th></th>\n",
              "      <th></th>\n",
              "    </tr>\n",
              "  </thead>\n",
              "  <tbody>\n",
              "    <tr>\n",
              "      <th>one</th>\n",
              "      <td>2014</td>\n",
              "      <td>Kilho</td>\n",
              "      <td>1.5</td>\n",
              "      <td>0.1</td>\n",
              "      <td>NaN</td>\n",
              "    </tr>\n",
              "    <tr>\n",
              "      <th>two</th>\n",
              "      <td>2015</td>\n",
              "      <td>Kilho</td>\n",
              "      <td>1.7</td>\n",
              "      <td>0.2</td>\n",
              "      <td>-1.2</td>\n",
              "    </tr>\n",
              "    <tr>\n",
              "      <th>three</th>\n",
              "      <td>2016</td>\n",
              "      <td>Kilho</td>\n",
              "      <td>3.6</td>\n",
              "      <td>0.3</td>\n",
              "      <td>NaN</td>\n",
              "    </tr>\n",
              "    <tr>\n",
              "      <th>four</th>\n",
              "      <td>2015</td>\n",
              "      <td>Charles</td>\n",
              "      <td>2.4</td>\n",
              "      <td>0.4</td>\n",
              "      <td>-1.5</td>\n",
              "    </tr>\n",
              "    <tr>\n",
              "      <th>five</th>\n",
              "      <td>2016</td>\n",
              "      <td>Charles</td>\n",
              "      <td>2.9</td>\n",
              "      <td>0.5</td>\n",
              "      <td>-1.7</td>\n",
              "    </tr>\n",
              "  </tbody>\n",
              "</table>\n",
              "</div>"
            ],
            "text/plain": [
              "Info   year    names  points  penalty  debt\n",
              "Order                                      \n",
              "one    2014    Kilho     1.5      0.1   NaN\n",
              "two    2015    Kilho     1.7      0.2  -1.2\n",
              "three  2016    Kilho     3.6      0.3   NaN\n",
              "four   2015  Charles     2.4      0.4  -1.5\n",
              "five   2016  Charles     2.9      0.5  -1.7"
            ]
          },
          "metadata": {
            "tags": []
          },
          "execution_count": 244
        }
      ]
    },
    {
      "cell_type": "markdown",
      "metadata": {
        "id": "MF7reLVyGAyl"
      },
      "source": [
        "### 3-2. DataFrame에서 행을 선택하고 조작하기\n",
        "pandas에서는 DataFrame에서 행을 인덱싱하는 방법이 무수히 많다.\n",
        "\n",
        "물론 위에서 소개했던 열을 선택하는 방법도 수많은 방법중에 하나에 불과하다."
      ]
    },
    {
      "cell_type": "code",
      "metadata": {
        "id": "AaUXtwSSF9_M",
        "colab": {
          "base_uri": "https://localhost:8080/",
          "height": 162
        },
        "outputId": "eae346fb-48e1-4a47-9e1e-2d4292249188"
      },
      "source": [
        "# 0번째 부터 2(3-1) 번째까지 가져온다.\n",
        "# 뒤에 써준 숫자번째의 행은 뺀다. (슬라이싱)\n",
        "df[0:3]"
      ],
      "execution_count": null,
      "outputs": [
        {
          "output_type": "execute_result",
          "data": {
            "text/html": [
              "<div>\n",
              "<style scoped>\n",
              "    .dataframe tbody tr th:only-of-type {\n",
              "        vertical-align: middle;\n",
              "    }\n",
              "\n",
              "    .dataframe tbody tr th {\n",
              "        vertical-align: top;\n",
              "    }\n",
              "\n",
              "    .dataframe thead th {\n",
              "        text-align: right;\n",
              "    }\n",
              "</style>\n",
              "<table border=\"1\" class=\"dataframe\">\n",
              "  <thead>\n",
              "    <tr style=\"text-align: right;\">\n",
              "      <th>Info</th>\n",
              "      <th>year</th>\n",
              "      <th>names</th>\n",
              "      <th>points</th>\n",
              "      <th>penalty</th>\n",
              "      <th>debt</th>\n",
              "    </tr>\n",
              "    <tr>\n",
              "      <th>Order</th>\n",
              "      <th></th>\n",
              "      <th></th>\n",
              "      <th></th>\n",
              "      <th></th>\n",
              "      <th></th>\n",
              "    </tr>\n",
              "  </thead>\n",
              "  <tbody>\n",
              "    <tr>\n",
              "      <th>one</th>\n",
              "      <td>2014</td>\n",
              "      <td>Kilho</td>\n",
              "      <td>1.5</td>\n",
              "      <td>0.1</td>\n",
              "      <td>NaN</td>\n",
              "    </tr>\n",
              "    <tr>\n",
              "      <th>two</th>\n",
              "      <td>2015</td>\n",
              "      <td>Kilho</td>\n",
              "      <td>1.7</td>\n",
              "      <td>0.2</td>\n",
              "      <td>-1.2</td>\n",
              "    </tr>\n",
              "    <tr>\n",
              "      <th>three</th>\n",
              "      <td>2016</td>\n",
              "      <td>Kilho</td>\n",
              "      <td>3.6</td>\n",
              "      <td>0.3</td>\n",
              "      <td>NaN</td>\n",
              "    </tr>\n",
              "  </tbody>\n",
              "</table>\n",
              "</div>"
            ],
            "text/plain": [
              "Info   year  names  points  penalty  debt\n",
              "Order                                    \n",
              "one    2014  Kilho     1.5      0.1   NaN\n",
              "two    2015  Kilho     1.7      0.2  -1.2\n",
              "three  2016  Kilho     3.6      0.3   NaN"
            ]
          },
          "metadata": {
            "tags": []
          },
          "execution_count": 245
        }
      ]
    },
    {
      "cell_type": "code",
      "metadata": {
        "id": "OKO3oVPlGE2z",
        "colab": {
          "base_uri": "https://localhost:8080/",
          "height": 162
        },
        "outputId": "ce2e8860-b0b1-4a0b-ce52-d0e74eec8532"
      },
      "source": [
        "# tow라는 행부터 four라는 행까지 가져온다.\n",
        "# 뒤에 써준 이름의 행을 빼지 않는다.\n",
        "df['two':'four'] # 하지만 비추천"
      ],
      "execution_count": null,
      "outputs": [
        {
          "output_type": "execute_result",
          "data": {
            "text/html": [
              "<div>\n",
              "<style scoped>\n",
              "    .dataframe tbody tr th:only-of-type {\n",
              "        vertical-align: middle;\n",
              "    }\n",
              "\n",
              "    .dataframe tbody tr th {\n",
              "        vertical-align: top;\n",
              "    }\n",
              "\n",
              "    .dataframe thead th {\n",
              "        text-align: right;\n",
              "    }\n",
              "</style>\n",
              "<table border=\"1\" class=\"dataframe\">\n",
              "  <thead>\n",
              "    <tr style=\"text-align: right;\">\n",
              "      <th>Info</th>\n",
              "      <th>year</th>\n",
              "      <th>names</th>\n",
              "      <th>points</th>\n",
              "      <th>penalty</th>\n",
              "      <th>debt</th>\n",
              "    </tr>\n",
              "    <tr>\n",
              "      <th>Order</th>\n",
              "      <th></th>\n",
              "      <th></th>\n",
              "      <th></th>\n",
              "      <th></th>\n",
              "      <th></th>\n",
              "    </tr>\n",
              "  </thead>\n",
              "  <tbody>\n",
              "    <tr>\n",
              "      <th>two</th>\n",
              "      <td>2015</td>\n",
              "      <td>Kilho</td>\n",
              "      <td>1.7</td>\n",
              "      <td>0.2</td>\n",
              "      <td>-1.2</td>\n",
              "    </tr>\n",
              "    <tr>\n",
              "      <th>three</th>\n",
              "      <td>2016</td>\n",
              "      <td>Kilho</td>\n",
              "      <td>3.6</td>\n",
              "      <td>0.3</td>\n",
              "      <td>NaN</td>\n",
              "    </tr>\n",
              "    <tr>\n",
              "      <th>four</th>\n",
              "      <td>2015</td>\n",
              "      <td>Charles</td>\n",
              "      <td>2.4</td>\n",
              "      <td>0.4</td>\n",
              "      <td>-1.5</td>\n",
              "    </tr>\n",
              "  </tbody>\n",
              "</table>\n",
              "</div>"
            ],
            "text/plain": [
              "Info   year    names  points  penalty  debt\n",
              "Order                                      \n",
              "two    2015    Kilho     1.7      0.2  -1.2\n",
              "three  2016    Kilho     3.6      0.3   NaN\n",
              "four   2015  Charles     2.4      0.4  -1.5"
            ]
          },
          "metadata": {
            "tags": []
          },
          "execution_count": 246
        }
      ]
    },
    {
      "cell_type": "markdown",
      "metadata": {
        "id": "XasU-MV0OSo3"
      },
      "source": [
        "- `.loc`\n",
        "- `.iloc`"
      ]
    },
    {
      "cell_type": "code",
      "metadata": {
        "id": "fuEKuaroGGi7",
        "colab": {
          "base_uri": "https://localhost:8080/",
          "height": 140
        },
        "outputId": "a665e68f-316d-427d-8438-96ba606e643f"
      },
      "source": [
        "# 아래 방법을 권장한다. \n",
        "# .loc 또는 .iloc 함수를 사용하는 방법.\n",
        "df.loc['two'] # 반환 형태는 Series"
      ],
      "execution_count": null,
      "outputs": [
        {
          "output_type": "execute_result",
          "data": {
            "text/plain": [
              "Info\n",
              "year        2015\n",
              "names      Kilho\n",
              "points       1.7\n",
              "penalty      0.2\n",
              "debt        -1.2\n",
              "Name: two, dtype: object"
            ]
          },
          "metadata": {
            "tags": []
          },
          "execution_count": 247
        }
      ]
    },
    {
      "cell_type": "code",
      "metadata": {
        "id": "eGirupHJGH6r",
        "colab": {
          "base_uri": "https://localhost:8080/",
          "height": 162
        },
        "outputId": "734b32be-374e-489f-ab3a-5aea6aa01ffd"
      },
      "source": [
        "df.loc['two':'four']"
      ],
      "execution_count": null,
      "outputs": [
        {
          "output_type": "execute_result",
          "data": {
            "text/html": [
              "<div>\n",
              "<style scoped>\n",
              "    .dataframe tbody tr th:only-of-type {\n",
              "        vertical-align: middle;\n",
              "    }\n",
              "\n",
              "    .dataframe tbody tr th {\n",
              "        vertical-align: top;\n",
              "    }\n",
              "\n",
              "    .dataframe thead th {\n",
              "        text-align: right;\n",
              "    }\n",
              "</style>\n",
              "<table border=\"1\" class=\"dataframe\">\n",
              "  <thead>\n",
              "    <tr style=\"text-align: right;\">\n",
              "      <th>Info</th>\n",
              "      <th>year</th>\n",
              "      <th>names</th>\n",
              "      <th>points</th>\n",
              "      <th>penalty</th>\n",
              "      <th>debt</th>\n",
              "    </tr>\n",
              "    <tr>\n",
              "      <th>Order</th>\n",
              "      <th></th>\n",
              "      <th></th>\n",
              "      <th></th>\n",
              "      <th></th>\n",
              "      <th></th>\n",
              "    </tr>\n",
              "  </thead>\n",
              "  <tbody>\n",
              "    <tr>\n",
              "      <th>two</th>\n",
              "      <td>2015</td>\n",
              "      <td>Kilho</td>\n",
              "      <td>1.7</td>\n",
              "      <td>0.2</td>\n",
              "      <td>-1.2</td>\n",
              "    </tr>\n",
              "    <tr>\n",
              "      <th>three</th>\n",
              "      <td>2016</td>\n",
              "      <td>Kilho</td>\n",
              "      <td>3.6</td>\n",
              "      <td>0.3</td>\n",
              "      <td>NaN</td>\n",
              "    </tr>\n",
              "    <tr>\n",
              "      <th>four</th>\n",
              "      <td>2015</td>\n",
              "      <td>Charles</td>\n",
              "      <td>2.4</td>\n",
              "      <td>0.4</td>\n",
              "      <td>-1.5</td>\n",
              "    </tr>\n",
              "  </tbody>\n",
              "</table>\n",
              "</div>"
            ],
            "text/plain": [
              "Info   year    names  points  penalty  debt\n",
              "Order                                      \n",
              "two    2015    Kilho     1.7      0.2  -1.2\n",
              "three  2016    Kilho     3.6      0.3   NaN\n",
              "four   2015  Charles     2.4      0.4  -1.5"
            ]
          },
          "metadata": {
            "tags": []
          },
          "execution_count": 248
        }
      ]
    },
    {
      "cell_type": "code",
      "metadata": {
        "id": "he49dWXPGJ2R",
        "colab": {
          "base_uri": "https://localhost:8080/",
          "height": 105
        },
        "outputId": "6d7240c3-c239-4ed7-cfa1-71cc3d120813"
      },
      "source": [
        "df.loc['two':'four', 'points']"
      ],
      "execution_count": null,
      "outputs": [
        {
          "output_type": "execute_result",
          "data": {
            "text/plain": [
              "Order\n",
              "two      1.7\n",
              "three    3.6\n",
              "four     2.4\n",
              "Name: points, dtype: float64"
            ]
          },
          "metadata": {
            "tags": []
          },
          "execution_count": 249
        }
      ]
    },
    {
      "cell_type": "code",
      "metadata": {
        "id": "5vh4Hvy2GMYu",
        "colab": {
          "base_uri": "https://localhost:8080/",
          "height": 140
        },
        "outputId": "e07231b9-772c-4b0c-ea3d-89f96a53b388"
      },
      "source": [
        "df.loc[:,'year'] # == df['year']"
      ],
      "execution_count": null,
      "outputs": [
        {
          "output_type": "execute_result",
          "data": {
            "text/plain": [
              "Order\n",
              "one      2014\n",
              "two      2015\n",
              "three    2016\n",
              "four     2015\n",
              "five     2016\n",
              "Name: year, dtype: int64"
            ]
          },
          "metadata": {
            "tags": []
          },
          "execution_count": 250
        }
      ]
    },
    {
      "cell_type": "code",
      "metadata": {
        "id": "PzuDqrMqGSyI",
        "colab": {
          "base_uri": "https://localhost:8080/",
          "height": 220
        },
        "outputId": "eaca62b8-deda-42fa-df4d-2aca970bcb84"
      },
      "source": [
        "df.loc[:,['year','names']]"
      ],
      "execution_count": null,
      "outputs": [
        {
          "output_type": "execute_result",
          "data": {
            "text/html": [
              "<div>\n",
              "<style scoped>\n",
              "    .dataframe tbody tr th:only-of-type {\n",
              "        vertical-align: middle;\n",
              "    }\n",
              "\n",
              "    .dataframe tbody tr th {\n",
              "        vertical-align: top;\n",
              "    }\n",
              "\n",
              "    .dataframe thead th {\n",
              "        text-align: right;\n",
              "    }\n",
              "</style>\n",
              "<table border=\"1\" class=\"dataframe\">\n",
              "  <thead>\n",
              "    <tr style=\"text-align: right;\">\n",
              "      <th>Info</th>\n",
              "      <th>year</th>\n",
              "      <th>names</th>\n",
              "    </tr>\n",
              "    <tr>\n",
              "      <th>Order</th>\n",
              "      <th></th>\n",
              "      <th></th>\n",
              "    </tr>\n",
              "  </thead>\n",
              "  <tbody>\n",
              "    <tr>\n",
              "      <th>one</th>\n",
              "      <td>2014</td>\n",
              "      <td>Kilho</td>\n",
              "    </tr>\n",
              "    <tr>\n",
              "      <th>two</th>\n",
              "      <td>2015</td>\n",
              "      <td>Kilho</td>\n",
              "    </tr>\n",
              "    <tr>\n",
              "      <th>three</th>\n",
              "      <td>2016</td>\n",
              "      <td>Kilho</td>\n",
              "    </tr>\n",
              "    <tr>\n",
              "      <th>four</th>\n",
              "      <td>2015</td>\n",
              "      <td>Charles</td>\n",
              "    </tr>\n",
              "    <tr>\n",
              "      <th>five</th>\n",
              "      <td>2016</td>\n",
              "      <td>Charles</td>\n",
              "    </tr>\n",
              "  </tbody>\n",
              "</table>\n",
              "</div>"
            ],
            "text/plain": [
              "Info   year    names\n",
              "Order               \n",
              "one    2014    Kilho\n",
              "two    2015    Kilho\n",
              "three  2016    Kilho\n",
              "four   2015  Charles\n",
              "five   2016  Charles"
            ]
          },
          "metadata": {
            "tags": []
          },
          "execution_count": 251
        }
      ]
    },
    {
      "cell_type": "code",
      "metadata": {
        "id": "sTxj50s2GUB4",
        "colab": {
          "base_uri": "https://localhost:8080/",
          "height": 162
        },
        "outputId": "139c21ac-24a4-48f7-f52f-31807631ce2d"
      },
      "source": [
        "df.loc['three':'five','year':'penalty']"
      ],
      "execution_count": null,
      "outputs": [
        {
          "output_type": "execute_result",
          "data": {
            "text/html": [
              "<div>\n",
              "<style scoped>\n",
              "    .dataframe tbody tr th:only-of-type {\n",
              "        vertical-align: middle;\n",
              "    }\n",
              "\n",
              "    .dataframe tbody tr th {\n",
              "        vertical-align: top;\n",
              "    }\n",
              "\n",
              "    .dataframe thead th {\n",
              "        text-align: right;\n",
              "    }\n",
              "</style>\n",
              "<table border=\"1\" class=\"dataframe\">\n",
              "  <thead>\n",
              "    <tr style=\"text-align: right;\">\n",
              "      <th>Info</th>\n",
              "      <th>year</th>\n",
              "      <th>names</th>\n",
              "      <th>points</th>\n",
              "      <th>penalty</th>\n",
              "    </tr>\n",
              "    <tr>\n",
              "      <th>Order</th>\n",
              "      <th></th>\n",
              "      <th></th>\n",
              "      <th></th>\n",
              "      <th></th>\n",
              "    </tr>\n",
              "  </thead>\n",
              "  <tbody>\n",
              "    <tr>\n",
              "      <th>three</th>\n",
              "      <td>2016</td>\n",
              "      <td>Kilho</td>\n",
              "      <td>3.6</td>\n",
              "      <td>0.3</td>\n",
              "    </tr>\n",
              "    <tr>\n",
              "      <th>four</th>\n",
              "      <td>2015</td>\n",
              "      <td>Charles</td>\n",
              "      <td>2.4</td>\n",
              "      <td>0.4</td>\n",
              "    </tr>\n",
              "    <tr>\n",
              "      <th>five</th>\n",
              "      <td>2016</td>\n",
              "      <td>Charles</td>\n",
              "      <td>2.9</td>\n",
              "      <td>0.5</td>\n",
              "    </tr>\n",
              "  </tbody>\n",
              "</table>\n",
              "</div>"
            ],
            "text/plain": [
              "Info   year    names  points  penalty\n",
              "Order                                \n",
              "three  2016    Kilho     3.6      0.3\n",
              "four   2015  Charles     2.4      0.4\n",
              "five   2016  Charles     2.9      0.5"
            ]
          },
          "metadata": {
            "tags": []
          },
          "execution_count": 252
        }
      ]
    },
    {
      "cell_type": "code",
      "metadata": {
        "id": "Bhp3VgMNGVl2"
      },
      "source": [
        "# 새로운 행 삽입하기\n",
        "df.loc['six',:] = [2013,'Jun',4.0,0.1,2.1]      # six 라는 새로운 행 만들기"
      ],
      "execution_count": null,
      "outputs": []
    },
    {
      "cell_type": "code",
      "metadata": {
        "id": "7UFcg0m2GXTV",
        "colab": {
          "base_uri": "https://localhost:8080/",
          "height": 248
        },
        "outputId": "24fec4fb-b7a1-4e76-fdea-c83d9a65511f"
      },
      "source": [
        "df"
      ],
      "execution_count": null,
      "outputs": [
        {
          "output_type": "execute_result",
          "data": {
            "text/html": [
              "<div>\n",
              "<style scoped>\n",
              "    .dataframe tbody tr th:only-of-type {\n",
              "        vertical-align: middle;\n",
              "    }\n",
              "\n",
              "    .dataframe tbody tr th {\n",
              "        vertical-align: top;\n",
              "    }\n",
              "\n",
              "    .dataframe thead th {\n",
              "        text-align: right;\n",
              "    }\n",
              "</style>\n",
              "<table border=\"1\" class=\"dataframe\">\n",
              "  <thead>\n",
              "    <tr style=\"text-align: right;\">\n",
              "      <th>Info</th>\n",
              "      <th>year</th>\n",
              "      <th>names</th>\n",
              "      <th>points</th>\n",
              "      <th>penalty</th>\n",
              "      <th>debt</th>\n",
              "    </tr>\n",
              "    <tr>\n",
              "      <th>Order</th>\n",
              "      <th></th>\n",
              "      <th></th>\n",
              "      <th></th>\n",
              "      <th></th>\n",
              "      <th></th>\n",
              "    </tr>\n",
              "  </thead>\n",
              "  <tbody>\n",
              "    <tr>\n",
              "      <th>one</th>\n",
              "      <td>2014.0</td>\n",
              "      <td>Kilho</td>\n",
              "      <td>1.5</td>\n",
              "      <td>0.1</td>\n",
              "      <td>NaN</td>\n",
              "    </tr>\n",
              "    <tr>\n",
              "      <th>two</th>\n",
              "      <td>2015.0</td>\n",
              "      <td>Kilho</td>\n",
              "      <td>1.7</td>\n",
              "      <td>0.2</td>\n",
              "      <td>-1.2</td>\n",
              "    </tr>\n",
              "    <tr>\n",
              "      <th>three</th>\n",
              "      <td>2016.0</td>\n",
              "      <td>Kilho</td>\n",
              "      <td>3.6</td>\n",
              "      <td>0.3</td>\n",
              "      <td>NaN</td>\n",
              "    </tr>\n",
              "    <tr>\n",
              "      <th>four</th>\n",
              "      <td>2015.0</td>\n",
              "      <td>Charles</td>\n",
              "      <td>2.4</td>\n",
              "      <td>0.4</td>\n",
              "      <td>-1.5</td>\n",
              "    </tr>\n",
              "    <tr>\n",
              "      <th>five</th>\n",
              "      <td>2016.0</td>\n",
              "      <td>Charles</td>\n",
              "      <td>2.9</td>\n",
              "      <td>0.5</td>\n",
              "      <td>-1.7</td>\n",
              "    </tr>\n",
              "    <tr>\n",
              "      <th>six</th>\n",
              "      <td>2013.0</td>\n",
              "      <td>Jun</td>\n",
              "      <td>4.0</td>\n",
              "      <td>0.1</td>\n",
              "      <td>2.1</td>\n",
              "    </tr>\n",
              "  </tbody>\n",
              "</table>\n",
              "</div>"
            ],
            "text/plain": [
              "Info     year    names  points  penalty  debt\n",
              "Order                                        \n",
              "one    2014.0    Kilho     1.5      0.1   NaN\n",
              "two    2015.0    Kilho     1.7      0.2  -1.2\n",
              "three  2016.0    Kilho     3.6      0.3   NaN\n",
              "four   2015.0  Charles     2.4      0.4  -1.5\n",
              "five   2016.0  Charles     2.9      0.5  -1.7\n",
              "six    2013.0      Jun     4.0      0.1   2.1"
            ]
          },
          "metadata": {
            "tags": []
          },
          "execution_count": 254
        }
      ]
    },
    {
      "cell_type": "code",
      "metadata": {
        "id": "mzySbabsGYLK",
        "colab": {
          "base_uri": "https://localhost:8080/",
          "height": 140
        },
        "outputId": "b92632bd-41f0-4387-ab18-7107345a963b"
      },
      "source": [
        "# .iloc 사용:: index 번호를 사용한다.\n",
        "df.iloc[3] # 3번째 행을 가져온다."
      ],
      "execution_count": null,
      "outputs": [
        {
          "output_type": "execute_result",
          "data": {
            "text/plain": [
              "Info\n",
              "year          2015\n",
              "names      Charles\n",
              "points         2.4\n",
              "penalty        0.4\n",
              "debt          -1.5\n",
              "Name: four, dtype: object"
            ]
          },
          "metadata": {
            "tags": []
          },
          "execution_count": 255
        }
      ]
    },
    {
      "cell_type": "code",
      "metadata": {
        "id": "V9uUoztLGZeM",
        "colab": {
          "base_uri": "https://localhost:8080/",
          "height": 133
        },
        "outputId": "0743ffff-4ef5-4fa9-ffdf-31f40a790407"
      },
      "source": [
        "df.iloc[3:5, 0:2]"
      ],
      "execution_count": null,
      "outputs": [
        {
          "output_type": "execute_result",
          "data": {
            "text/html": [
              "<div>\n",
              "<style scoped>\n",
              "    .dataframe tbody tr th:only-of-type {\n",
              "        vertical-align: middle;\n",
              "    }\n",
              "\n",
              "    .dataframe tbody tr th {\n",
              "        vertical-align: top;\n",
              "    }\n",
              "\n",
              "    .dataframe thead th {\n",
              "        text-align: right;\n",
              "    }\n",
              "</style>\n",
              "<table border=\"1\" class=\"dataframe\">\n",
              "  <thead>\n",
              "    <tr style=\"text-align: right;\">\n",
              "      <th>Info</th>\n",
              "      <th>year</th>\n",
              "      <th>names</th>\n",
              "    </tr>\n",
              "    <tr>\n",
              "      <th>Order</th>\n",
              "      <th></th>\n",
              "      <th></th>\n",
              "    </tr>\n",
              "  </thead>\n",
              "  <tbody>\n",
              "    <tr>\n",
              "      <th>four</th>\n",
              "      <td>2015.0</td>\n",
              "      <td>Charles</td>\n",
              "    </tr>\n",
              "    <tr>\n",
              "      <th>five</th>\n",
              "      <td>2016.0</td>\n",
              "      <td>Charles</td>\n",
              "    </tr>\n",
              "  </tbody>\n",
              "</table>\n",
              "</div>"
            ],
            "text/plain": [
              "Info     year    names\n",
              "Order                 \n",
              "four   2015.0  Charles\n",
              "five   2016.0  Charles"
            ]
          },
          "metadata": {
            "tags": []
          },
          "execution_count": 256
        }
      ]
    },
    {
      "cell_type": "code",
      "metadata": {
        "id": "OjAhlRQJGbqS",
        "colab": {
          "base_uri": "https://localhost:8080/",
          "height": 162
        },
        "outputId": "3d5411d5-5d9f-4b1a-ba02-015e50f56154"
      },
      "source": [
        "df.iloc[[0,1,3], [1,2]]"
      ],
      "execution_count": null,
      "outputs": [
        {
          "output_type": "execute_result",
          "data": {
            "text/html": [
              "<div>\n",
              "<style scoped>\n",
              "    .dataframe tbody tr th:only-of-type {\n",
              "        vertical-align: middle;\n",
              "    }\n",
              "\n",
              "    .dataframe tbody tr th {\n",
              "        vertical-align: top;\n",
              "    }\n",
              "\n",
              "    .dataframe thead th {\n",
              "        text-align: right;\n",
              "    }\n",
              "</style>\n",
              "<table border=\"1\" class=\"dataframe\">\n",
              "  <thead>\n",
              "    <tr style=\"text-align: right;\">\n",
              "      <th>Info</th>\n",
              "      <th>names</th>\n",
              "      <th>points</th>\n",
              "    </tr>\n",
              "    <tr>\n",
              "      <th>Order</th>\n",
              "      <th></th>\n",
              "      <th></th>\n",
              "    </tr>\n",
              "  </thead>\n",
              "  <tbody>\n",
              "    <tr>\n",
              "      <th>one</th>\n",
              "      <td>Kilho</td>\n",
              "      <td>1.5</td>\n",
              "    </tr>\n",
              "    <tr>\n",
              "      <th>two</th>\n",
              "      <td>Kilho</td>\n",
              "      <td>1.7</td>\n",
              "    </tr>\n",
              "    <tr>\n",
              "      <th>four</th>\n",
              "      <td>Charles</td>\n",
              "      <td>2.4</td>\n",
              "    </tr>\n",
              "  </tbody>\n",
              "</table>\n",
              "</div>"
            ],
            "text/plain": [
              "Info     names  points\n",
              "Order                 \n",
              "one      Kilho     1.5\n",
              "two      Kilho     1.7\n",
              "four   Charles     2.4"
            ]
          },
          "metadata": {
            "tags": []
          },
          "execution_count": 257
        }
      ]
    },
    {
      "cell_type": "code",
      "metadata": {
        "id": "rS0qj1HqGdV9",
        "colab": {
          "base_uri": "https://localhost:8080/",
          "height": 248
        },
        "outputId": "26760972-c96d-4cea-ed8b-8476a2ed014d"
      },
      "source": [
        "df.iloc[:,1:4]"
      ],
      "execution_count": null,
      "outputs": [
        {
          "output_type": "execute_result",
          "data": {
            "text/html": [
              "<div>\n",
              "<style scoped>\n",
              "    .dataframe tbody tr th:only-of-type {\n",
              "        vertical-align: middle;\n",
              "    }\n",
              "\n",
              "    .dataframe tbody tr th {\n",
              "        vertical-align: top;\n",
              "    }\n",
              "\n",
              "    .dataframe thead th {\n",
              "        text-align: right;\n",
              "    }\n",
              "</style>\n",
              "<table border=\"1\" class=\"dataframe\">\n",
              "  <thead>\n",
              "    <tr style=\"text-align: right;\">\n",
              "      <th>Info</th>\n",
              "      <th>names</th>\n",
              "      <th>points</th>\n",
              "      <th>penalty</th>\n",
              "    </tr>\n",
              "    <tr>\n",
              "      <th>Order</th>\n",
              "      <th></th>\n",
              "      <th></th>\n",
              "      <th></th>\n",
              "    </tr>\n",
              "  </thead>\n",
              "  <tbody>\n",
              "    <tr>\n",
              "      <th>one</th>\n",
              "      <td>Kilho</td>\n",
              "      <td>1.5</td>\n",
              "      <td>0.1</td>\n",
              "    </tr>\n",
              "    <tr>\n",
              "      <th>two</th>\n",
              "      <td>Kilho</td>\n",
              "      <td>1.7</td>\n",
              "      <td>0.2</td>\n",
              "    </tr>\n",
              "    <tr>\n",
              "      <th>three</th>\n",
              "      <td>Kilho</td>\n",
              "      <td>3.6</td>\n",
              "      <td>0.3</td>\n",
              "    </tr>\n",
              "    <tr>\n",
              "      <th>four</th>\n",
              "      <td>Charles</td>\n",
              "      <td>2.4</td>\n",
              "      <td>0.4</td>\n",
              "    </tr>\n",
              "    <tr>\n",
              "      <th>five</th>\n",
              "      <td>Charles</td>\n",
              "      <td>2.9</td>\n",
              "      <td>0.5</td>\n",
              "    </tr>\n",
              "    <tr>\n",
              "      <th>six</th>\n",
              "      <td>Jun</td>\n",
              "      <td>4.0</td>\n",
              "      <td>0.1</td>\n",
              "    </tr>\n",
              "  </tbody>\n",
              "</table>\n",
              "</div>"
            ],
            "text/plain": [
              "Info     names  points  penalty\n",
              "Order                          \n",
              "one      Kilho     1.5      0.1\n",
              "two      Kilho     1.7      0.2\n",
              "three    Kilho     3.6      0.3\n",
              "four   Charles     2.4      0.4\n",
              "five   Charles     2.9      0.5\n",
              "six        Jun     4.0      0.1"
            ]
          },
          "metadata": {
            "tags": []
          },
          "execution_count": 258
        }
      ]
    },
    {
      "cell_type": "code",
      "metadata": {
        "id": "9GTmyfWdGeLp",
        "colab": {
          "base_uri": "https://localhost:8080/",
          "height": 35
        },
        "outputId": "2a999daf-2152-4ab8-a5cc-a768afb55992"
      },
      "source": [
        "df.iloc[1,1]"
      ],
      "execution_count": null,
      "outputs": [
        {
          "output_type": "execute_result",
          "data": {
            "application/vnd.google.colaboratory.intrinsic+json": {
              "type": "string"
            },
            "text/plain": [
              "'Kilho'"
            ]
          },
          "metadata": {
            "tags": []
          },
          "execution_count": 259
        }
      ]
    },
    {
      "cell_type": "markdown",
      "metadata": {
        "id": "F6JDjzV-GxRR"
      },
      "source": [
        "## 4. DataFrame에서의 boolean Indexing"
      ]
    },
    {
      "cell_type": "code",
      "metadata": {
        "id": "Ae7WS-sZGfAf",
        "colab": {
          "base_uri": "https://localhost:8080/",
          "height": 248
        },
        "outputId": "b17c888a-352a-4e63-88ac-8381a13dad3d"
      },
      "source": [
        "df"
      ],
      "execution_count": null,
      "outputs": [
        {
          "output_type": "execute_result",
          "data": {
            "text/html": [
              "<div>\n",
              "<style scoped>\n",
              "    .dataframe tbody tr th:only-of-type {\n",
              "        vertical-align: middle;\n",
              "    }\n",
              "\n",
              "    .dataframe tbody tr th {\n",
              "        vertical-align: top;\n",
              "    }\n",
              "\n",
              "    .dataframe thead th {\n",
              "        text-align: right;\n",
              "    }\n",
              "</style>\n",
              "<table border=\"1\" class=\"dataframe\">\n",
              "  <thead>\n",
              "    <tr style=\"text-align: right;\">\n",
              "      <th>Info</th>\n",
              "      <th>year</th>\n",
              "      <th>names</th>\n",
              "      <th>points</th>\n",
              "      <th>penalty</th>\n",
              "      <th>debt</th>\n",
              "    </tr>\n",
              "    <tr>\n",
              "      <th>Order</th>\n",
              "      <th></th>\n",
              "      <th></th>\n",
              "      <th></th>\n",
              "      <th></th>\n",
              "      <th></th>\n",
              "    </tr>\n",
              "  </thead>\n",
              "  <tbody>\n",
              "    <tr>\n",
              "      <th>one</th>\n",
              "      <td>2014.0</td>\n",
              "      <td>Kilho</td>\n",
              "      <td>1.5</td>\n",
              "      <td>0.1</td>\n",
              "      <td>NaN</td>\n",
              "    </tr>\n",
              "    <tr>\n",
              "      <th>two</th>\n",
              "      <td>2015.0</td>\n",
              "      <td>Kilho</td>\n",
              "      <td>1.7</td>\n",
              "      <td>0.2</td>\n",
              "      <td>-1.2</td>\n",
              "    </tr>\n",
              "    <tr>\n",
              "      <th>three</th>\n",
              "      <td>2016.0</td>\n",
              "      <td>Kilho</td>\n",
              "      <td>3.6</td>\n",
              "      <td>0.3</td>\n",
              "      <td>NaN</td>\n",
              "    </tr>\n",
              "    <tr>\n",
              "      <th>four</th>\n",
              "      <td>2015.0</td>\n",
              "      <td>Charles</td>\n",
              "      <td>2.4</td>\n",
              "      <td>0.4</td>\n",
              "      <td>-1.5</td>\n",
              "    </tr>\n",
              "    <tr>\n",
              "      <th>five</th>\n",
              "      <td>2016.0</td>\n",
              "      <td>Charles</td>\n",
              "      <td>2.9</td>\n",
              "      <td>0.5</td>\n",
              "      <td>-1.7</td>\n",
              "    </tr>\n",
              "    <tr>\n",
              "      <th>six</th>\n",
              "      <td>2013.0</td>\n",
              "      <td>Jun</td>\n",
              "      <td>4.0</td>\n",
              "      <td>0.1</td>\n",
              "      <td>2.1</td>\n",
              "    </tr>\n",
              "  </tbody>\n",
              "</table>\n",
              "</div>"
            ],
            "text/plain": [
              "Info     year    names  points  penalty  debt\n",
              "Order                                        \n",
              "one    2014.0    Kilho     1.5      0.1   NaN\n",
              "two    2015.0    Kilho     1.7      0.2  -1.2\n",
              "three  2016.0    Kilho     3.6      0.3   NaN\n",
              "four   2015.0  Charles     2.4      0.4  -1.5\n",
              "five   2016.0  Charles     2.9      0.5  -1.7\n",
              "six    2013.0      Jun     4.0      0.1   2.1"
            ]
          },
          "metadata": {
            "tags": []
          },
          "execution_count": 260
        }
      ]
    },
    {
      "cell_type": "code",
      "metadata": {
        "id": "prJo84kxG0jZ",
        "colab": {
          "base_uri": "https://localhost:8080/",
          "height": 157
        },
        "outputId": "ed2a598f-9eea-4776-e6eb-fee0c910be52"
      },
      "source": [
        "# year가 2014보다 큰 boolean data\n",
        "df['year'] > 2014"
      ],
      "execution_count": null,
      "outputs": [
        {
          "output_type": "execute_result",
          "data": {
            "text/plain": [
              "Order\n",
              "one      False\n",
              "two       True\n",
              "three     True\n",
              "four      True\n",
              "five      True\n",
              "six      False\n",
              "Name: year, dtype: bool"
            ]
          },
          "metadata": {
            "tags": []
          },
          "execution_count": 261
        }
      ]
    },
    {
      "cell_type": "code",
      "metadata": {
        "id": "rcm_oswZG3CB",
        "colab": {
          "base_uri": "https://localhost:8080/",
          "height": 191
        },
        "outputId": "618e1a98-a9fd-4ab2-f2c0-d656384bfa25"
      },
      "source": [
        "# year가 2014보다 큰 모든 행의 값\n",
        "df.loc[df['year']>2014,:]"
      ],
      "execution_count": null,
      "outputs": [
        {
          "output_type": "execute_result",
          "data": {
            "text/html": [
              "<div>\n",
              "<style scoped>\n",
              "    .dataframe tbody tr th:only-of-type {\n",
              "        vertical-align: middle;\n",
              "    }\n",
              "\n",
              "    .dataframe tbody tr th {\n",
              "        vertical-align: top;\n",
              "    }\n",
              "\n",
              "    .dataframe thead th {\n",
              "        text-align: right;\n",
              "    }\n",
              "</style>\n",
              "<table border=\"1\" class=\"dataframe\">\n",
              "  <thead>\n",
              "    <tr style=\"text-align: right;\">\n",
              "      <th>Info</th>\n",
              "      <th>year</th>\n",
              "      <th>names</th>\n",
              "      <th>points</th>\n",
              "      <th>penalty</th>\n",
              "      <th>debt</th>\n",
              "    </tr>\n",
              "    <tr>\n",
              "      <th>Order</th>\n",
              "      <th></th>\n",
              "      <th></th>\n",
              "      <th></th>\n",
              "      <th></th>\n",
              "      <th></th>\n",
              "    </tr>\n",
              "  </thead>\n",
              "  <tbody>\n",
              "    <tr>\n",
              "      <th>two</th>\n",
              "      <td>2015.0</td>\n",
              "      <td>Kilho</td>\n",
              "      <td>1.7</td>\n",
              "      <td>0.2</td>\n",
              "      <td>-1.2</td>\n",
              "    </tr>\n",
              "    <tr>\n",
              "      <th>three</th>\n",
              "      <td>2016.0</td>\n",
              "      <td>Kilho</td>\n",
              "      <td>3.6</td>\n",
              "      <td>0.3</td>\n",
              "      <td>NaN</td>\n",
              "    </tr>\n",
              "    <tr>\n",
              "      <th>four</th>\n",
              "      <td>2015.0</td>\n",
              "      <td>Charles</td>\n",
              "      <td>2.4</td>\n",
              "      <td>0.4</td>\n",
              "      <td>-1.5</td>\n",
              "    </tr>\n",
              "    <tr>\n",
              "      <th>five</th>\n",
              "      <td>2016.0</td>\n",
              "      <td>Charles</td>\n",
              "      <td>2.9</td>\n",
              "      <td>0.5</td>\n",
              "      <td>-1.7</td>\n",
              "    </tr>\n",
              "  </tbody>\n",
              "</table>\n",
              "</div>"
            ],
            "text/plain": [
              "Info     year    names  points  penalty  debt\n",
              "Order                                        \n",
              "two    2015.0    Kilho     1.7      0.2  -1.2\n",
              "three  2016.0    Kilho     3.6      0.3   NaN\n",
              "four   2015.0  Charles     2.4      0.4  -1.5\n",
              "five   2016.0  Charles     2.9      0.5  -1.7"
            ]
          },
          "metadata": {
            "tags": []
          },
          "execution_count": 262
        }
      ]
    },
    {
      "cell_type": "code",
      "metadata": {
        "id": "VvL0jjRlG4Ue",
        "colab": {
          "base_uri": "https://localhost:8080/",
          "height": 162
        },
        "outputId": "e8bbe1e4-3dbf-4257-c11b-530e96b30fc5"
      },
      "source": [
        "df.loc[df['names'] == 'Kilho',['names','points']]"
      ],
      "execution_count": null,
      "outputs": [
        {
          "output_type": "execute_result",
          "data": {
            "text/html": [
              "<div>\n",
              "<style scoped>\n",
              "    .dataframe tbody tr th:only-of-type {\n",
              "        vertical-align: middle;\n",
              "    }\n",
              "\n",
              "    .dataframe tbody tr th {\n",
              "        vertical-align: top;\n",
              "    }\n",
              "\n",
              "    .dataframe thead th {\n",
              "        text-align: right;\n",
              "    }\n",
              "</style>\n",
              "<table border=\"1\" class=\"dataframe\">\n",
              "  <thead>\n",
              "    <tr style=\"text-align: right;\">\n",
              "      <th>Info</th>\n",
              "      <th>names</th>\n",
              "      <th>points</th>\n",
              "    </tr>\n",
              "    <tr>\n",
              "      <th>Order</th>\n",
              "      <th></th>\n",
              "      <th></th>\n",
              "    </tr>\n",
              "  </thead>\n",
              "  <tbody>\n",
              "    <tr>\n",
              "      <th>one</th>\n",
              "      <td>Kilho</td>\n",
              "      <td>1.5</td>\n",
              "    </tr>\n",
              "    <tr>\n",
              "      <th>two</th>\n",
              "      <td>Kilho</td>\n",
              "      <td>1.7</td>\n",
              "    </tr>\n",
              "    <tr>\n",
              "      <th>three</th>\n",
              "      <td>Kilho</td>\n",
              "      <td>3.6</td>\n",
              "    </tr>\n",
              "  </tbody>\n",
              "</table>\n",
              "</div>"
            ],
            "text/plain": [
              "Info   names  points\n",
              "Order               \n",
              "one    Kilho     1.5\n",
              "two    Kilho     1.7\n",
              "three  Kilho     3.6"
            ]
          },
          "metadata": {
            "tags": []
          },
          "execution_count": 263
        }
      ]
    },
    {
      "cell_type": "code",
      "metadata": {
        "id": "niwSQEGuHCeF",
        "colab": {
          "base_uri": "https://localhost:8080/",
          "height": 133
        },
        "outputId": "ec473f8c-666e-45fb-8d7a-01d98da9789e"
      },
      "source": [
        "# numpy에서와 같이 논리연산을 응용할 수 있다.\n",
        "df.loc[(df['points']>2)&(df['points']<3),:]"
      ],
      "execution_count": null,
      "outputs": [
        {
          "output_type": "execute_result",
          "data": {
            "text/html": [
              "<div>\n",
              "<style scoped>\n",
              "    .dataframe tbody tr th:only-of-type {\n",
              "        vertical-align: middle;\n",
              "    }\n",
              "\n",
              "    .dataframe tbody tr th {\n",
              "        vertical-align: top;\n",
              "    }\n",
              "\n",
              "    .dataframe thead th {\n",
              "        text-align: right;\n",
              "    }\n",
              "</style>\n",
              "<table border=\"1\" class=\"dataframe\">\n",
              "  <thead>\n",
              "    <tr style=\"text-align: right;\">\n",
              "      <th>Info</th>\n",
              "      <th>year</th>\n",
              "      <th>names</th>\n",
              "      <th>points</th>\n",
              "      <th>penalty</th>\n",
              "      <th>debt</th>\n",
              "    </tr>\n",
              "    <tr>\n",
              "      <th>Order</th>\n",
              "      <th></th>\n",
              "      <th></th>\n",
              "      <th></th>\n",
              "      <th></th>\n",
              "      <th></th>\n",
              "    </tr>\n",
              "  </thead>\n",
              "  <tbody>\n",
              "    <tr>\n",
              "      <th>four</th>\n",
              "      <td>2015.0</td>\n",
              "      <td>Charles</td>\n",
              "      <td>2.4</td>\n",
              "      <td>0.4</td>\n",
              "      <td>-1.5</td>\n",
              "    </tr>\n",
              "    <tr>\n",
              "      <th>five</th>\n",
              "      <td>2016.0</td>\n",
              "      <td>Charles</td>\n",
              "      <td>2.9</td>\n",
              "      <td>0.5</td>\n",
              "      <td>-1.7</td>\n",
              "    </tr>\n",
              "  </tbody>\n",
              "</table>\n",
              "</div>"
            ],
            "text/plain": [
              "Info     year    names  points  penalty  debt\n",
              "Order                                        \n",
              "four   2015.0  Charles     2.4      0.4  -1.5\n",
              "five   2016.0  Charles     2.9      0.5  -1.7"
            ]
          },
          "metadata": {
            "tags": []
          },
          "execution_count": 264
        }
      ]
    },
    {
      "cell_type": "code",
      "metadata": {
        "id": "OTqJKaF1HDsx"
      },
      "source": [
        "# 새로운 값을 대입할 수도 있다.\n",
        "# points가 3보다 큰 행들에 대해 penalty 열에 0 대입\n",
        "df.loc[df['points'] > 3, 'penalty'] = 0"
      ],
      "execution_count": null,
      "outputs": []
    },
    {
      "cell_type": "code",
      "metadata": {
        "id": "NsXxRm7iHFbd",
        "colab": {
          "base_uri": "https://localhost:8080/",
          "height": 248
        },
        "outputId": "8f9ed21d-9407-4ddf-f633-0f731d51d5c6"
      },
      "source": [
        "df"
      ],
      "execution_count": null,
      "outputs": [
        {
          "output_type": "execute_result",
          "data": {
            "text/html": [
              "<div>\n",
              "<style scoped>\n",
              "    .dataframe tbody tr th:only-of-type {\n",
              "        vertical-align: middle;\n",
              "    }\n",
              "\n",
              "    .dataframe tbody tr th {\n",
              "        vertical-align: top;\n",
              "    }\n",
              "\n",
              "    .dataframe thead th {\n",
              "        text-align: right;\n",
              "    }\n",
              "</style>\n",
              "<table border=\"1\" class=\"dataframe\">\n",
              "  <thead>\n",
              "    <tr style=\"text-align: right;\">\n",
              "      <th>Info</th>\n",
              "      <th>year</th>\n",
              "      <th>names</th>\n",
              "      <th>points</th>\n",
              "      <th>penalty</th>\n",
              "      <th>debt</th>\n",
              "    </tr>\n",
              "    <tr>\n",
              "      <th>Order</th>\n",
              "      <th></th>\n",
              "      <th></th>\n",
              "      <th></th>\n",
              "      <th></th>\n",
              "      <th></th>\n",
              "    </tr>\n",
              "  </thead>\n",
              "  <tbody>\n",
              "    <tr>\n",
              "      <th>one</th>\n",
              "      <td>2014.0</td>\n",
              "      <td>Kilho</td>\n",
              "      <td>1.5</td>\n",
              "      <td>0.1</td>\n",
              "      <td>NaN</td>\n",
              "    </tr>\n",
              "    <tr>\n",
              "      <th>two</th>\n",
              "      <td>2015.0</td>\n",
              "      <td>Kilho</td>\n",
              "      <td>1.7</td>\n",
              "      <td>0.2</td>\n",
              "      <td>-1.2</td>\n",
              "    </tr>\n",
              "    <tr>\n",
              "      <th>three</th>\n",
              "      <td>2016.0</td>\n",
              "      <td>Kilho</td>\n",
              "      <td>3.6</td>\n",
              "      <td>0.0</td>\n",
              "      <td>NaN</td>\n",
              "    </tr>\n",
              "    <tr>\n",
              "      <th>four</th>\n",
              "      <td>2015.0</td>\n",
              "      <td>Charles</td>\n",
              "      <td>2.4</td>\n",
              "      <td>0.4</td>\n",
              "      <td>-1.5</td>\n",
              "    </tr>\n",
              "    <tr>\n",
              "      <th>five</th>\n",
              "      <td>2016.0</td>\n",
              "      <td>Charles</td>\n",
              "      <td>2.9</td>\n",
              "      <td>0.5</td>\n",
              "      <td>-1.7</td>\n",
              "    </tr>\n",
              "    <tr>\n",
              "      <th>six</th>\n",
              "      <td>2013.0</td>\n",
              "      <td>Jun</td>\n",
              "      <td>4.0</td>\n",
              "      <td>0.0</td>\n",
              "      <td>2.1</td>\n",
              "    </tr>\n",
              "  </tbody>\n",
              "</table>\n",
              "</div>"
            ],
            "text/plain": [
              "Info     year    names  points  penalty  debt\n",
              "Order                                        \n",
              "one    2014.0    Kilho     1.5      0.1   NaN\n",
              "two    2015.0    Kilho     1.7      0.2  -1.2\n",
              "three  2016.0    Kilho     3.6      0.0   NaN\n",
              "four   2015.0  Charles     2.4      0.4  -1.5\n",
              "five   2016.0  Charles     2.9      0.5  -1.7\n",
              "six    2013.0      Jun     4.0      0.0   2.1"
            ]
          },
          "metadata": {
            "tags": []
          },
          "execution_count": 266
        }
      ]
    },
    {
      "cell_type": "markdown",
      "metadata": {
        "id": "oHV6g47cHI2X"
      },
      "source": [
        "## 5. Data 다루기"
      ]
    },
    {
      "cell_type": "code",
      "metadata": {
        "id": "8J5aoIo-HGF1",
        "colab": {
          "base_uri": "https://localhost:8080/",
          "height": 220
        },
        "outputId": "4d74f2db-1c6c-4f48-dccd-ca4554ac39ef"
      },
      "source": [
        "# DataFrame을 만들때 index, column을 설정하지 않으면 기본값으로 0부터 시작하는 정수형 숫자로 입력된다.\n",
        "df = pd.DataFrame(np.random.randn(6,4))\n",
        "df"
      ],
      "execution_count": null,
      "outputs": [
        {
          "output_type": "execute_result",
          "data": {
            "text/html": [
              "<div>\n",
              "<style scoped>\n",
              "    .dataframe tbody tr th:only-of-type {\n",
              "        vertical-align: middle;\n",
              "    }\n",
              "\n",
              "    .dataframe tbody tr th {\n",
              "        vertical-align: top;\n",
              "    }\n",
              "\n",
              "    .dataframe thead th {\n",
              "        text-align: right;\n",
              "    }\n",
              "</style>\n",
              "<table border=\"1\" class=\"dataframe\">\n",
              "  <thead>\n",
              "    <tr style=\"text-align: right;\">\n",
              "      <th></th>\n",
              "      <th>0</th>\n",
              "      <th>1</th>\n",
              "      <th>2</th>\n",
              "      <th>3</th>\n",
              "    </tr>\n",
              "  </thead>\n",
              "  <tbody>\n",
              "    <tr>\n",
              "      <th>0</th>\n",
              "      <td>-0.540387</td>\n",
              "      <td>0.994427</td>\n",
              "      <td>0.274002</td>\n",
              "      <td>0.714434</td>\n",
              "    </tr>\n",
              "    <tr>\n",
              "      <th>1</th>\n",
              "      <td>-0.524720</td>\n",
              "      <td>-0.010715</td>\n",
              "      <td>-0.886161</td>\n",
              "      <td>-0.976359</td>\n",
              "    </tr>\n",
              "    <tr>\n",
              "      <th>2</th>\n",
              "      <td>1.048630</td>\n",
              "      <td>-0.019561</td>\n",
              "      <td>0.821152</td>\n",
              "      <td>0.000585</td>\n",
              "    </tr>\n",
              "    <tr>\n",
              "      <th>3</th>\n",
              "      <td>1.364620</td>\n",
              "      <td>0.880824</td>\n",
              "      <td>-0.548171</td>\n",
              "      <td>-1.012842</td>\n",
              "    </tr>\n",
              "    <tr>\n",
              "      <th>4</th>\n",
              "      <td>0.602372</td>\n",
              "      <td>0.467658</td>\n",
              "      <td>-0.623647</td>\n",
              "      <td>1.215487</td>\n",
              "    </tr>\n",
              "    <tr>\n",
              "      <th>5</th>\n",
              "      <td>0.708089</td>\n",
              "      <td>2.012964</td>\n",
              "      <td>-0.484616</td>\n",
              "      <td>1.149019</td>\n",
              "    </tr>\n",
              "  </tbody>\n",
              "</table>\n",
              "</div>"
            ],
            "text/plain": [
              "          0         1         2         3\n",
              "0 -0.540387  0.994427  0.274002  0.714434\n",
              "1 -0.524720 -0.010715 -0.886161 -0.976359\n",
              "2  1.048630 -0.019561  0.821152  0.000585\n",
              "3  1.364620  0.880824 -0.548171 -1.012842\n",
              "4  0.602372  0.467658 -0.623647  1.215487\n",
              "5  0.708089  2.012964 -0.484616  1.149019"
            ]
          },
          "metadata": {
            "tags": []
          },
          "execution_count": 267
        }
      ]
    },
    {
      "cell_type": "code",
      "metadata": {
        "id": "y84SZT8jHLZ5",
        "colab": {
          "base_uri": "https://localhost:8080/",
          "height": 70
        },
        "outputId": "c78c654c-f64c-4b00-b81b-a212f0d4e322"
      },
      "source": [
        "df.columns = ['A', 'B', 'C', 'D']\n",
        "df.index = pd.date_range('20160701', periods=6)\n",
        "#pandas에서 제공하는 date range함수는 datetime 자료형으로 구성된, 날짜 시각등을 알 수 있는 자료형을 만드는 함수\n",
        "df.index"
      ],
      "execution_count": null,
      "outputs": [
        {
          "output_type": "execute_result",
          "data": {
            "text/plain": [
              "DatetimeIndex(['2016-07-01', '2016-07-02', '2016-07-03', '2016-07-04',\n",
              "               '2016-07-05', '2016-07-06'],\n",
              "              dtype='datetime64[ns]', freq='D')"
            ]
          },
          "metadata": {
            "tags": []
          },
          "execution_count": 268
        }
      ]
    },
    {
      "cell_type": "code",
      "metadata": {
        "id": "nfdj47gBHPVU",
        "colab": {
          "base_uri": "https://localhost:8080/",
          "height": 220
        },
        "outputId": "c2bbf4de-871a-4a62-a17b-f24ab34f9f67"
      },
      "source": [
        "df"
      ],
      "execution_count": null,
      "outputs": [
        {
          "output_type": "execute_result",
          "data": {
            "text/html": [
              "<div>\n",
              "<style scoped>\n",
              "    .dataframe tbody tr th:only-of-type {\n",
              "        vertical-align: middle;\n",
              "    }\n",
              "\n",
              "    .dataframe tbody tr th {\n",
              "        vertical-align: top;\n",
              "    }\n",
              "\n",
              "    .dataframe thead th {\n",
              "        text-align: right;\n",
              "    }\n",
              "</style>\n",
              "<table border=\"1\" class=\"dataframe\">\n",
              "  <thead>\n",
              "    <tr style=\"text-align: right;\">\n",
              "      <th></th>\n",
              "      <th>A</th>\n",
              "      <th>B</th>\n",
              "      <th>C</th>\n",
              "      <th>D</th>\n",
              "    </tr>\n",
              "  </thead>\n",
              "  <tbody>\n",
              "    <tr>\n",
              "      <th>2016-07-01</th>\n",
              "      <td>-0.540387</td>\n",
              "      <td>0.994427</td>\n",
              "      <td>0.274002</td>\n",
              "      <td>0.714434</td>\n",
              "    </tr>\n",
              "    <tr>\n",
              "      <th>2016-07-02</th>\n",
              "      <td>-0.524720</td>\n",
              "      <td>-0.010715</td>\n",
              "      <td>-0.886161</td>\n",
              "      <td>-0.976359</td>\n",
              "    </tr>\n",
              "    <tr>\n",
              "      <th>2016-07-03</th>\n",
              "      <td>1.048630</td>\n",
              "      <td>-0.019561</td>\n",
              "      <td>0.821152</td>\n",
              "      <td>0.000585</td>\n",
              "    </tr>\n",
              "    <tr>\n",
              "      <th>2016-07-04</th>\n",
              "      <td>1.364620</td>\n",
              "      <td>0.880824</td>\n",
              "      <td>-0.548171</td>\n",
              "      <td>-1.012842</td>\n",
              "    </tr>\n",
              "    <tr>\n",
              "      <th>2016-07-05</th>\n",
              "      <td>0.602372</td>\n",
              "      <td>0.467658</td>\n",
              "      <td>-0.623647</td>\n",
              "      <td>1.215487</td>\n",
              "    </tr>\n",
              "    <tr>\n",
              "      <th>2016-07-06</th>\n",
              "      <td>0.708089</td>\n",
              "      <td>2.012964</td>\n",
              "      <td>-0.484616</td>\n",
              "      <td>1.149019</td>\n",
              "    </tr>\n",
              "  </tbody>\n",
              "</table>\n",
              "</div>"
            ],
            "text/plain": [
              "                   A         B         C         D\n",
              "2016-07-01 -0.540387  0.994427  0.274002  0.714434\n",
              "2016-07-02 -0.524720 -0.010715 -0.886161 -0.976359\n",
              "2016-07-03  1.048630 -0.019561  0.821152  0.000585\n",
              "2016-07-04  1.364620  0.880824 -0.548171 -1.012842\n",
              "2016-07-05  0.602372  0.467658 -0.623647  1.215487\n",
              "2016-07-06  0.708089  2.012964 -0.484616  1.149019"
            ]
          },
          "metadata": {
            "tags": []
          },
          "execution_count": 269
        }
      ]
    },
    {
      "cell_type": "code",
      "metadata": {
        "id": "E0ytsegpHQkk",
        "colab": {
          "base_uri": "https://localhost:8080/",
          "height": 220
        },
        "outputId": "50dfc5d0-79b0-4def-ba1d-6316bd73e4d9"
      },
      "source": [
        "# np.nan은 NaN값을 의미한다.\n",
        "df['F'] = [1.0, np.nan, 3.5, 6.1, np.nan, 7.0]\n",
        "df"
      ],
      "execution_count": null,
      "outputs": [
        {
          "output_type": "execute_result",
          "data": {
            "text/html": [
              "<div>\n",
              "<style scoped>\n",
              "    .dataframe tbody tr th:only-of-type {\n",
              "        vertical-align: middle;\n",
              "    }\n",
              "\n",
              "    .dataframe tbody tr th {\n",
              "        vertical-align: top;\n",
              "    }\n",
              "\n",
              "    .dataframe thead th {\n",
              "        text-align: right;\n",
              "    }\n",
              "</style>\n",
              "<table border=\"1\" class=\"dataframe\">\n",
              "  <thead>\n",
              "    <tr style=\"text-align: right;\">\n",
              "      <th></th>\n",
              "      <th>A</th>\n",
              "      <th>B</th>\n",
              "      <th>C</th>\n",
              "      <th>D</th>\n",
              "      <th>F</th>\n",
              "    </tr>\n",
              "  </thead>\n",
              "  <tbody>\n",
              "    <tr>\n",
              "      <th>2016-07-01</th>\n",
              "      <td>-0.540387</td>\n",
              "      <td>0.994427</td>\n",
              "      <td>0.274002</td>\n",
              "      <td>0.714434</td>\n",
              "      <td>1.0</td>\n",
              "    </tr>\n",
              "    <tr>\n",
              "      <th>2016-07-02</th>\n",
              "      <td>-0.524720</td>\n",
              "      <td>-0.010715</td>\n",
              "      <td>-0.886161</td>\n",
              "      <td>-0.976359</td>\n",
              "      <td>NaN</td>\n",
              "    </tr>\n",
              "    <tr>\n",
              "      <th>2016-07-03</th>\n",
              "      <td>1.048630</td>\n",
              "      <td>-0.019561</td>\n",
              "      <td>0.821152</td>\n",
              "      <td>0.000585</td>\n",
              "      <td>3.5</td>\n",
              "    </tr>\n",
              "    <tr>\n",
              "      <th>2016-07-04</th>\n",
              "      <td>1.364620</td>\n",
              "      <td>0.880824</td>\n",
              "      <td>-0.548171</td>\n",
              "      <td>-1.012842</td>\n",
              "      <td>6.1</td>\n",
              "    </tr>\n",
              "    <tr>\n",
              "      <th>2016-07-05</th>\n",
              "      <td>0.602372</td>\n",
              "      <td>0.467658</td>\n",
              "      <td>-0.623647</td>\n",
              "      <td>1.215487</td>\n",
              "      <td>NaN</td>\n",
              "    </tr>\n",
              "    <tr>\n",
              "      <th>2016-07-06</th>\n",
              "      <td>0.708089</td>\n",
              "      <td>2.012964</td>\n",
              "      <td>-0.484616</td>\n",
              "      <td>1.149019</td>\n",
              "      <td>7.0</td>\n",
              "    </tr>\n",
              "  </tbody>\n",
              "</table>\n",
              "</div>"
            ],
            "text/plain": [
              "                   A         B         C         D    F\n",
              "2016-07-01 -0.540387  0.994427  0.274002  0.714434  1.0\n",
              "2016-07-02 -0.524720 -0.010715 -0.886161 -0.976359  NaN\n",
              "2016-07-03  1.048630 -0.019561  0.821152  0.000585  3.5\n",
              "2016-07-04  1.364620  0.880824 -0.548171 -1.012842  6.1\n",
              "2016-07-05  0.602372  0.467658 -0.623647  1.215487  NaN\n",
              "2016-07-06  0.708089  2.012964 -0.484616  1.149019  7.0"
            ]
          },
          "metadata": {
            "tags": []
          },
          "execution_count": 270
        }
      ]
    },
    {
      "cell_type": "markdown",
      "metadata": {
        "id": "F6XNBepXHTXl"
      },
      "source": [
        "#### NaN 없애기"
      ]
    },
    {
      "cell_type": "code",
      "metadata": {
        "id": "YueAjGf4HSCu",
        "colab": {
          "base_uri": "https://localhost:8080/",
          "height": 162
        },
        "outputId": "f9d585db-ca88-4cfb-ce37-3e889808b074"
      },
      "source": [
        "# 행의 값중 하나라도 nan인 경우 그 행을 없앤다.\n",
        "df.dropna(how='any') "
      ],
      "execution_count": null,
      "outputs": [
        {
          "output_type": "execute_result",
          "data": {
            "text/html": [
              "<div>\n",
              "<style scoped>\n",
              "    .dataframe tbody tr th:only-of-type {\n",
              "        vertical-align: middle;\n",
              "    }\n",
              "\n",
              "    .dataframe tbody tr th {\n",
              "        vertical-align: top;\n",
              "    }\n",
              "\n",
              "    .dataframe thead th {\n",
              "        text-align: right;\n",
              "    }\n",
              "</style>\n",
              "<table border=\"1\" class=\"dataframe\">\n",
              "  <thead>\n",
              "    <tr style=\"text-align: right;\">\n",
              "      <th></th>\n",
              "      <th>A</th>\n",
              "      <th>B</th>\n",
              "      <th>C</th>\n",
              "      <th>D</th>\n",
              "      <th>F</th>\n",
              "    </tr>\n",
              "  </thead>\n",
              "  <tbody>\n",
              "    <tr>\n",
              "      <th>2016-07-01</th>\n",
              "      <td>-0.540387</td>\n",
              "      <td>0.994427</td>\n",
              "      <td>0.274002</td>\n",
              "      <td>0.714434</td>\n",
              "      <td>1.0</td>\n",
              "    </tr>\n",
              "    <tr>\n",
              "      <th>2016-07-03</th>\n",
              "      <td>1.048630</td>\n",
              "      <td>-0.019561</td>\n",
              "      <td>0.821152</td>\n",
              "      <td>0.000585</td>\n",
              "      <td>3.5</td>\n",
              "    </tr>\n",
              "    <tr>\n",
              "      <th>2016-07-04</th>\n",
              "      <td>1.364620</td>\n",
              "      <td>0.880824</td>\n",
              "      <td>-0.548171</td>\n",
              "      <td>-1.012842</td>\n",
              "      <td>6.1</td>\n",
              "    </tr>\n",
              "    <tr>\n",
              "      <th>2016-07-06</th>\n",
              "      <td>0.708089</td>\n",
              "      <td>2.012964</td>\n",
              "      <td>-0.484616</td>\n",
              "      <td>1.149019</td>\n",
              "      <td>7.0</td>\n",
              "    </tr>\n",
              "  </tbody>\n",
              "</table>\n",
              "</div>"
            ],
            "text/plain": [
              "                   A         B         C         D    F\n",
              "2016-07-01 -0.540387  0.994427  0.274002  0.714434  1.0\n",
              "2016-07-03  1.048630 -0.019561  0.821152  0.000585  3.5\n",
              "2016-07-04  1.364620  0.880824 -0.548171 -1.012842  6.1\n",
              "2016-07-06  0.708089  2.012964 -0.484616  1.149019  7.0"
            ]
          },
          "metadata": {
            "tags": []
          },
          "execution_count": 271
        }
      ]
    },
    {
      "cell_type": "code",
      "metadata": {
        "id": "xgt2xWGdHVy2",
        "colab": {
          "base_uri": "https://localhost:8080/",
          "height": 220
        },
        "outputId": "05b83709-02a1-4fdd-bc90-6bb0644872c2"
      },
      "source": [
        "# 행의 값의 모든 값이 nan인 경우 그 행을 없앤다.\n",
        "df.dropna(how='all')"
      ],
      "execution_count": null,
      "outputs": [
        {
          "output_type": "execute_result",
          "data": {
            "text/html": [
              "<div>\n",
              "<style scoped>\n",
              "    .dataframe tbody tr th:only-of-type {\n",
              "        vertical-align: middle;\n",
              "    }\n",
              "\n",
              "    .dataframe tbody tr th {\n",
              "        vertical-align: top;\n",
              "    }\n",
              "\n",
              "    .dataframe thead th {\n",
              "        text-align: right;\n",
              "    }\n",
              "</style>\n",
              "<table border=\"1\" class=\"dataframe\">\n",
              "  <thead>\n",
              "    <tr style=\"text-align: right;\">\n",
              "      <th></th>\n",
              "      <th>A</th>\n",
              "      <th>B</th>\n",
              "      <th>C</th>\n",
              "      <th>D</th>\n",
              "      <th>F</th>\n",
              "    </tr>\n",
              "  </thead>\n",
              "  <tbody>\n",
              "    <tr>\n",
              "      <th>2016-07-01</th>\n",
              "      <td>-0.540387</td>\n",
              "      <td>0.994427</td>\n",
              "      <td>0.274002</td>\n",
              "      <td>0.714434</td>\n",
              "      <td>1.0</td>\n",
              "    </tr>\n",
              "    <tr>\n",
              "      <th>2016-07-02</th>\n",
              "      <td>-0.524720</td>\n",
              "      <td>-0.010715</td>\n",
              "      <td>-0.886161</td>\n",
              "      <td>-0.976359</td>\n",
              "      <td>NaN</td>\n",
              "    </tr>\n",
              "    <tr>\n",
              "      <th>2016-07-03</th>\n",
              "      <td>1.048630</td>\n",
              "      <td>-0.019561</td>\n",
              "      <td>0.821152</td>\n",
              "      <td>0.000585</td>\n",
              "      <td>3.5</td>\n",
              "    </tr>\n",
              "    <tr>\n",
              "      <th>2016-07-04</th>\n",
              "      <td>1.364620</td>\n",
              "      <td>0.880824</td>\n",
              "      <td>-0.548171</td>\n",
              "      <td>-1.012842</td>\n",
              "      <td>6.1</td>\n",
              "    </tr>\n",
              "    <tr>\n",
              "      <th>2016-07-05</th>\n",
              "      <td>0.602372</td>\n",
              "      <td>0.467658</td>\n",
              "      <td>-0.623647</td>\n",
              "      <td>1.215487</td>\n",
              "      <td>NaN</td>\n",
              "    </tr>\n",
              "    <tr>\n",
              "      <th>2016-07-06</th>\n",
              "      <td>0.708089</td>\n",
              "      <td>2.012964</td>\n",
              "      <td>-0.484616</td>\n",
              "      <td>1.149019</td>\n",
              "      <td>7.0</td>\n",
              "    </tr>\n",
              "  </tbody>\n",
              "</table>\n",
              "</div>"
            ],
            "text/plain": [
              "                   A         B         C         D    F\n",
              "2016-07-01 -0.540387  0.994427  0.274002  0.714434  1.0\n",
              "2016-07-02 -0.524720 -0.010715 -0.886161 -0.976359  NaN\n",
              "2016-07-03  1.048630 -0.019561  0.821152  0.000585  3.5\n",
              "2016-07-04  1.364620  0.880824 -0.548171 -1.012842  6.1\n",
              "2016-07-05  0.602372  0.467658 -0.623647  1.215487  NaN\n",
              "2016-07-06  0.708089  2.012964 -0.484616  1.149019  7.0"
            ]
          },
          "metadata": {
            "tags": []
          },
          "execution_count": 272
        }
      ]
    },
    {
      "cell_type": "code",
      "metadata": {
        "id": "-OgFzsLjHW_r",
        "colab": {
          "base_uri": "https://localhost:8080/",
          "height": 220
        },
        "outputId": "7b0bba49-0f67-4a4a-a55a-2e27a43f3f95"
      },
      "source": [
        "# nan값에 값 넣기\n",
        "df.fillna(value=0.5)"
      ],
      "execution_count": null,
      "outputs": [
        {
          "output_type": "execute_result",
          "data": {
            "text/html": [
              "<div>\n",
              "<style scoped>\n",
              "    .dataframe tbody tr th:only-of-type {\n",
              "        vertical-align: middle;\n",
              "    }\n",
              "\n",
              "    .dataframe tbody tr th {\n",
              "        vertical-align: top;\n",
              "    }\n",
              "\n",
              "    .dataframe thead th {\n",
              "        text-align: right;\n",
              "    }\n",
              "</style>\n",
              "<table border=\"1\" class=\"dataframe\">\n",
              "  <thead>\n",
              "    <tr style=\"text-align: right;\">\n",
              "      <th></th>\n",
              "      <th>A</th>\n",
              "      <th>B</th>\n",
              "      <th>C</th>\n",
              "      <th>D</th>\n",
              "      <th>F</th>\n",
              "    </tr>\n",
              "  </thead>\n",
              "  <tbody>\n",
              "    <tr>\n",
              "      <th>2016-07-01</th>\n",
              "      <td>-0.540387</td>\n",
              "      <td>0.994427</td>\n",
              "      <td>0.274002</td>\n",
              "      <td>0.714434</td>\n",
              "      <td>1.0</td>\n",
              "    </tr>\n",
              "    <tr>\n",
              "      <th>2016-07-02</th>\n",
              "      <td>-0.524720</td>\n",
              "      <td>-0.010715</td>\n",
              "      <td>-0.886161</td>\n",
              "      <td>-0.976359</td>\n",
              "      <td>0.5</td>\n",
              "    </tr>\n",
              "    <tr>\n",
              "      <th>2016-07-03</th>\n",
              "      <td>1.048630</td>\n",
              "      <td>-0.019561</td>\n",
              "      <td>0.821152</td>\n",
              "      <td>0.000585</td>\n",
              "      <td>3.5</td>\n",
              "    </tr>\n",
              "    <tr>\n",
              "      <th>2016-07-04</th>\n",
              "      <td>1.364620</td>\n",
              "      <td>0.880824</td>\n",
              "      <td>-0.548171</td>\n",
              "      <td>-1.012842</td>\n",
              "      <td>6.1</td>\n",
              "    </tr>\n",
              "    <tr>\n",
              "      <th>2016-07-05</th>\n",
              "      <td>0.602372</td>\n",
              "      <td>0.467658</td>\n",
              "      <td>-0.623647</td>\n",
              "      <td>1.215487</td>\n",
              "      <td>0.5</td>\n",
              "    </tr>\n",
              "    <tr>\n",
              "      <th>2016-07-06</th>\n",
              "      <td>0.708089</td>\n",
              "      <td>2.012964</td>\n",
              "      <td>-0.484616</td>\n",
              "      <td>1.149019</td>\n",
              "      <td>7.0</td>\n",
              "    </tr>\n",
              "  </tbody>\n",
              "</table>\n",
              "</div>"
            ],
            "text/plain": [
              "                   A         B         C         D    F\n",
              "2016-07-01 -0.540387  0.994427  0.274002  0.714434  1.0\n",
              "2016-07-02 -0.524720 -0.010715 -0.886161 -0.976359  0.5\n",
              "2016-07-03  1.048630 -0.019561  0.821152  0.000585  3.5\n",
              "2016-07-04  1.364620  0.880824 -0.548171 -1.012842  6.1\n",
              "2016-07-05  0.602372  0.467658 -0.623647  1.215487  0.5\n",
              "2016-07-06  0.708089  2.012964 -0.484616  1.149019  7.0"
            ]
          },
          "metadata": {
            "tags": []
          },
          "execution_count": 273
        }
      ]
    },
    {
      "cell_type": "code",
      "metadata": {
        "id": "5exH59vHHetV",
        "colab": {
          "base_uri": "https://localhost:8080/",
          "height": 220
        },
        "outputId": "b3968b4d-f881-4176-865b-f61254865d23"
      },
      "source": [
        "# nan값인지 확인하기\n",
        "df.isnull()"
      ],
      "execution_count": null,
      "outputs": [
        {
          "output_type": "execute_result",
          "data": {
            "text/html": [
              "<div>\n",
              "<style scoped>\n",
              "    .dataframe tbody tr th:only-of-type {\n",
              "        vertical-align: middle;\n",
              "    }\n",
              "\n",
              "    .dataframe tbody tr th {\n",
              "        vertical-align: top;\n",
              "    }\n",
              "\n",
              "    .dataframe thead th {\n",
              "        text-align: right;\n",
              "    }\n",
              "</style>\n",
              "<table border=\"1\" class=\"dataframe\">\n",
              "  <thead>\n",
              "    <tr style=\"text-align: right;\">\n",
              "      <th></th>\n",
              "      <th>A</th>\n",
              "      <th>B</th>\n",
              "      <th>C</th>\n",
              "      <th>D</th>\n",
              "      <th>F</th>\n",
              "    </tr>\n",
              "  </thead>\n",
              "  <tbody>\n",
              "    <tr>\n",
              "      <th>2016-07-01</th>\n",
              "      <td>False</td>\n",
              "      <td>False</td>\n",
              "      <td>False</td>\n",
              "      <td>False</td>\n",
              "      <td>False</td>\n",
              "    </tr>\n",
              "    <tr>\n",
              "      <th>2016-07-02</th>\n",
              "      <td>False</td>\n",
              "      <td>False</td>\n",
              "      <td>False</td>\n",
              "      <td>False</td>\n",
              "      <td>True</td>\n",
              "    </tr>\n",
              "    <tr>\n",
              "      <th>2016-07-03</th>\n",
              "      <td>False</td>\n",
              "      <td>False</td>\n",
              "      <td>False</td>\n",
              "      <td>False</td>\n",
              "      <td>False</td>\n",
              "    </tr>\n",
              "    <tr>\n",
              "      <th>2016-07-04</th>\n",
              "      <td>False</td>\n",
              "      <td>False</td>\n",
              "      <td>False</td>\n",
              "      <td>False</td>\n",
              "      <td>False</td>\n",
              "    </tr>\n",
              "    <tr>\n",
              "      <th>2016-07-05</th>\n",
              "      <td>False</td>\n",
              "      <td>False</td>\n",
              "      <td>False</td>\n",
              "      <td>False</td>\n",
              "      <td>True</td>\n",
              "    </tr>\n",
              "    <tr>\n",
              "      <th>2016-07-06</th>\n",
              "      <td>False</td>\n",
              "      <td>False</td>\n",
              "      <td>False</td>\n",
              "      <td>False</td>\n",
              "      <td>False</td>\n",
              "    </tr>\n",
              "  </tbody>\n",
              "</table>\n",
              "</div>"
            ],
            "text/plain": [
              "                A      B      C      D      F\n",
              "2016-07-01  False  False  False  False  False\n",
              "2016-07-02  False  False  False  False   True\n",
              "2016-07-03  False  False  False  False  False\n",
              "2016-07-04  False  False  False  False  False\n",
              "2016-07-05  False  False  False  False   True\n",
              "2016-07-06  False  False  False  False  False"
            ]
          },
          "metadata": {
            "tags": []
          },
          "execution_count": 274
        }
      ]
    },
    {
      "cell_type": "code",
      "metadata": {
        "id": "tPyVYhayHg53",
        "colab": {
          "base_uri": "https://localhost:8080/",
          "height": 105
        },
        "outputId": "9030ac71-bd07-41d4-8d2b-e184853e841d"
      },
      "source": [
        "# F열에서 nan값을 포함하는 행만 추출하기\n",
        "df.loc[df.isnull()['F'],:]"
      ],
      "execution_count": null,
      "outputs": [
        {
          "output_type": "execute_result",
          "data": {
            "text/html": [
              "<div>\n",
              "<style scoped>\n",
              "    .dataframe tbody tr th:only-of-type {\n",
              "        vertical-align: middle;\n",
              "    }\n",
              "\n",
              "    .dataframe tbody tr th {\n",
              "        vertical-align: top;\n",
              "    }\n",
              "\n",
              "    .dataframe thead th {\n",
              "        text-align: right;\n",
              "    }\n",
              "</style>\n",
              "<table border=\"1\" class=\"dataframe\">\n",
              "  <thead>\n",
              "    <tr style=\"text-align: right;\">\n",
              "      <th></th>\n",
              "      <th>A</th>\n",
              "      <th>B</th>\n",
              "      <th>C</th>\n",
              "      <th>D</th>\n",
              "      <th>F</th>\n",
              "    </tr>\n",
              "  </thead>\n",
              "  <tbody>\n",
              "    <tr>\n",
              "      <th>2016-07-02</th>\n",
              "      <td>-0.524720</td>\n",
              "      <td>-0.010715</td>\n",
              "      <td>-0.886161</td>\n",
              "      <td>-0.976359</td>\n",
              "      <td>NaN</td>\n",
              "    </tr>\n",
              "    <tr>\n",
              "      <th>2016-07-05</th>\n",
              "      <td>0.602372</td>\n",
              "      <td>0.467658</td>\n",
              "      <td>-0.623647</td>\n",
              "      <td>1.215487</td>\n",
              "      <td>NaN</td>\n",
              "    </tr>\n",
              "  </tbody>\n",
              "</table>\n",
              "</div>"
            ],
            "text/plain": [
              "                   A         B         C         D   F\n",
              "2016-07-02 -0.524720 -0.010715 -0.886161 -0.976359 NaN\n",
              "2016-07-05  0.602372  0.467658 -0.623647  1.215487 NaN"
            ]
          },
          "metadata": {
            "tags": []
          },
          "execution_count": 275
        }
      ]
    },
    {
      "cell_type": "code",
      "metadata": {
        "id": "Bh5OlNEiHiN7",
        "colab": {
          "base_uri": "https://localhost:8080/",
          "height": 35
        },
        "outputId": "91bc18be-8dc4-4723-8a05-3b59b893b8db"
      },
      "source": [
        "pd.to_datetime('20160701')"
      ],
      "execution_count": null,
      "outputs": [
        {
          "output_type": "execute_result",
          "data": {
            "text/plain": [
              "Timestamp('2016-07-01 00:00:00')"
            ]
          },
          "metadata": {
            "tags": []
          },
          "execution_count": 276
        }
      ]
    },
    {
      "cell_type": "code",
      "metadata": {
        "id": "rOTtTESVHjz8",
        "colab": {
          "base_uri": "https://localhost:8080/",
          "height": 191
        },
        "outputId": "46fe6a01-0cea-4fa4-8ee5-4a6a9d48d6e5"
      },
      "source": [
        "# 특정 행 drop하기\n",
        "df.drop(pd.to_datetime('20160701'))"
      ],
      "execution_count": null,
      "outputs": [
        {
          "output_type": "execute_result",
          "data": {
            "text/html": [
              "<div>\n",
              "<style scoped>\n",
              "    .dataframe tbody tr th:only-of-type {\n",
              "        vertical-align: middle;\n",
              "    }\n",
              "\n",
              "    .dataframe tbody tr th {\n",
              "        vertical-align: top;\n",
              "    }\n",
              "\n",
              "    .dataframe thead th {\n",
              "        text-align: right;\n",
              "    }\n",
              "</style>\n",
              "<table border=\"1\" class=\"dataframe\">\n",
              "  <thead>\n",
              "    <tr style=\"text-align: right;\">\n",
              "      <th></th>\n",
              "      <th>A</th>\n",
              "      <th>B</th>\n",
              "      <th>C</th>\n",
              "      <th>D</th>\n",
              "      <th>F</th>\n",
              "    </tr>\n",
              "  </thead>\n",
              "  <tbody>\n",
              "    <tr>\n",
              "      <th>2016-07-02</th>\n",
              "      <td>-0.524720</td>\n",
              "      <td>-0.010715</td>\n",
              "      <td>-0.886161</td>\n",
              "      <td>-0.976359</td>\n",
              "      <td>NaN</td>\n",
              "    </tr>\n",
              "    <tr>\n",
              "      <th>2016-07-03</th>\n",
              "      <td>1.048630</td>\n",
              "      <td>-0.019561</td>\n",
              "      <td>0.821152</td>\n",
              "      <td>0.000585</td>\n",
              "      <td>3.5</td>\n",
              "    </tr>\n",
              "    <tr>\n",
              "      <th>2016-07-04</th>\n",
              "      <td>1.364620</td>\n",
              "      <td>0.880824</td>\n",
              "      <td>-0.548171</td>\n",
              "      <td>-1.012842</td>\n",
              "      <td>6.1</td>\n",
              "    </tr>\n",
              "    <tr>\n",
              "      <th>2016-07-05</th>\n",
              "      <td>0.602372</td>\n",
              "      <td>0.467658</td>\n",
              "      <td>-0.623647</td>\n",
              "      <td>1.215487</td>\n",
              "      <td>NaN</td>\n",
              "    </tr>\n",
              "    <tr>\n",
              "      <th>2016-07-06</th>\n",
              "      <td>0.708089</td>\n",
              "      <td>2.012964</td>\n",
              "      <td>-0.484616</td>\n",
              "      <td>1.149019</td>\n",
              "      <td>7.0</td>\n",
              "    </tr>\n",
              "  </tbody>\n",
              "</table>\n",
              "</div>"
            ],
            "text/plain": [
              "                   A         B         C         D    F\n",
              "2016-07-02 -0.524720 -0.010715 -0.886161 -0.976359  NaN\n",
              "2016-07-03  1.048630 -0.019561  0.821152  0.000585  3.5\n",
              "2016-07-04  1.364620  0.880824 -0.548171 -1.012842  6.1\n",
              "2016-07-05  0.602372  0.467658 -0.623647  1.215487  NaN\n",
              "2016-07-06  0.708089  2.012964 -0.484616  1.149019  7.0"
            ]
          },
          "metadata": {
            "tags": []
          },
          "execution_count": 277
        }
      ]
    },
    {
      "cell_type": "code",
      "metadata": {
        "id": "IH7z3nVHHl8x",
        "colab": {
          "base_uri": "https://localhost:8080/",
          "height": 162
        },
        "outputId": "76585be2-750b-4d92-8745-dcc4e83d5fe7"
      },
      "source": [
        "# 2개 이상도 가능\n",
        "df.drop([pd.to_datetime('20160702'),pd.to_datetime('20160704')])"
      ],
      "execution_count": null,
      "outputs": [
        {
          "output_type": "execute_result",
          "data": {
            "text/html": [
              "<div>\n",
              "<style scoped>\n",
              "    .dataframe tbody tr th:only-of-type {\n",
              "        vertical-align: middle;\n",
              "    }\n",
              "\n",
              "    .dataframe tbody tr th {\n",
              "        vertical-align: top;\n",
              "    }\n",
              "\n",
              "    .dataframe thead th {\n",
              "        text-align: right;\n",
              "    }\n",
              "</style>\n",
              "<table border=\"1\" class=\"dataframe\">\n",
              "  <thead>\n",
              "    <tr style=\"text-align: right;\">\n",
              "      <th></th>\n",
              "      <th>A</th>\n",
              "      <th>B</th>\n",
              "      <th>C</th>\n",
              "      <th>D</th>\n",
              "      <th>F</th>\n",
              "    </tr>\n",
              "  </thead>\n",
              "  <tbody>\n",
              "    <tr>\n",
              "      <th>2016-07-01</th>\n",
              "      <td>-0.540387</td>\n",
              "      <td>0.994427</td>\n",
              "      <td>0.274002</td>\n",
              "      <td>0.714434</td>\n",
              "      <td>1.0</td>\n",
              "    </tr>\n",
              "    <tr>\n",
              "      <th>2016-07-03</th>\n",
              "      <td>1.048630</td>\n",
              "      <td>-0.019561</td>\n",
              "      <td>0.821152</td>\n",
              "      <td>0.000585</td>\n",
              "      <td>3.5</td>\n",
              "    </tr>\n",
              "    <tr>\n",
              "      <th>2016-07-05</th>\n",
              "      <td>0.602372</td>\n",
              "      <td>0.467658</td>\n",
              "      <td>-0.623647</td>\n",
              "      <td>1.215487</td>\n",
              "      <td>NaN</td>\n",
              "    </tr>\n",
              "    <tr>\n",
              "      <th>2016-07-06</th>\n",
              "      <td>0.708089</td>\n",
              "      <td>2.012964</td>\n",
              "      <td>-0.484616</td>\n",
              "      <td>1.149019</td>\n",
              "      <td>7.0</td>\n",
              "    </tr>\n",
              "  </tbody>\n",
              "</table>\n",
              "</div>"
            ],
            "text/plain": [
              "                   A         B         C         D    F\n",
              "2016-07-01 -0.540387  0.994427  0.274002  0.714434  1.0\n",
              "2016-07-03  1.048630 -0.019561  0.821152  0.000585  3.5\n",
              "2016-07-05  0.602372  0.467658 -0.623647  1.215487  NaN\n",
              "2016-07-06  0.708089  2.012964 -0.484616  1.149019  7.0"
            ]
          },
          "metadata": {
            "tags": []
          },
          "execution_count": 278
        }
      ]
    },
    {
      "cell_type": "code",
      "metadata": {
        "id": "SvfIpUkpHrKf",
        "colab": {
          "base_uri": "https://localhost:8080/",
          "height": 220
        },
        "outputId": "5f9472e7-742c-4b29-bc46-4fd9463b3ca9"
      },
      "source": [
        "# 특정 열 삭제하기\n",
        "df.drop('F', axis = 1)"
      ],
      "execution_count": null,
      "outputs": [
        {
          "output_type": "execute_result",
          "data": {
            "text/html": [
              "<div>\n",
              "<style scoped>\n",
              "    .dataframe tbody tr th:only-of-type {\n",
              "        vertical-align: middle;\n",
              "    }\n",
              "\n",
              "    .dataframe tbody tr th {\n",
              "        vertical-align: top;\n",
              "    }\n",
              "\n",
              "    .dataframe thead th {\n",
              "        text-align: right;\n",
              "    }\n",
              "</style>\n",
              "<table border=\"1\" class=\"dataframe\">\n",
              "  <thead>\n",
              "    <tr style=\"text-align: right;\">\n",
              "      <th></th>\n",
              "      <th>A</th>\n",
              "      <th>B</th>\n",
              "      <th>C</th>\n",
              "      <th>D</th>\n",
              "    </tr>\n",
              "  </thead>\n",
              "  <tbody>\n",
              "    <tr>\n",
              "      <th>2016-07-01</th>\n",
              "      <td>-0.540387</td>\n",
              "      <td>0.994427</td>\n",
              "      <td>0.274002</td>\n",
              "      <td>0.714434</td>\n",
              "    </tr>\n",
              "    <tr>\n",
              "      <th>2016-07-02</th>\n",
              "      <td>-0.524720</td>\n",
              "      <td>-0.010715</td>\n",
              "      <td>-0.886161</td>\n",
              "      <td>-0.976359</td>\n",
              "    </tr>\n",
              "    <tr>\n",
              "      <th>2016-07-03</th>\n",
              "      <td>1.048630</td>\n",
              "      <td>-0.019561</td>\n",
              "      <td>0.821152</td>\n",
              "      <td>0.000585</td>\n",
              "    </tr>\n",
              "    <tr>\n",
              "      <th>2016-07-04</th>\n",
              "      <td>1.364620</td>\n",
              "      <td>0.880824</td>\n",
              "      <td>-0.548171</td>\n",
              "      <td>-1.012842</td>\n",
              "    </tr>\n",
              "    <tr>\n",
              "      <th>2016-07-05</th>\n",
              "      <td>0.602372</td>\n",
              "      <td>0.467658</td>\n",
              "      <td>-0.623647</td>\n",
              "      <td>1.215487</td>\n",
              "    </tr>\n",
              "    <tr>\n",
              "      <th>2016-07-06</th>\n",
              "      <td>0.708089</td>\n",
              "      <td>2.012964</td>\n",
              "      <td>-0.484616</td>\n",
              "      <td>1.149019</td>\n",
              "    </tr>\n",
              "  </tbody>\n",
              "</table>\n",
              "</div>"
            ],
            "text/plain": [
              "                   A         B         C         D\n",
              "2016-07-01 -0.540387  0.994427  0.274002  0.714434\n",
              "2016-07-02 -0.524720 -0.010715 -0.886161 -0.976359\n",
              "2016-07-03  1.048630 -0.019561  0.821152  0.000585\n",
              "2016-07-04  1.364620  0.880824 -0.548171 -1.012842\n",
              "2016-07-05  0.602372  0.467658 -0.623647  1.215487\n",
              "2016-07-06  0.708089  2.012964 -0.484616  1.149019"
            ]
          },
          "metadata": {
            "tags": []
          },
          "execution_count": 279
        }
      ]
    },
    {
      "cell_type": "code",
      "metadata": {
        "id": "7DQJv5rDHslC",
        "colab": {
          "base_uri": "https://localhost:8080/",
          "height": 220
        },
        "outputId": "baf5f1a2-09a7-46c0-d12c-9b2a4edd6d76"
      },
      "source": [
        "# 2개 이상의 열도 가능\n",
        "df.drop(['B','D'], axis = 1)"
      ],
      "execution_count": null,
      "outputs": [
        {
          "output_type": "execute_result",
          "data": {
            "text/html": [
              "<div>\n",
              "<style scoped>\n",
              "    .dataframe tbody tr th:only-of-type {\n",
              "        vertical-align: middle;\n",
              "    }\n",
              "\n",
              "    .dataframe tbody tr th {\n",
              "        vertical-align: top;\n",
              "    }\n",
              "\n",
              "    .dataframe thead th {\n",
              "        text-align: right;\n",
              "    }\n",
              "</style>\n",
              "<table border=\"1\" class=\"dataframe\">\n",
              "  <thead>\n",
              "    <tr style=\"text-align: right;\">\n",
              "      <th></th>\n",
              "      <th>A</th>\n",
              "      <th>C</th>\n",
              "      <th>F</th>\n",
              "    </tr>\n",
              "  </thead>\n",
              "  <tbody>\n",
              "    <tr>\n",
              "      <th>2016-07-01</th>\n",
              "      <td>-0.540387</td>\n",
              "      <td>0.274002</td>\n",
              "      <td>1.0</td>\n",
              "    </tr>\n",
              "    <tr>\n",
              "      <th>2016-07-02</th>\n",
              "      <td>-0.524720</td>\n",
              "      <td>-0.886161</td>\n",
              "      <td>NaN</td>\n",
              "    </tr>\n",
              "    <tr>\n",
              "      <th>2016-07-03</th>\n",
              "      <td>1.048630</td>\n",
              "      <td>0.821152</td>\n",
              "      <td>3.5</td>\n",
              "    </tr>\n",
              "    <tr>\n",
              "      <th>2016-07-04</th>\n",
              "      <td>1.364620</td>\n",
              "      <td>-0.548171</td>\n",
              "      <td>6.1</td>\n",
              "    </tr>\n",
              "    <tr>\n",
              "      <th>2016-07-05</th>\n",
              "      <td>0.602372</td>\n",
              "      <td>-0.623647</td>\n",
              "      <td>NaN</td>\n",
              "    </tr>\n",
              "    <tr>\n",
              "      <th>2016-07-06</th>\n",
              "      <td>0.708089</td>\n",
              "      <td>-0.484616</td>\n",
              "      <td>7.0</td>\n",
              "    </tr>\n",
              "  </tbody>\n",
              "</table>\n",
              "</div>"
            ],
            "text/plain": [
              "                   A         C    F\n",
              "2016-07-01 -0.540387  0.274002  1.0\n",
              "2016-07-02 -0.524720 -0.886161  NaN\n",
              "2016-07-03  1.048630  0.821152  3.5\n",
              "2016-07-04  1.364620 -0.548171  6.1\n",
              "2016-07-05  0.602372 -0.623647  NaN\n",
              "2016-07-06  0.708089 -0.484616  7.0"
            ]
          },
          "metadata": {
            "tags": []
          },
          "execution_count": 280
        }
      ]
    },
    {
      "cell_type": "markdown",
      "metadata": {
        "id": "F0NSb_h3HxUd"
      },
      "source": [
        "### 6. Data 분석용 함수들"
      ]
    },
    {
      "cell_type": "code",
      "metadata": {
        "id": "e1BAT6d6HuAz"
      },
      "source": [
        "data = [[1.4, np.nan],\n",
        "           [7.1, -4.5],\n",
        "        [np.nan, np.nan],\n",
        "        [0.75, -1.3]]\n",
        "df = pd.DataFrame(data, columns=[\"one\", \"two\"], index=[\"a\", \"b\", \"c\", \"d\"])"
      ],
      "execution_count": null,
      "outputs": []
    },
    {
      "cell_type": "code",
      "metadata": {
        "id": "swS41BlvH0V3",
        "colab": {
          "base_uri": "https://localhost:8080/",
          "height": 162
        },
        "outputId": "55e082f6-acfb-41cc-c5d9-8e63480f8835"
      },
      "source": [
        "df"
      ],
      "execution_count": null,
      "outputs": [
        {
          "output_type": "execute_result",
          "data": {
            "text/html": [
              "<div>\n",
              "<style scoped>\n",
              "    .dataframe tbody tr th:only-of-type {\n",
              "        vertical-align: middle;\n",
              "    }\n",
              "\n",
              "    .dataframe tbody tr th {\n",
              "        vertical-align: top;\n",
              "    }\n",
              "\n",
              "    .dataframe thead th {\n",
              "        text-align: right;\n",
              "    }\n",
              "</style>\n",
              "<table border=\"1\" class=\"dataframe\">\n",
              "  <thead>\n",
              "    <tr style=\"text-align: right;\">\n",
              "      <th></th>\n",
              "      <th>one</th>\n",
              "      <th>two</th>\n",
              "    </tr>\n",
              "  </thead>\n",
              "  <tbody>\n",
              "    <tr>\n",
              "      <th>a</th>\n",
              "      <td>1.40</td>\n",
              "      <td>NaN</td>\n",
              "    </tr>\n",
              "    <tr>\n",
              "      <th>b</th>\n",
              "      <td>7.10</td>\n",
              "      <td>-4.5</td>\n",
              "    </tr>\n",
              "    <tr>\n",
              "      <th>c</th>\n",
              "      <td>NaN</td>\n",
              "      <td>NaN</td>\n",
              "    </tr>\n",
              "    <tr>\n",
              "      <th>d</th>\n",
              "      <td>0.75</td>\n",
              "      <td>-1.3</td>\n",
              "    </tr>\n",
              "  </tbody>\n",
              "</table>\n",
              "</div>"
            ],
            "text/plain": [
              "    one  two\n",
              "a  1.40  NaN\n",
              "b  7.10 -4.5\n",
              "c   NaN  NaN\n",
              "d  0.75 -1.3"
            ]
          },
          "metadata": {
            "tags": []
          },
          "execution_count": 282
        }
      ]
    },
    {
      "cell_type": "code",
      "metadata": {
        "id": "Xgeji3uMH1Ii",
        "colab": {
          "base_uri": "https://localhost:8080/",
          "height": 70
        },
        "outputId": "998f3d80-7307-44eb-c6b6-e67d3f9fd076"
      },
      "source": [
        "# 행방향으로의 합(즉, 각 열의 합)\n",
        "df.sum(axis=0)"
      ],
      "execution_count": null,
      "outputs": [
        {
          "output_type": "execute_result",
          "data": {
            "text/plain": [
              "one    9.25\n",
              "two   -5.80\n",
              "dtype: float64"
            ]
          },
          "metadata": {
            "tags": []
          },
          "execution_count": 283
        }
      ]
    },
    {
      "cell_type": "code",
      "metadata": {
        "id": "mds1l2iNH2iY",
        "colab": {
          "base_uri": "https://localhost:8080/",
          "height": 105
        },
        "outputId": "a3d68a1f-6146-4b35-d83e-bbd6dd8fd56f"
      },
      "source": [
        "# 열방향으로의 합(즉, 각 행의 합)\n",
        "df.sum(axis=1)"
      ],
      "execution_count": null,
      "outputs": [
        {
          "output_type": "execute_result",
          "data": {
            "text/plain": [
              "a    1.40\n",
              "b    2.60\n",
              "c    0.00\n",
              "d   -0.55\n",
              "dtype: float64"
            ]
          },
          "metadata": {
            "tags": []
          },
          "execution_count": 284
        }
      ]
    },
    {
      "cell_type": "markdown",
      "metadata": {
        "id": "0z6p8WpBH5-k"
      },
      "source": [
        "이때, 위에서 볼 수 있듯이 NaN값은 배제하고 계산한다.\n",
        "\n",
        "NaN 값을 배제하지 않고 계산하려면 아래와 같이 skipna에 대해 false를 지정해준다."
      ]
    },
    {
      "cell_type": "code",
      "metadata": {
        "id": "6xxWqAuGH3oU",
        "colab": {
          "base_uri": "https://localhost:8080/",
          "height": 105
        },
        "outputId": "bb2211b7-3fd2-4d02-fe99-1d8e9418321e"
      },
      "source": [
        "df.sum(axis=1, skipna=False)"
      ],
      "execution_count": null,
      "outputs": [
        {
          "output_type": "execute_result",
          "data": {
            "text/plain": [
              "a     NaN\n",
              "b    2.60\n",
              "c     NaN\n",
              "d   -0.55\n",
              "dtype: float64"
            ]
          },
          "metadata": {
            "tags": []
          },
          "execution_count": 285
        }
      ]
    },
    {
      "cell_type": "code",
      "metadata": {
        "id": "iNG3HUTLH8RE",
        "colab": {
          "base_uri": "https://localhost:8080/",
          "height": 35
        },
        "outputId": "273ca34e-fe9e-4514-e1ca-e66d3e3d301d"
      },
      "source": [
        "# 특정 행 또는 특정 열에서만 계산하기\n",
        "df['one'].sum()"
      ],
      "execution_count": null,
      "outputs": [
        {
          "output_type": "execute_result",
          "data": {
            "text/plain": [
              "9.25"
            ]
          },
          "metadata": {
            "tags": []
          },
          "execution_count": 286
        }
      ]
    },
    {
      "cell_type": "code",
      "metadata": {
        "id": "DYIednjaH9yl",
        "colab": {
          "base_uri": "https://localhost:8080/",
          "height": 35
        },
        "outputId": "f1af6f94-8102-482f-cf2e-1eb244322eb4"
      },
      "source": [
        "df.loc['b'].sum()"
      ],
      "execution_count": null,
      "outputs": [
        {
          "output_type": "execute_result",
          "data": {
            "text/plain": [
              "2.5999999999999996"
            ]
          },
          "metadata": {
            "tags": []
          },
          "execution_count": 287
        }
      ]
    },
    {
      "cell_type": "markdown",
      "metadata": {
        "id": "c-GmDPtUIDtv"
      },
      "source": [
        "#### pandas에서 DataFrame에 적용되는 함수들\n",
        "\n",
        "`sum()` 함수 이외에도 pandas에서 DataFrame에 적용되는 함수는 다음의 것들이 있다.\n",
        "\n",
        "---\n",
        "\n",
        "`count` 전체 성분의 (NaN이 아닌) 값의 갯수를 계산\n",
        "\n",
        "`min`, `max` 전체 성분의 최솟, 최댓값을 계산\n",
        "\n",
        "`argmin`,`argmax` 전체 성분의 최솟값, 최댓값이 위치한 (정수)인덱스를 반환\n",
        "\n",
        "`idxmin`, `idxmax` 전체 인덱스 중 최솟값, 최댓값을 반환\n",
        "\n",
        "`sum` 전체 성분의 합을 계산\n",
        "\n",
        "`mean` 전체 성분의 평균을 계산\n",
        "\n",
        "`median` 전체 성분의 중간값을 반환\n",
        "\n",
        "`mad` 전체 성분의 평균값으로부터의 절대 편차(absolute deviation)의 평균을 계산\n",
        "\n",
        "`std`, `var` 전체 성분의 표준편차, 분산을 계산\n",
        "\n",
        "`cumsum` 맨 첫 번째 성분부터 각 성분까지의 누적합을 계산 (0에서부터 계속 더해짐)\n",
        "\n",
        "`cumprod` 맨 첫번째 성분부터 각 성분까지의 누적곱을 계산 (1에서부터 계속 곱해짐"
      ]
    },
    {
      "cell_type": "code",
      "metadata": {
        "id": "EBNsh3VUH_7N",
        "colab": {
          "base_uri": "https://localhost:8080/",
          "height": 220
        },
        "outputId": "6f390271-1eda-4c20-a1f8-eaa12717dd77"
      },
      "source": [
        "df2 = pd.DataFrame(np.random.randn(6, 4),\n",
        "                   columns=[\"A\", \"B\", \"C\", \"D\"],\n",
        "                   index=pd.date_range(\"20160701\", periods=6))\n",
        "df2"
      ],
      "execution_count": null,
      "outputs": [
        {
          "output_type": "execute_result",
          "data": {
            "text/html": [
              "<div>\n",
              "<style scoped>\n",
              "    .dataframe tbody tr th:only-of-type {\n",
              "        vertical-align: middle;\n",
              "    }\n",
              "\n",
              "    .dataframe tbody tr th {\n",
              "        vertical-align: top;\n",
              "    }\n",
              "\n",
              "    .dataframe thead th {\n",
              "        text-align: right;\n",
              "    }\n",
              "</style>\n",
              "<table border=\"1\" class=\"dataframe\">\n",
              "  <thead>\n",
              "    <tr style=\"text-align: right;\">\n",
              "      <th></th>\n",
              "      <th>A</th>\n",
              "      <th>B</th>\n",
              "      <th>C</th>\n",
              "      <th>D</th>\n",
              "    </tr>\n",
              "  </thead>\n",
              "  <tbody>\n",
              "    <tr>\n",
              "      <th>2016-07-01</th>\n",
              "      <td>-1.132645</td>\n",
              "      <td>0.080471</td>\n",
              "      <td>0.389669</td>\n",
              "      <td>-1.143405</td>\n",
              "    </tr>\n",
              "    <tr>\n",
              "      <th>2016-07-02</th>\n",
              "      <td>-1.051855</td>\n",
              "      <td>0.096542</td>\n",
              "      <td>0.708601</td>\n",
              "      <td>-1.938965</td>\n",
              "    </tr>\n",
              "    <tr>\n",
              "      <th>2016-07-03</th>\n",
              "      <td>0.724250</td>\n",
              "      <td>0.921574</td>\n",
              "      <td>0.622701</td>\n",
              "      <td>-0.543802</td>\n",
              "    </tr>\n",
              "    <tr>\n",
              "      <th>2016-07-04</th>\n",
              "      <td>-0.967119</td>\n",
              "      <td>-0.996077</td>\n",
              "      <td>0.494349</td>\n",
              "      <td>-1.918252</td>\n",
              "    </tr>\n",
              "    <tr>\n",
              "      <th>2016-07-05</th>\n",
              "      <td>0.798008</td>\n",
              "      <td>0.218721</td>\n",
              "      <td>-0.500231</td>\n",
              "      <td>0.707325</td>\n",
              "    </tr>\n",
              "    <tr>\n",
              "      <th>2016-07-06</th>\n",
              "      <td>0.433251</td>\n",
              "      <td>-1.394279</td>\n",
              "      <td>1.265968</td>\n",
              "      <td>-0.983140</td>\n",
              "    </tr>\n",
              "  </tbody>\n",
              "</table>\n",
              "</div>"
            ],
            "text/plain": [
              "                   A         B         C         D\n",
              "2016-07-01 -1.132645  0.080471  0.389669 -1.143405\n",
              "2016-07-02 -1.051855  0.096542  0.708601 -1.938965\n",
              "2016-07-03  0.724250  0.921574  0.622701 -0.543802\n",
              "2016-07-04 -0.967119 -0.996077  0.494349 -1.918252\n",
              "2016-07-05  0.798008  0.218721 -0.500231  0.707325\n",
              "2016-07-06  0.433251 -1.394279  1.265968 -0.983140"
            ]
          },
          "metadata": {
            "tags": []
          },
          "execution_count": 288
        }
      ]
    },
    {
      "cell_type": "code",
      "metadata": {
        "id": "DCjoP9WgISrC",
        "colab": {
          "base_uri": "https://localhost:8080/",
          "height": 35
        },
        "outputId": "1d4d3b02-2b93-463c-b63a-5d4dbd910a77"
      },
      "source": [
        "# A열과 B열의 상관계수 구하기\n",
        "df2['A'].corr(df2['B'])"
      ],
      "execution_count": null,
      "outputs": [
        {
          "output_type": "execute_result",
          "data": {
            "text/plain": [
              "0.19730398819803108"
            ]
          },
          "metadata": {
            "tags": []
          },
          "execution_count": 289
        }
      ]
    },
    {
      "cell_type": "code",
      "metadata": {
        "id": "qkvW4bvNIVq-",
        "colab": {
          "base_uri": "https://localhost:8080/",
          "height": 35
        },
        "outputId": "9a0eab8e-09a9-4788-cac1-c1a7491bd2d1"
      },
      "source": [
        "# B열과 C열의 공분산 구하기\n",
        "df2['B'].cov(df2['C'])"
      ],
      "execution_count": null,
      "outputs": [
        {
          "output_type": "execute_result",
          "data": {
            "text/plain": [
              "-0.23203310320906045"
            ]
          },
          "metadata": {
            "tags": []
          },
          "execution_count": 290
        }
      ]
    },
    {
      "cell_type": "markdown",
      "metadata": {
        "id": "TChG-nKGIYtm"
      },
      "source": [
        "#### 정렬함수 및 기타함수"
      ]
    },
    {
      "cell_type": "code",
      "metadata": {
        "id": "NTS7QHs-IXJ2",
        "colab": {
          "base_uri": "https://localhost:8080/",
          "height": 220
        },
        "outputId": "cfb27935-42fb-4a88-8460-abf908c48962"
      },
      "source": [
        "dates = df2.index\n",
        "random_dates = np.random.permutation(dates)\n",
        "df2 = df2.reindex(index=random_dates, columns=[\"D\", \"B\", \"C\", \"A\"])\n",
        "df2"
      ],
      "execution_count": null,
      "outputs": [
        {
          "output_type": "execute_result",
          "data": {
            "text/html": [
              "<div>\n",
              "<style scoped>\n",
              "    .dataframe tbody tr th:only-of-type {\n",
              "        vertical-align: middle;\n",
              "    }\n",
              "\n",
              "    .dataframe tbody tr th {\n",
              "        vertical-align: top;\n",
              "    }\n",
              "\n",
              "    .dataframe thead th {\n",
              "        text-align: right;\n",
              "    }\n",
              "</style>\n",
              "<table border=\"1\" class=\"dataframe\">\n",
              "  <thead>\n",
              "    <tr style=\"text-align: right;\">\n",
              "      <th></th>\n",
              "      <th>D</th>\n",
              "      <th>B</th>\n",
              "      <th>C</th>\n",
              "      <th>A</th>\n",
              "    </tr>\n",
              "  </thead>\n",
              "  <tbody>\n",
              "    <tr>\n",
              "      <th>2016-07-06</th>\n",
              "      <td>-0.983140</td>\n",
              "      <td>-1.394279</td>\n",
              "      <td>1.265968</td>\n",
              "      <td>0.433251</td>\n",
              "    </tr>\n",
              "    <tr>\n",
              "      <th>2016-07-04</th>\n",
              "      <td>-1.918252</td>\n",
              "      <td>-0.996077</td>\n",
              "      <td>0.494349</td>\n",
              "      <td>-0.967119</td>\n",
              "    </tr>\n",
              "    <tr>\n",
              "      <th>2016-07-05</th>\n",
              "      <td>0.707325</td>\n",
              "      <td>0.218721</td>\n",
              "      <td>-0.500231</td>\n",
              "      <td>0.798008</td>\n",
              "    </tr>\n",
              "    <tr>\n",
              "      <th>2016-07-01</th>\n",
              "      <td>-1.143405</td>\n",
              "      <td>0.080471</td>\n",
              "      <td>0.389669</td>\n",
              "      <td>-1.132645</td>\n",
              "    </tr>\n",
              "    <tr>\n",
              "      <th>2016-07-03</th>\n",
              "      <td>-0.543802</td>\n",
              "      <td>0.921574</td>\n",
              "      <td>0.622701</td>\n",
              "      <td>0.724250</td>\n",
              "    </tr>\n",
              "    <tr>\n",
              "      <th>2016-07-02</th>\n",
              "      <td>-1.938965</td>\n",
              "      <td>0.096542</td>\n",
              "      <td>0.708601</td>\n",
              "      <td>-1.051855</td>\n",
              "    </tr>\n",
              "  </tbody>\n",
              "</table>\n",
              "</div>"
            ],
            "text/plain": [
              "                   D         B         C         A\n",
              "2016-07-06 -0.983140 -1.394279  1.265968  0.433251\n",
              "2016-07-04 -1.918252 -0.996077  0.494349 -0.967119\n",
              "2016-07-05  0.707325  0.218721 -0.500231  0.798008\n",
              "2016-07-01 -1.143405  0.080471  0.389669 -1.132645\n",
              "2016-07-03 -0.543802  0.921574  0.622701  0.724250\n",
              "2016-07-02 -1.938965  0.096542  0.708601 -1.051855"
            ]
          },
          "metadata": {
            "tags": []
          },
          "execution_count": 291
        }
      ]
    },
    {
      "cell_type": "code",
      "metadata": {
        "id": "K4Hmu8vJIbIs",
        "colab": {
          "base_uri": "https://localhost:8080/",
          "height": 220
        },
        "outputId": "0a75582e-09eb-46ba-86d2-f40c307f7d59"
      },
      "source": [
        "# index와 column의 순서가 섞여있다.\n",
        "# 이때 index가 오름차순이 되도록 정렬해보자\n",
        "df2.sort_index(axis=0)"
      ],
      "execution_count": null,
      "outputs": [
        {
          "output_type": "execute_result",
          "data": {
            "text/html": [
              "<div>\n",
              "<style scoped>\n",
              "    .dataframe tbody tr th:only-of-type {\n",
              "        vertical-align: middle;\n",
              "    }\n",
              "\n",
              "    .dataframe tbody tr th {\n",
              "        vertical-align: top;\n",
              "    }\n",
              "\n",
              "    .dataframe thead th {\n",
              "        text-align: right;\n",
              "    }\n",
              "</style>\n",
              "<table border=\"1\" class=\"dataframe\">\n",
              "  <thead>\n",
              "    <tr style=\"text-align: right;\">\n",
              "      <th></th>\n",
              "      <th>D</th>\n",
              "      <th>B</th>\n",
              "      <th>C</th>\n",
              "      <th>A</th>\n",
              "    </tr>\n",
              "  </thead>\n",
              "  <tbody>\n",
              "    <tr>\n",
              "      <th>2016-07-01</th>\n",
              "      <td>-1.143405</td>\n",
              "      <td>0.080471</td>\n",
              "      <td>0.389669</td>\n",
              "      <td>-1.132645</td>\n",
              "    </tr>\n",
              "    <tr>\n",
              "      <th>2016-07-02</th>\n",
              "      <td>-1.938965</td>\n",
              "      <td>0.096542</td>\n",
              "      <td>0.708601</td>\n",
              "      <td>-1.051855</td>\n",
              "    </tr>\n",
              "    <tr>\n",
              "      <th>2016-07-03</th>\n",
              "      <td>-0.543802</td>\n",
              "      <td>0.921574</td>\n",
              "      <td>0.622701</td>\n",
              "      <td>0.724250</td>\n",
              "    </tr>\n",
              "    <tr>\n",
              "      <th>2016-07-04</th>\n",
              "      <td>-1.918252</td>\n",
              "      <td>-0.996077</td>\n",
              "      <td>0.494349</td>\n",
              "      <td>-0.967119</td>\n",
              "    </tr>\n",
              "    <tr>\n",
              "      <th>2016-07-05</th>\n",
              "      <td>0.707325</td>\n",
              "      <td>0.218721</td>\n",
              "      <td>-0.500231</td>\n",
              "      <td>0.798008</td>\n",
              "    </tr>\n",
              "    <tr>\n",
              "      <th>2016-07-06</th>\n",
              "      <td>-0.983140</td>\n",
              "      <td>-1.394279</td>\n",
              "      <td>1.265968</td>\n",
              "      <td>0.433251</td>\n",
              "    </tr>\n",
              "  </tbody>\n",
              "</table>\n",
              "</div>"
            ],
            "text/plain": [
              "                   D         B         C         A\n",
              "2016-07-01 -1.143405  0.080471  0.389669 -1.132645\n",
              "2016-07-02 -1.938965  0.096542  0.708601 -1.051855\n",
              "2016-07-03 -0.543802  0.921574  0.622701  0.724250\n",
              "2016-07-04 -1.918252 -0.996077  0.494349 -0.967119\n",
              "2016-07-05  0.707325  0.218721 -0.500231  0.798008\n",
              "2016-07-06 -0.983140 -1.394279  1.265968  0.433251"
            ]
          },
          "metadata": {
            "tags": []
          },
          "execution_count": 292
        }
      ]
    },
    {
      "cell_type": "code",
      "metadata": {
        "id": "TZD5QHQzIdKG",
        "colab": {
          "base_uri": "https://localhost:8080/",
          "height": 220
        },
        "outputId": "5f49218b-14c2-40f5-943c-c23b3a0b1e67"
      },
      "source": [
        "# column을 기준으로?\n",
        "df2.sort_index(axis=1)"
      ],
      "execution_count": null,
      "outputs": [
        {
          "output_type": "execute_result",
          "data": {
            "text/html": [
              "<div>\n",
              "<style scoped>\n",
              "    .dataframe tbody tr th:only-of-type {\n",
              "        vertical-align: middle;\n",
              "    }\n",
              "\n",
              "    .dataframe tbody tr th {\n",
              "        vertical-align: top;\n",
              "    }\n",
              "\n",
              "    .dataframe thead th {\n",
              "        text-align: right;\n",
              "    }\n",
              "</style>\n",
              "<table border=\"1\" class=\"dataframe\">\n",
              "  <thead>\n",
              "    <tr style=\"text-align: right;\">\n",
              "      <th></th>\n",
              "      <th>A</th>\n",
              "      <th>B</th>\n",
              "      <th>C</th>\n",
              "      <th>D</th>\n",
              "    </tr>\n",
              "  </thead>\n",
              "  <tbody>\n",
              "    <tr>\n",
              "      <th>2016-07-06</th>\n",
              "      <td>0.433251</td>\n",
              "      <td>-1.394279</td>\n",
              "      <td>1.265968</td>\n",
              "      <td>-0.983140</td>\n",
              "    </tr>\n",
              "    <tr>\n",
              "      <th>2016-07-04</th>\n",
              "      <td>-0.967119</td>\n",
              "      <td>-0.996077</td>\n",
              "      <td>0.494349</td>\n",
              "      <td>-1.918252</td>\n",
              "    </tr>\n",
              "    <tr>\n",
              "      <th>2016-07-05</th>\n",
              "      <td>0.798008</td>\n",
              "      <td>0.218721</td>\n",
              "      <td>-0.500231</td>\n",
              "      <td>0.707325</td>\n",
              "    </tr>\n",
              "    <tr>\n",
              "      <th>2016-07-01</th>\n",
              "      <td>-1.132645</td>\n",
              "      <td>0.080471</td>\n",
              "      <td>0.389669</td>\n",
              "      <td>-1.143405</td>\n",
              "    </tr>\n",
              "    <tr>\n",
              "      <th>2016-07-03</th>\n",
              "      <td>0.724250</td>\n",
              "      <td>0.921574</td>\n",
              "      <td>0.622701</td>\n",
              "      <td>-0.543802</td>\n",
              "    </tr>\n",
              "    <tr>\n",
              "      <th>2016-07-02</th>\n",
              "      <td>-1.051855</td>\n",
              "      <td>0.096542</td>\n",
              "      <td>0.708601</td>\n",
              "      <td>-1.938965</td>\n",
              "    </tr>\n",
              "  </tbody>\n",
              "</table>\n",
              "</div>"
            ],
            "text/plain": [
              "                   A         B         C         D\n",
              "2016-07-06  0.433251 -1.394279  1.265968 -0.983140\n",
              "2016-07-04 -0.967119 -0.996077  0.494349 -1.918252\n",
              "2016-07-05  0.798008  0.218721 -0.500231  0.707325\n",
              "2016-07-01 -1.132645  0.080471  0.389669 -1.143405\n",
              "2016-07-03  0.724250  0.921574  0.622701 -0.543802\n",
              "2016-07-02 -1.051855  0.096542  0.708601 -1.938965"
            ]
          },
          "metadata": {
            "tags": []
          },
          "execution_count": 293
        }
      ]
    },
    {
      "cell_type": "code",
      "metadata": {
        "id": "eMiWpFJbIfHs",
        "colab": {
          "base_uri": "https://localhost:8080/",
          "height": 220
        },
        "outputId": "0146f0ac-99a2-440a-966b-d0c316c16166"
      },
      "source": [
        "# 내림차순으로는?\n",
        "df2.sort_index(axis=1, ascending=False)"
      ],
      "execution_count": null,
      "outputs": [
        {
          "output_type": "execute_result",
          "data": {
            "text/html": [
              "<div>\n",
              "<style scoped>\n",
              "    .dataframe tbody tr th:only-of-type {\n",
              "        vertical-align: middle;\n",
              "    }\n",
              "\n",
              "    .dataframe tbody tr th {\n",
              "        vertical-align: top;\n",
              "    }\n",
              "\n",
              "    .dataframe thead th {\n",
              "        text-align: right;\n",
              "    }\n",
              "</style>\n",
              "<table border=\"1\" class=\"dataframe\">\n",
              "  <thead>\n",
              "    <tr style=\"text-align: right;\">\n",
              "      <th></th>\n",
              "      <th>D</th>\n",
              "      <th>C</th>\n",
              "      <th>B</th>\n",
              "      <th>A</th>\n",
              "    </tr>\n",
              "  </thead>\n",
              "  <tbody>\n",
              "    <tr>\n",
              "      <th>2016-07-06</th>\n",
              "      <td>-0.983140</td>\n",
              "      <td>1.265968</td>\n",
              "      <td>-1.394279</td>\n",
              "      <td>0.433251</td>\n",
              "    </tr>\n",
              "    <tr>\n",
              "      <th>2016-07-04</th>\n",
              "      <td>-1.918252</td>\n",
              "      <td>0.494349</td>\n",
              "      <td>-0.996077</td>\n",
              "      <td>-0.967119</td>\n",
              "    </tr>\n",
              "    <tr>\n",
              "      <th>2016-07-05</th>\n",
              "      <td>0.707325</td>\n",
              "      <td>-0.500231</td>\n",
              "      <td>0.218721</td>\n",
              "      <td>0.798008</td>\n",
              "    </tr>\n",
              "    <tr>\n",
              "      <th>2016-07-01</th>\n",
              "      <td>-1.143405</td>\n",
              "      <td>0.389669</td>\n",
              "      <td>0.080471</td>\n",
              "      <td>-1.132645</td>\n",
              "    </tr>\n",
              "    <tr>\n",
              "      <th>2016-07-03</th>\n",
              "      <td>-0.543802</td>\n",
              "      <td>0.622701</td>\n",
              "      <td>0.921574</td>\n",
              "      <td>0.724250</td>\n",
              "    </tr>\n",
              "    <tr>\n",
              "      <th>2016-07-02</th>\n",
              "      <td>-1.938965</td>\n",
              "      <td>0.708601</td>\n",
              "      <td>0.096542</td>\n",
              "      <td>-1.051855</td>\n",
              "    </tr>\n",
              "  </tbody>\n",
              "</table>\n",
              "</div>"
            ],
            "text/plain": [
              "                   D         C         B         A\n",
              "2016-07-06 -0.983140  1.265968 -1.394279  0.433251\n",
              "2016-07-04 -1.918252  0.494349 -0.996077 -0.967119\n",
              "2016-07-05  0.707325 -0.500231  0.218721  0.798008\n",
              "2016-07-01 -1.143405  0.389669  0.080471 -1.132645\n",
              "2016-07-03 -0.543802  0.622701  0.921574  0.724250\n",
              "2016-07-02 -1.938965  0.708601  0.096542 -1.051855"
            ]
          },
          "metadata": {
            "tags": []
          },
          "execution_count": 294
        }
      ]
    },
    {
      "cell_type": "code",
      "metadata": {
        "id": "gGA7VsDTIhR_",
        "colab": {
          "base_uri": "https://localhost:8080/",
          "height": 220
        },
        "outputId": "f70093e9-903f-454e-d632-e2814d75d5d3"
      },
      "source": [
        "# 값 기준 정렬하기\n",
        "# D열의 값이 오름차순이 되도록 정렬하기\n",
        "df2.sort_values(by='D')"
      ],
      "execution_count": null,
      "outputs": [
        {
          "output_type": "execute_result",
          "data": {
            "text/html": [
              "<div>\n",
              "<style scoped>\n",
              "    .dataframe tbody tr th:only-of-type {\n",
              "        vertical-align: middle;\n",
              "    }\n",
              "\n",
              "    .dataframe tbody tr th {\n",
              "        vertical-align: top;\n",
              "    }\n",
              "\n",
              "    .dataframe thead th {\n",
              "        text-align: right;\n",
              "    }\n",
              "</style>\n",
              "<table border=\"1\" class=\"dataframe\">\n",
              "  <thead>\n",
              "    <tr style=\"text-align: right;\">\n",
              "      <th></th>\n",
              "      <th>D</th>\n",
              "      <th>B</th>\n",
              "      <th>C</th>\n",
              "      <th>A</th>\n",
              "    </tr>\n",
              "  </thead>\n",
              "  <tbody>\n",
              "    <tr>\n",
              "      <th>2016-07-02</th>\n",
              "      <td>-1.938965</td>\n",
              "      <td>0.096542</td>\n",
              "      <td>0.708601</td>\n",
              "      <td>-1.051855</td>\n",
              "    </tr>\n",
              "    <tr>\n",
              "      <th>2016-07-04</th>\n",
              "      <td>-1.918252</td>\n",
              "      <td>-0.996077</td>\n",
              "      <td>0.494349</td>\n",
              "      <td>-0.967119</td>\n",
              "    </tr>\n",
              "    <tr>\n",
              "      <th>2016-07-01</th>\n",
              "      <td>-1.143405</td>\n",
              "      <td>0.080471</td>\n",
              "      <td>0.389669</td>\n",
              "      <td>-1.132645</td>\n",
              "    </tr>\n",
              "    <tr>\n",
              "      <th>2016-07-06</th>\n",
              "      <td>-0.983140</td>\n",
              "      <td>-1.394279</td>\n",
              "      <td>1.265968</td>\n",
              "      <td>0.433251</td>\n",
              "    </tr>\n",
              "    <tr>\n",
              "      <th>2016-07-03</th>\n",
              "      <td>-0.543802</td>\n",
              "      <td>0.921574</td>\n",
              "      <td>0.622701</td>\n",
              "      <td>0.724250</td>\n",
              "    </tr>\n",
              "    <tr>\n",
              "      <th>2016-07-05</th>\n",
              "      <td>0.707325</td>\n",
              "      <td>0.218721</td>\n",
              "      <td>-0.500231</td>\n",
              "      <td>0.798008</td>\n",
              "    </tr>\n",
              "  </tbody>\n",
              "</table>\n",
              "</div>"
            ],
            "text/plain": [
              "                   D         B         C         A\n",
              "2016-07-02 -1.938965  0.096542  0.708601 -1.051855\n",
              "2016-07-04 -1.918252 -0.996077  0.494349 -0.967119\n",
              "2016-07-01 -1.143405  0.080471  0.389669 -1.132645\n",
              "2016-07-06 -0.983140 -1.394279  1.265968  0.433251\n",
              "2016-07-03 -0.543802  0.921574  0.622701  0.724250\n",
              "2016-07-05  0.707325  0.218721 -0.500231  0.798008"
            ]
          },
          "metadata": {
            "tags": []
          },
          "execution_count": 295
        }
      ]
    },
    {
      "cell_type": "code",
      "metadata": {
        "id": "5KEr54mwIi38",
        "colab": {
          "base_uri": "https://localhost:8080/",
          "height": 220
        },
        "outputId": "4fa54340-e67f-4ac0-f448-d200f070233d"
      },
      "source": [
        "# B열의 값이 내림차순이 되도록 정렬하기\n",
        "df2.sort_values(by='B', ascending=False)"
      ],
      "execution_count": null,
      "outputs": [
        {
          "output_type": "execute_result",
          "data": {
            "text/html": [
              "<div>\n",
              "<style scoped>\n",
              "    .dataframe tbody tr th:only-of-type {\n",
              "        vertical-align: middle;\n",
              "    }\n",
              "\n",
              "    .dataframe tbody tr th {\n",
              "        vertical-align: top;\n",
              "    }\n",
              "\n",
              "    .dataframe thead th {\n",
              "        text-align: right;\n",
              "    }\n",
              "</style>\n",
              "<table border=\"1\" class=\"dataframe\">\n",
              "  <thead>\n",
              "    <tr style=\"text-align: right;\">\n",
              "      <th></th>\n",
              "      <th>D</th>\n",
              "      <th>B</th>\n",
              "      <th>C</th>\n",
              "      <th>A</th>\n",
              "    </tr>\n",
              "  </thead>\n",
              "  <tbody>\n",
              "    <tr>\n",
              "      <th>2016-07-03</th>\n",
              "      <td>-0.543802</td>\n",
              "      <td>0.921574</td>\n",
              "      <td>0.622701</td>\n",
              "      <td>0.724250</td>\n",
              "    </tr>\n",
              "    <tr>\n",
              "      <th>2016-07-05</th>\n",
              "      <td>0.707325</td>\n",
              "      <td>0.218721</td>\n",
              "      <td>-0.500231</td>\n",
              "      <td>0.798008</td>\n",
              "    </tr>\n",
              "    <tr>\n",
              "      <th>2016-07-02</th>\n",
              "      <td>-1.938965</td>\n",
              "      <td>0.096542</td>\n",
              "      <td>0.708601</td>\n",
              "      <td>-1.051855</td>\n",
              "    </tr>\n",
              "    <tr>\n",
              "      <th>2016-07-01</th>\n",
              "      <td>-1.143405</td>\n",
              "      <td>0.080471</td>\n",
              "      <td>0.389669</td>\n",
              "      <td>-1.132645</td>\n",
              "    </tr>\n",
              "    <tr>\n",
              "      <th>2016-07-04</th>\n",
              "      <td>-1.918252</td>\n",
              "      <td>-0.996077</td>\n",
              "      <td>0.494349</td>\n",
              "      <td>-0.967119</td>\n",
              "    </tr>\n",
              "    <tr>\n",
              "      <th>2016-07-06</th>\n",
              "      <td>-0.983140</td>\n",
              "      <td>-1.394279</td>\n",
              "      <td>1.265968</td>\n",
              "      <td>0.433251</td>\n",
              "    </tr>\n",
              "  </tbody>\n",
              "</table>\n",
              "</div>"
            ],
            "text/plain": [
              "                   D         B         C         A\n",
              "2016-07-03 -0.543802  0.921574  0.622701  0.724250\n",
              "2016-07-05  0.707325  0.218721 -0.500231  0.798008\n",
              "2016-07-02 -1.938965  0.096542  0.708601 -1.051855\n",
              "2016-07-01 -1.143405  0.080471  0.389669 -1.132645\n",
              "2016-07-04 -1.918252 -0.996077  0.494349 -0.967119\n",
              "2016-07-06 -0.983140 -1.394279  1.265968  0.433251"
            ]
          },
          "metadata": {
            "tags": []
          },
          "execution_count": 296
        }
      ]
    },
    {
      "cell_type": "code",
      "metadata": {
        "id": "9t_9RN9DIkyp",
        "colab": {
          "base_uri": "https://localhost:8080/",
          "height": 220
        },
        "outputId": "7c5536f6-d56f-4d80-9d6d-54f3fb7357be"
      },
      "source": [
        "df2[\"E\"] = np.random.randint(0, 6, size=6)\n",
        "df2[\"F\"] = [\"alpha\", \"beta\", \"gamma\", \"gamma\", \"alpha\", \"gamma\"]\n",
        "df2"
      ],
      "execution_count": null,
      "outputs": [
        {
          "output_type": "execute_result",
          "data": {
            "text/html": [
              "<div>\n",
              "<style scoped>\n",
              "    .dataframe tbody tr th:only-of-type {\n",
              "        vertical-align: middle;\n",
              "    }\n",
              "\n",
              "    .dataframe tbody tr th {\n",
              "        vertical-align: top;\n",
              "    }\n",
              "\n",
              "    .dataframe thead th {\n",
              "        text-align: right;\n",
              "    }\n",
              "</style>\n",
              "<table border=\"1\" class=\"dataframe\">\n",
              "  <thead>\n",
              "    <tr style=\"text-align: right;\">\n",
              "      <th></th>\n",
              "      <th>D</th>\n",
              "      <th>B</th>\n",
              "      <th>C</th>\n",
              "      <th>A</th>\n",
              "      <th>E</th>\n",
              "      <th>F</th>\n",
              "    </tr>\n",
              "  </thead>\n",
              "  <tbody>\n",
              "    <tr>\n",
              "      <th>2016-07-06</th>\n",
              "      <td>-0.983140</td>\n",
              "      <td>-1.394279</td>\n",
              "      <td>1.265968</td>\n",
              "      <td>0.433251</td>\n",
              "      <td>5</td>\n",
              "      <td>alpha</td>\n",
              "    </tr>\n",
              "    <tr>\n",
              "      <th>2016-07-04</th>\n",
              "      <td>-1.918252</td>\n",
              "      <td>-0.996077</td>\n",
              "      <td>0.494349</td>\n",
              "      <td>-0.967119</td>\n",
              "      <td>0</td>\n",
              "      <td>beta</td>\n",
              "    </tr>\n",
              "    <tr>\n",
              "      <th>2016-07-05</th>\n",
              "      <td>0.707325</td>\n",
              "      <td>0.218721</td>\n",
              "      <td>-0.500231</td>\n",
              "      <td>0.798008</td>\n",
              "      <td>2</td>\n",
              "      <td>gamma</td>\n",
              "    </tr>\n",
              "    <tr>\n",
              "      <th>2016-07-01</th>\n",
              "      <td>-1.143405</td>\n",
              "      <td>0.080471</td>\n",
              "      <td>0.389669</td>\n",
              "      <td>-1.132645</td>\n",
              "      <td>2</td>\n",
              "      <td>gamma</td>\n",
              "    </tr>\n",
              "    <tr>\n",
              "      <th>2016-07-03</th>\n",
              "      <td>-0.543802</td>\n",
              "      <td>0.921574</td>\n",
              "      <td>0.622701</td>\n",
              "      <td>0.724250</td>\n",
              "      <td>0</td>\n",
              "      <td>alpha</td>\n",
              "    </tr>\n",
              "    <tr>\n",
              "      <th>2016-07-02</th>\n",
              "      <td>-1.938965</td>\n",
              "      <td>0.096542</td>\n",
              "      <td>0.708601</td>\n",
              "      <td>-1.051855</td>\n",
              "      <td>2</td>\n",
              "      <td>gamma</td>\n",
              "    </tr>\n",
              "  </tbody>\n",
              "</table>\n",
              "</div>"
            ],
            "text/plain": [
              "                   D         B         C         A  E      F\n",
              "2016-07-06 -0.983140 -1.394279  1.265968  0.433251  5  alpha\n",
              "2016-07-04 -1.918252 -0.996077  0.494349 -0.967119  0   beta\n",
              "2016-07-05  0.707325  0.218721 -0.500231  0.798008  2  gamma\n",
              "2016-07-01 -1.143405  0.080471  0.389669 -1.132645  2  gamma\n",
              "2016-07-03 -0.543802  0.921574  0.622701  0.724250  0  alpha\n",
              "2016-07-02 -1.938965  0.096542  0.708601 -1.051855  2  gamma"
            ]
          },
          "metadata": {
            "tags": []
          },
          "execution_count": 297
        }
      ]
    },
    {
      "cell_type": "code",
      "metadata": {
        "id": "pwbMixu6ImpK",
        "colab": {
          "base_uri": "https://localhost:8080/",
          "height": 220
        },
        "outputId": "11322cea-39b7-4fee-a336-89d8cd3f2767"
      },
      "source": [
        "# E열과 F열을 동시에 고려하여, 오름차순으로 하려면?\n",
        "df2.sort_values(by=['E','F'])"
      ],
      "execution_count": null,
      "outputs": [
        {
          "output_type": "execute_result",
          "data": {
            "text/html": [
              "<div>\n",
              "<style scoped>\n",
              "    .dataframe tbody tr th:only-of-type {\n",
              "        vertical-align: middle;\n",
              "    }\n",
              "\n",
              "    .dataframe tbody tr th {\n",
              "        vertical-align: top;\n",
              "    }\n",
              "\n",
              "    .dataframe thead th {\n",
              "        text-align: right;\n",
              "    }\n",
              "</style>\n",
              "<table border=\"1\" class=\"dataframe\">\n",
              "  <thead>\n",
              "    <tr style=\"text-align: right;\">\n",
              "      <th></th>\n",
              "      <th>D</th>\n",
              "      <th>B</th>\n",
              "      <th>C</th>\n",
              "      <th>A</th>\n",
              "      <th>E</th>\n",
              "      <th>F</th>\n",
              "    </tr>\n",
              "  </thead>\n",
              "  <tbody>\n",
              "    <tr>\n",
              "      <th>2016-07-03</th>\n",
              "      <td>-0.543802</td>\n",
              "      <td>0.921574</td>\n",
              "      <td>0.622701</td>\n",
              "      <td>0.724250</td>\n",
              "      <td>0</td>\n",
              "      <td>alpha</td>\n",
              "    </tr>\n",
              "    <tr>\n",
              "      <th>2016-07-04</th>\n",
              "      <td>-1.918252</td>\n",
              "      <td>-0.996077</td>\n",
              "      <td>0.494349</td>\n",
              "      <td>-0.967119</td>\n",
              "      <td>0</td>\n",
              "      <td>beta</td>\n",
              "    </tr>\n",
              "    <tr>\n",
              "      <th>2016-07-05</th>\n",
              "      <td>0.707325</td>\n",
              "      <td>0.218721</td>\n",
              "      <td>-0.500231</td>\n",
              "      <td>0.798008</td>\n",
              "      <td>2</td>\n",
              "      <td>gamma</td>\n",
              "    </tr>\n",
              "    <tr>\n",
              "      <th>2016-07-01</th>\n",
              "      <td>-1.143405</td>\n",
              "      <td>0.080471</td>\n",
              "      <td>0.389669</td>\n",
              "      <td>-1.132645</td>\n",
              "      <td>2</td>\n",
              "      <td>gamma</td>\n",
              "    </tr>\n",
              "    <tr>\n",
              "      <th>2016-07-02</th>\n",
              "      <td>-1.938965</td>\n",
              "      <td>0.096542</td>\n",
              "      <td>0.708601</td>\n",
              "      <td>-1.051855</td>\n",
              "      <td>2</td>\n",
              "      <td>gamma</td>\n",
              "    </tr>\n",
              "    <tr>\n",
              "      <th>2016-07-06</th>\n",
              "      <td>-0.983140</td>\n",
              "      <td>-1.394279</td>\n",
              "      <td>1.265968</td>\n",
              "      <td>0.433251</td>\n",
              "      <td>5</td>\n",
              "      <td>alpha</td>\n",
              "    </tr>\n",
              "  </tbody>\n",
              "</table>\n",
              "</div>"
            ],
            "text/plain": [
              "                   D         B         C         A  E      F\n",
              "2016-07-03 -0.543802  0.921574  0.622701  0.724250  0  alpha\n",
              "2016-07-04 -1.918252 -0.996077  0.494349 -0.967119  0   beta\n",
              "2016-07-05  0.707325  0.218721 -0.500231  0.798008  2  gamma\n",
              "2016-07-01 -1.143405  0.080471  0.389669 -1.132645  2  gamma\n",
              "2016-07-02 -1.938965  0.096542  0.708601 -1.051855  2  gamma\n",
              "2016-07-06 -0.983140 -1.394279  1.265968  0.433251  5  alpha"
            ]
          },
          "metadata": {
            "tags": []
          },
          "execution_count": 298
        }
      ]
    },
    {
      "cell_type": "code",
      "metadata": {
        "id": "gLRDLucnIqYb",
        "colab": {
          "base_uri": "https://localhost:8080/",
          "height": 35
        },
        "outputId": "2d39fb18-4879-458b-add8-d75631c2e25e"
      },
      "source": [
        "# 지정한 행 또는 열에서 중복값을 제외한 유니크한 값만 얻기\n",
        "df2['F'].unique()"
      ],
      "execution_count": null,
      "outputs": [
        {
          "output_type": "execute_result",
          "data": {
            "text/plain": [
              "array(['alpha', 'beta', 'gamma'], dtype=object)"
            ]
          },
          "metadata": {
            "tags": []
          },
          "execution_count": 299
        }
      ]
    },
    {
      "cell_type": "code",
      "metadata": {
        "id": "9PrC2TcHIr61",
        "colab": {
          "base_uri": "https://localhost:8080/",
          "height": 87
        },
        "outputId": "52b9a8e3-c60f-429f-c1fb-251523917ce9"
      },
      "source": [
        "  # 지정한 행 또는 열에서 값에 따른 개수 얻기\n",
        "df2['F'].value_counts()"
      ],
      "execution_count": null,
      "outputs": [
        {
          "output_type": "execute_result",
          "data": {
            "text/plain": [
              "gamma    3\n",
              "alpha    2\n",
              "beta     1\n",
              "Name: F, dtype: int64"
            ]
          },
          "metadata": {
            "tags": []
          },
          "execution_count": 300
        }
      ]
    },
    {
      "cell_type": "code",
      "metadata": {
        "id": "sqUJ2lBMIvgA",
        "colab": {
          "base_uri": "https://localhost:8080/",
          "height": 140
        },
        "outputId": "aff4abe6-fb6b-40a9-8a45-8897c2ab78c5"
      },
      "source": [
        "# 지정한 행 또는 열에서 입력한 값이 있는지 확인하기\n",
        "df2['F'].isin(['alpha','beta'])\n",
        "# 아래와 같이 응용할 수 있다."
      ],
      "execution_count": null,
      "outputs": [
        {
          "output_type": "execute_result",
          "data": {
            "text/plain": [
              "2016-07-06     True\n",
              "2016-07-04     True\n",
              "2016-07-05    False\n",
              "2016-07-01    False\n",
              "2016-07-03     True\n",
              "2016-07-02    False\n",
              "Name: F, dtype: bool"
            ]
          },
          "metadata": {
            "tags": []
          },
          "execution_count": 301
        }
      ]
    },
    {
      "cell_type": "code",
      "metadata": {
        "id": "o8I-o9aEIyGj",
        "colab": {
          "base_uri": "https://localhost:8080/",
          "height": 133
        },
        "outputId": "223f981c-466c-4216-ad99-b90211d680e9"
      },
      "source": [
        "# F열의 값이 alpha나 beta인 모든 행 구하기\n",
        "df2.loc[df2['F'].isin(['alpha','beta']),:]"
      ],
      "execution_count": null,
      "outputs": [
        {
          "output_type": "execute_result",
          "data": {
            "text/html": [
              "<div>\n",
              "<style scoped>\n",
              "    .dataframe tbody tr th:only-of-type {\n",
              "        vertical-align: middle;\n",
              "    }\n",
              "\n",
              "    .dataframe tbody tr th {\n",
              "        vertical-align: top;\n",
              "    }\n",
              "\n",
              "    .dataframe thead th {\n",
              "        text-align: right;\n",
              "    }\n",
              "</style>\n",
              "<table border=\"1\" class=\"dataframe\">\n",
              "  <thead>\n",
              "    <tr style=\"text-align: right;\">\n",
              "      <th></th>\n",
              "      <th>D</th>\n",
              "      <th>B</th>\n",
              "      <th>C</th>\n",
              "      <th>A</th>\n",
              "      <th>E</th>\n",
              "      <th>F</th>\n",
              "    </tr>\n",
              "  </thead>\n",
              "  <tbody>\n",
              "    <tr>\n",
              "      <th>2016-07-06</th>\n",
              "      <td>-0.983140</td>\n",
              "      <td>-1.394279</td>\n",
              "      <td>1.265968</td>\n",
              "      <td>0.433251</td>\n",
              "      <td>5</td>\n",
              "      <td>alpha</td>\n",
              "    </tr>\n",
              "    <tr>\n",
              "      <th>2016-07-04</th>\n",
              "      <td>-1.918252</td>\n",
              "      <td>-0.996077</td>\n",
              "      <td>0.494349</td>\n",
              "      <td>-0.967119</td>\n",
              "      <td>0</td>\n",
              "      <td>beta</td>\n",
              "    </tr>\n",
              "    <tr>\n",
              "      <th>2016-07-03</th>\n",
              "      <td>-0.543802</td>\n",
              "      <td>0.921574</td>\n",
              "      <td>0.622701</td>\n",
              "      <td>0.724250</td>\n",
              "      <td>0</td>\n",
              "      <td>alpha</td>\n",
              "    </tr>\n",
              "  </tbody>\n",
              "</table>\n",
              "</div>"
            ],
            "text/plain": [
              "                   D         B         C         A  E      F\n",
              "2016-07-06 -0.983140 -1.394279  1.265968  0.433251  5  alpha\n",
              "2016-07-04 -1.918252 -0.996077  0.494349 -0.967119  0   beta\n",
              "2016-07-03 -0.543802  0.921574  0.622701  0.724250  0  alpha"
            ]
          },
          "metadata": {
            "tags": []
          },
          "execution_count": 302
        }
      ]
    },
    {
      "cell_type": "markdown",
      "metadata": {
        "id": "pBEUEVQ3I3s1"
      },
      "source": [
        "사용자가 직접 만든 함수를 적용하기"
      ]
    },
    {
      "cell_type": "code",
      "metadata": {
        "id": "_HG9HV2jIzYN",
        "colab": {
          "base_uri": "https://localhost:8080/",
          "height": 162
        },
        "outputId": "774125ab-543a-4fc3-a566-2e0b0f2e4245"
      },
      "source": [
        "df3 = pd.DataFrame(np.random.randn(4, 3), columns=[\"b\", \"d\", \"e\"],\n",
        "                   index=[\"Seoul\", \"Incheon\", \"Busan\", \"Daegu\"])\n",
        "df3"
      ],
      "execution_count": null,
      "outputs": [
        {
          "output_type": "execute_result",
          "data": {
            "text/html": [
              "<div>\n",
              "<style scoped>\n",
              "    .dataframe tbody tr th:only-of-type {\n",
              "        vertical-align: middle;\n",
              "    }\n",
              "\n",
              "    .dataframe tbody tr th {\n",
              "        vertical-align: top;\n",
              "    }\n",
              "\n",
              "    .dataframe thead th {\n",
              "        text-align: right;\n",
              "    }\n",
              "</style>\n",
              "<table border=\"1\" class=\"dataframe\">\n",
              "  <thead>\n",
              "    <tr style=\"text-align: right;\">\n",
              "      <th></th>\n",
              "      <th>b</th>\n",
              "      <th>d</th>\n",
              "      <th>e</th>\n",
              "    </tr>\n",
              "  </thead>\n",
              "  <tbody>\n",
              "    <tr>\n",
              "      <th>Seoul</th>\n",
              "      <td>-0.320999</td>\n",
              "      <td>-0.166401</td>\n",
              "      <td>0.377123</td>\n",
              "    </tr>\n",
              "    <tr>\n",
              "      <th>Incheon</th>\n",
              "      <td>0.003083</td>\n",
              "      <td>1.521865</td>\n",
              "      <td>-1.254130</td>\n",
              "    </tr>\n",
              "    <tr>\n",
              "      <th>Busan</th>\n",
              "      <td>1.723532</td>\n",
              "      <td>-0.703882</td>\n",
              "      <td>-0.360588</td>\n",
              "    </tr>\n",
              "    <tr>\n",
              "      <th>Daegu</th>\n",
              "      <td>-0.082378</td>\n",
              "      <td>0.828682</td>\n",
              "      <td>2.373489</td>\n",
              "    </tr>\n",
              "  </tbody>\n",
              "</table>\n",
              "</div>"
            ],
            "text/plain": [
              "                b         d         e\n",
              "Seoul   -0.320999 -0.166401  0.377123\n",
              "Incheon  0.003083  1.521865 -1.254130\n",
              "Busan    1.723532 -0.703882 -0.360588\n",
              "Daegu   -0.082378  0.828682  2.373489"
            ]
          },
          "metadata": {
            "tags": []
          },
          "execution_count": 303
        }
      ]
    }
  ]
}