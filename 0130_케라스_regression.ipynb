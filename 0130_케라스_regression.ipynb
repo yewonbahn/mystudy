{
  "nbformat": 4,
  "nbformat_minor": 0,
  "metadata": {
    "colab": {
      "name": "0130_케라스-regression.ipynb",
      "provenance": [],
      "collapsed_sections": [],
      "authorship_tag": "ABX9TyNnr2lNQzz4oOK1TnmDOEwZ",
      "include_colab_link": true
    },
    "kernelspec": {
      "name": "python3",
      "display_name": "Python 3"
    }
  },
  "cells": [
    {
      "cell_type": "markdown",
      "metadata": {
        "id": "view-in-github",
        "colab_type": "text"
      },
      "source": [
        "<a href=\"https://colab.research.google.com/github/yewonbahn/mystudy/blob/master/0130_%EC%BC%80%EB%9D%BC%EC%8A%A4_regression.ipynb\" target=\"_parent\"><img src=\"https://colab.research.google.com/assets/colab-badge.svg\" alt=\"Open In Colab\"/></a>"
      ]
    },
    {
      "cell_type": "code",
      "metadata": {
        "colab": {
          "base_uri": "https://localhost:8080/"
        },
        "id": "bP3tIqHKlEzQ",
        "outputId": "345f5a68-73c9-4bc8-a1d2-5f1b7099287e"
      },
      "source": [
        "from tensorflow.keras.models import Sequential\r\n",
        "from tensorflow.keras.layers import Dense\r\n",
        "import numpy as np\r\n",
        "import tensorflow as tf\r\n",
        "\r\n",
        "np.random.seed(3)\r\n",
        "tf.random.set_seed(3)\r\n",
        "\r\n",
        "Data_set=np.loadtxt(\"/content/0129-1-ThoraricSurgery.csv\",delimiter=\",\")\r\n",
        "Data_set"
      ],
      "execution_count": 5,
      "outputs": [
        {
          "output_type": "execute_result",
          "data": {
            "text/plain": [
              "array([[293.  ,   1.  ,   3.8 , ...,   0.  ,  62.  ,   0.  ],\n",
              "       [  1.  ,   2.  ,   2.88, ...,   0.  ,  60.  ,   0.  ],\n",
              "       [  8.  ,   2.  ,   3.19, ...,   0.  ,  66.  ,   1.  ],\n",
              "       ...,\n",
              "       [406.  ,   6.  ,   5.36, ...,   0.  ,  62.  ,   0.  ],\n",
              "       [ 25.  ,   8.  ,   4.32, ...,   0.  ,  58.  ,   1.  ],\n",
              "       [447.  ,   8.  ,   5.2 , ...,   0.  ,  49.  ,   0.  ]])"
            ]
          },
          "metadata": {
            "tags": []
          },
          "execution_count": 5
        }
      ]
    },
    {
      "cell_type": "code",
      "metadata": {
        "id": "4GaeLhVOm7Ek"
      },
      "source": [
        "X=Data_set[:,0:17]\r\n",
        "Y=Data_set[:,17]"
      ],
      "execution_count": 6,
      "outputs": []
    },
    {
      "cell_type": "markdown",
      "metadata": {
        "id": "GiAv9wCprYjb"
      },
      "source": [
        "Y값은 수술 성공여부를 잘따라할수있는지? \r\n",
        "Y는 타겟 데이터!! X값은 input data!"
      ]
    },
    {
      "cell_type": "markdown",
      "metadata": {
        "id": "HSzz-bp1se1T"
      },
      "source": [
        "케라스를 이용해 학습 시키자!"
      ]
    },
    {
      "cell_type": "code",
      "metadata": {
        "id": "CDpJDKHardYc"
      },
      "source": [
        "model=Sequential()\r\n",
        "model.add(Dense(30,input_dim=17,activation=\"relu\"))\r\n",
        "model.add(Dense(1,activation=\"sigmoid\"))"
      ],
      "execution_count": 8,
      "outputs": []
    },
    {
      "cell_type": "markdown",
      "metadata": {
        "id": "n1rSJ0sRvMKo"
      },
      "source": [
        "결과값은 하나기에 마지막엔 1!"
      ]
    },
    {
      "cell_type": "code",
      "metadata": {
        "id": "5YyjaTTcvAel"
      },
      "source": [
        "model.compile(loss=\"mean_squared_error\",optimizer=\"adam\",metrics=[\"accuracy\"])"
      ],
      "execution_count": 13,
      "outputs": []
    },
    {
      "cell_type": "code",
      "metadata": {
        "colab": {
          "base_uri": "https://localhost:8080/"
        },
        "id": "b3rACMOgvdH9",
        "outputId": "33eb8bcb-cd1d-47aa-a244-59d03f35025b"
      },
      "source": [
        "model.fit(X,Y,epochs=100,batch_size=10)"
      ],
      "execution_count": 14,
      "outputs": [
        {
          "output_type": "stream",
          "text": [
            "Epoch 1/100\n",
            "47/47 [==============================] - 1s 1ms/step - loss: 0.1520 - accuracy: 0.8252\n",
            "Epoch 2/100\n",
            "47/47 [==============================] - 0s 1ms/step - loss: 0.1240 - accuracy: 0.8713\n",
            "Epoch 3/100\n",
            "47/47 [==============================] - 0s 1ms/step - loss: 0.1568 - accuracy: 0.8319\n",
            "Epoch 4/100\n",
            "47/47 [==============================] - 0s 993us/step - loss: 0.1466 - accuracy: 0.8436\n",
            "Epoch 5/100\n",
            "47/47 [==============================] - 0s 1ms/step - loss: 0.1343 - accuracy: 0.8526\n",
            "Epoch 6/100\n",
            "47/47 [==============================] - 0s 963us/step - loss: 0.1413 - accuracy: 0.8516\n",
            "Epoch 7/100\n",
            "47/47 [==============================] - 0s 1ms/step - loss: 0.1398 - accuracy: 0.8419\n",
            "Epoch 8/100\n",
            "47/47 [==============================] - 0s 1ms/step - loss: 0.1380 - accuracy: 0.8468\n",
            "Epoch 9/100\n",
            "47/47 [==============================] - 0s 1ms/step - loss: 0.1194 - accuracy: 0.8629\n",
            "Epoch 10/100\n",
            "47/47 [==============================] - 0s 1ms/step - loss: 0.1230 - accuracy: 0.8682\n",
            "Epoch 11/100\n",
            "47/47 [==============================] - 0s 1ms/step - loss: 0.1472 - accuracy: 0.8482\n",
            "Epoch 12/100\n",
            "47/47 [==============================] - 0s 1ms/step - loss: 0.1457 - accuracy: 0.8410\n",
            "Epoch 13/100\n",
            "47/47 [==============================] - 0s 1ms/step - loss: 0.1551 - accuracy: 0.8261\n",
            "Epoch 14/100\n",
            "47/47 [==============================] - 0s 1ms/step - loss: 0.1462 - accuracy: 0.8437\n",
            "Epoch 15/100\n",
            "47/47 [==============================] - 0s 1ms/step - loss: 0.1400 - accuracy: 0.8465\n",
            "Epoch 16/100\n",
            "47/47 [==============================] - 0s 974us/step - loss: 0.1233 - accuracy: 0.8621\n",
            "Epoch 17/100\n",
            "47/47 [==============================] - 0s 1ms/step - loss: 0.1371 - accuracy: 0.8592\n",
            "Epoch 18/100\n",
            "47/47 [==============================] - 0s 1ms/step - loss: 0.1379 - accuracy: 0.8562\n",
            "Epoch 19/100\n",
            "47/47 [==============================] - 0s 1ms/step - loss: 0.1459 - accuracy: 0.8459\n",
            "Epoch 20/100\n",
            "47/47 [==============================] - 0s 1ms/step - loss: 0.1180 - accuracy: 0.8675\n",
            "Epoch 21/100\n",
            "47/47 [==============================] - 0s 1ms/step - loss: 0.1409 - accuracy: 0.8484\n",
            "Epoch 22/100\n",
            "47/47 [==============================] - 0s 1ms/step - loss: 0.1309 - accuracy: 0.8529\n",
            "Epoch 23/100\n",
            "47/47 [==============================] - 0s 1ms/step - loss: 0.1321 - accuracy: 0.8474\n",
            "Epoch 24/100\n",
            "47/47 [==============================] - 0s 940us/step - loss: 0.1400 - accuracy: 0.8495\n",
            "Epoch 25/100\n",
            "47/47 [==============================] - 0s 1ms/step - loss: 0.1403 - accuracy: 0.8362\n",
            "Epoch 26/100\n",
            "47/47 [==============================] - 0s 1ms/step - loss: 0.1321 - accuracy: 0.8571\n",
            "Epoch 27/100\n",
            "47/47 [==============================] - 0s 1ms/step - loss: 0.1310 - accuracy: 0.8496\n",
            "Epoch 28/100\n",
            "47/47 [==============================] - 0s 1ms/step - loss: 0.1458 - accuracy: 0.8422\n",
            "Epoch 29/100\n",
            "47/47 [==============================] - 0s 1ms/step - loss: 0.1132 - accuracy: 0.8738\n",
            "Epoch 30/100\n",
            "47/47 [==============================] - 0s 1ms/step - loss: 0.0989 - accuracy: 0.8893\n",
            "Epoch 31/100\n",
            "47/47 [==============================] - 0s 1ms/step - loss: 0.1227 - accuracy: 0.8815\n",
            "Epoch 32/100\n",
            "47/47 [==============================] - 0s 1ms/step - loss: 0.1344 - accuracy: 0.8575\n",
            "Epoch 33/100\n",
            "47/47 [==============================] - 0s 1ms/step - loss: 0.1323 - accuracy: 0.8558\n",
            "Epoch 34/100\n",
            "47/47 [==============================] - 0s 974us/step - loss: 0.1333 - accuracy: 0.8596\n",
            "Epoch 35/100\n",
            "47/47 [==============================] - 0s 983us/step - loss: 0.1346 - accuracy: 0.8401\n",
            "Epoch 36/100\n",
            "47/47 [==============================] - 0s 1ms/step - loss: 0.1509 - accuracy: 0.8263\n",
            "Epoch 37/100\n",
            "47/47 [==============================] - 0s 950us/step - loss: 0.1439 - accuracy: 0.8492\n",
            "Epoch 38/100\n",
            "47/47 [==============================] - 0s 1ms/step - loss: 0.1395 - accuracy: 0.8473\n",
            "Epoch 39/100\n",
            "47/47 [==============================] - 0s 1ms/step - loss: 0.1385 - accuracy: 0.8477\n",
            "Epoch 40/100\n",
            "47/47 [==============================] - 0s 1ms/step - loss: 0.1331 - accuracy: 0.8503\n",
            "Epoch 41/100\n",
            "47/47 [==============================] - 0s 1ms/step - loss: 0.1388 - accuracy: 0.8459\n",
            "Epoch 42/100\n",
            "47/47 [==============================] - 0s 1ms/step - loss: 0.1285 - accuracy: 0.8585\n",
            "Epoch 43/100\n",
            "47/47 [==============================] - 0s 1ms/step - loss: 0.1149 - accuracy: 0.8739\n",
            "Epoch 44/100\n",
            "47/47 [==============================] - 0s 1ms/step - loss: 0.1134 - accuracy: 0.8778\n",
            "Epoch 45/100\n",
            "47/47 [==============================] - 0s 989us/step - loss: 0.1420 - accuracy: 0.8530\n",
            "Epoch 46/100\n",
            "47/47 [==============================] - 0s 1ms/step - loss: 0.1383 - accuracy: 0.8432\n",
            "Epoch 47/100\n",
            "47/47 [==============================] - 0s 1ms/step - loss: 0.1098 - accuracy: 0.8807\n",
            "Epoch 48/100\n",
            "47/47 [==============================] - 0s 1ms/step - loss: 0.1266 - accuracy: 0.8643\n",
            "Epoch 49/100\n",
            "47/47 [==============================] - 0s 994us/step - loss: 0.1452 - accuracy: 0.8352\n",
            "Epoch 50/100\n",
            "47/47 [==============================] - 0s 999us/step - loss: 0.1096 - accuracy: 0.8773\n",
            "Epoch 51/100\n",
            "47/47 [==============================] - 0s 1ms/step - loss: 0.1273 - accuracy: 0.8465\n",
            "Epoch 52/100\n",
            "47/47 [==============================] - 0s 967us/step - loss: 0.1331 - accuracy: 0.8556\n",
            "Epoch 53/100\n",
            "47/47 [==============================] - 0s 1ms/step - loss: 0.1296 - accuracy: 0.8508\n",
            "Epoch 54/100\n",
            "47/47 [==============================] - 0s 1ms/step - loss: 0.1415 - accuracy: 0.8355\n",
            "Epoch 55/100\n",
            "47/47 [==============================] - 0s 1ms/step - loss: 0.1246 - accuracy: 0.8567\n",
            "Epoch 56/100\n",
            "47/47 [==============================] - 0s 1ms/step - loss: 0.1350 - accuracy: 0.8462\n",
            "Epoch 57/100\n",
            "47/47 [==============================] - 0s 1ms/step - loss: 0.1265 - accuracy: 0.8469\n",
            "Epoch 58/100\n",
            "47/47 [==============================] - 0s 1ms/step - loss: 0.1129 - accuracy: 0.8601\n",
            "Epoch 59/100\n",
            "47/47 [==============================] - 0s 1ms/step - loss: 0.1470 - accuracy: 0.8379\n",
            "Epoch 60/100\n",
            "47/47 [==============================] - 0s 1ms/step - loss: 0.1104 - accuracy: 0.8760\n",
            "Epoch 61/100\n",
            "47/47 [==============================] - 0s 1ms/step - loss: 0.1153 - accuracy: 0.8788\n",
            "Epoch 62/100\n",
            "47/47 [==============================] - 0s 1ms/step - loss: 0.1301 - accuracy: 0.8480\n",
            "Epoch 63/100\n",
            "47/47 [==============================] - 0s 952us/step - loss: 0.1185 - accuracy: 0.8605\n",
            "Epoch 64/100\n",
            "47/47 [==============================] - 0s 1ms/step - loss: 0.1219 - accuracy: 0.8676\n",
            "Epoch 65/100\n",
            "47/47 [==============================] - 0s 1ms/step - loss: 0.1200 - accuracy: 0.8665\n",
            "Epoch 66/100\n",
            "47/47 [==============================] - 0s 995us/step - loss: 0.1266 - accuracy: 0.8499\n",
            "Epoch 67/100\n",
            "47/47 [==============================] - 0s 1ms/step - loss: 0.1126 - accuracy: 0.8672\n",
            "Epoch 68/100\n",
            "47/47 [==============================] - 0s 977us/step - loss: 0.1174 - accuracy: 0.8668\n",
            "Epoch 69/100\n",
            "47/47 [==============================] - 0s 1ms/step - loss: 0.1418 - accuracy: 0.8272\n",
            "Epoch 70/100\n",
            "47/47 [==============================] - 0s 986us/step - loss: 0.1230 - accuracy: 0.8426\n",
            "Epoch 71/100\n",
            "47/47 [==============================] - 0s 1ms/step - loss: 0.1429 - accuracy: 0.8122\n",
            "Epoch 72/100\n",
            "47/47 [==============================] - 0s 958us/step - loss: 0.1154 - accuracy: 0.8624\n",
            "Epoch 73/100\n",
            "47/47 [==============================] - 0s 1ms/step - loss: 0.1406 - accuracy: 0.8501\n",
            "Epoch 74/100\n",
            "47/47 [==============================] - 0s 1ms/step - loss: 0.1311 - accuracy: 0.8655\n",
            "Epoch 75/100\n",
            "47/47 [==============================] - 0s 1ms/step - loss: 0.1080 - accuracy: 0.8836\n",
            "Epoch 76/100\n",
            "47/47 [==============================] - 0s 1ms/step - loss: 0.1240 - accuracy: 0.8614\n",
            "Epoch 77/100\n",
            "47/47 [==============================] - 0s 1ms/step - loss: 0.1477 - accuracy: 0.8388\n",
            "Epoch 78/100\n",
            "47/47 [==============================] - 0s 1ms/step - loss: 0.1154 - accuracy: 0.8699\n",
            "Epoch 79/100\n",
            "47/47 [==============================] - 0s 1ms/step - loss: 0.1253 - accuracy: 0.8479\n",
            "Epoch 80/100\n",
            "47/47 [==============================] - 0s 1ms/step - loss: 0.1317 - accuracy: 0.8346\n",
            "Epoch 81/100\n",
            "47/47 [==============================] - 0s 1ms/step - loss: 0.1125 - accuracy: 0.8786\n",
            "Epoch 82/100\n",
            "47/47 [==============================] - 0s 989us/step - loss: 0.1262 - accuracy: 0.8512\n",
            "Epoch 83/100\n",
            "47/47 [==============================] - 0s 1ms/step - loss: 0.1432 - accuracy: 0.8419\n",
            "Epoch 84/100\n",
            "47/47 [==============================] - 0s 961us/step - loss: 0.1001 - accuracy: 0.8812\n",
            "Epoch 85/100\n",
            "47/47 [==============================] - 0s 1ms/step - loss: 0.1335 - accuracy: 0.8569\n",
            "Epoch 86/100\n",
            "47/47 [==============================] - 0s 1ms/step - loss: 0.1190 - accuracy: 0.8733\n",
            "Epoch 87/100\n",
            "47/47 [==============================] - 0s 981us/step - loss: 0.1173 - accuracy: 0.8684\n",
            "Epoch 88/100\n",
            "47/47 [==============================] - 0s 1ms/step - loss: 0.1171 - accuracy: 0.8442\n",
            "Epoch 89/100\n",
            "47/47 [==============================] - 0s 1ms/step - loss: 0.1356 - accuracy: 0.8422\n",
            "Epoch 90/100\n",
            "47/47 [==============================] - 0s 1ms/step - loss: 0.1153 - accuracy: 0.8736\n",
            "Epoch 91/100\n",
            "47/47 [==============================] - 0s 1ms/step - loss: 0.1334 - accuracy: 0.8528\n",
            "Epoch 92/100\n",
            "47/47 [==============================] - 0s 990us/step - loss: 0.1310 - accuracy: 0.8512\n",
            "Epoch 93/100\n",
            "47/47 [==============================] - 0s 976us/step - loss: 0.1305 - accuracy: 0.8428\n",
            "Epoch 94/100\n",
            "47/47 [==============================] - 0s 988us/step - loss: 0.1260 - accuracy: 0.8549\n",
            "Epoch 95/100\n",
            "47/47 [==============================] - 0s 1ms/step - loss: 0.1266 - accuracy: 0.8526\n",
            "Epoch 96/100\n",
            "47/47 [==============================] - 0s 1ms/step - loss: 0.1202 - accuracy: 0.8652\n",
            "Epoch 97/100\n",
            "47/47 [==============================] - 0s 1ms/step - loss: 0.1495 - accuracy: 0.8370\n",
            "Epoch 98/100\n",
            "47/47 [==============================] - 0s 1ms/step - loss: 0.1265 - accuracy: 0.8520\n",
            "Epoch 99/100\n",
            "47/47 [==============================] - 0s 1ms/step - loss: 0.1160 - accuracy: 0.8748\n",
            "Epoch 100/100\n",
            "47/47 [==============================] - 0s 1ms/step - loss: 0.1358 - accuracy: 0.8529\n"
          ],
          "name": "stdout"
        },
        {
          "output_type": "execute_result",
          "data": {
            "text/plain": [
              "<tensorflow.python.keras.callbacks.History at 0x7f59aa0245c0>"
            ]
          },
          "metadata": {
            "tags": []
          },
          "execution_count": 14
        }
      ]
    },
    {
      "cell_type": "code",
      "metadata": {
        "id": "HfNZZatevytn"
      },
      "source": [
        ""
      ],
      "execution_count": null,
      "outputs": []
    }
  ]
}